{
 "cells": [
  {
   "cell_type": "code",
   "execution_count": 1,
   "id": "92f78178-c4f7-4e63-89e7-e818dd351b81",
   "metadata": {},
   "outputs": [],
   "source": [
    "import json\n",
    "import pandas as pd\n",
    "import matplotlib as plt"
   ]
  },
  {
   "cell_type": "code",
   "execution_count": 2,
   "id": "7a43d304-070a-4a5a-ad6b-ffc40a4859ac",
   "metadata": {},
   "outputs": [],
   "source": [
    "with open(r\"C:\\Users\\dsilva2\\OneDrive - Kent State University\\Research_KSU_Share\\SocMed-Personal-Data\\instagram-technogecko-2024-08-16-vdXEFDYF\\your_instagram_activity\\likes\\liked_posts.json\") as j:\n",
    "    dict = json.load(j)"
   ]
  },
  {
   "cell_type": "code",
   "execution_count": 3,
   "id": "7e6e4e8a-69f3-4e76-83ea-0d5e17f57532",
   "metadata": {},
   "outputs": [],
   "source": [
    "df = pd.DataFrame(dict)"
   ]
  },
  {
   "cell_type": "code",
   "execution_count": null,
   "id": "eb6f2b48-595a-4602-a7f9-ee51ea33d018",
   "metadata": {},
   "outputs": [],
   "source": [
    "df.head()"
   ]
  },
  {
   "cell_type": "code",
   "execution_count": 5,
   "id": "f90e506f-32bc-40e9-bed1-d13bd1a7d4e8",
   "metadata": {},
   "outputs": [
    {
     "data": {
      "text/plain": [
       "dict_keys(['likes_media_likes'])"
      ]
     },
     "execution_count": 5,
     "metadata": {},
     "output_type": "execute_result"
    }
   ],
   "source": [
    "dict.keys()"
   ]
  },
  {
   "cell_type": "code",
   "execution_count": 7,
   "id": "defd6766-978a-4bce-96bd-41a9cbf7c5b7",
   "metadata": {},
   "outputs": [],
   "source": [
    "df2 = pd.DataFrame(dict['likes_media_likes'])"
   ]
  },
  {
   "cell_type": "code",
   "execution_count": null,
   "id": "53e99ab1-c6eb-4f45-b174-1f4ace7a6f3b",
   "metadata": {},
   "outputs": [],
   "source": [
    "df2.head()"
   ]
  },
  {
   "cell_type": "code",
   "execution_count": 10,
   "id": "69d6f9fc-af90-47a1-8dab-a81a0f93d34c",
   "metadata": {},
   "outputs": [
    {
     "data": {
      "text/plain": [
       "list"
      ]
     },
     "execution_count": 10,
     "metadata": {},
     "output_type": "execute_result"
    }
   ],
   "source": [
    "type(df2['string_list_data'].iloc[0])"
   ]
  },
  {
   "cell_type": "code",
   "execution_count": 11,
   "id": "911e0272-bb0e-4130-ba48-87dcfa81397c",
   "metadata": {},
   "outputs": [
    {
     "data": {
      "text/plain": [
       "1"
      ]
     },
     "execution_count": 11,
     "metadata": {},
     "output_type": "execute_result"
    }
   ],
   "source": [
    "len(df2['string_list_data'].iloc[0])"
   ]
  },
  {
   "cell_type": "code",
   "execution_count": 13,
   "id": "7219207b-06dd-4fa6-bfbb-0ec0c5eb8e36",
   "metadata": {},
   "outputs": [
    {
     "data": {
      "text/plain": [
       "False"
      ]
     },
     "execution_count": 13,
     "metadata": {},
     "output_type": "execute_result"
    }
   ],
   "source": [
    "df2['string_list_data'].iloc[0][0] == df2['string_list_data'].iloc[0]"
   ]
  },
  {
   "cell_type": "code",
   "execution_count": 14,
   "id": "45933a25-8ce2-416d-a0f3-703d71ff3247",
   "metadata": {},
   "outputs": [
    {
     "data": {
      "text/plain": [
       "[{'href': 'https://www.instagram.com/p/C-UPsphucGL/',\n",
       "  'value': 'ð\\x9f\\x91\\x8d',\n",
       "  'timestamp': 1722982058}]"
      ]
     },
     "execution_count": 14,
     "metadata": {},
     "output_type": "execute_result"
    }
   ],
   "source": [
    "df2['string_list_data'].iloc[0]"
   ]
  },
  {
   "cell_type": "code",
   "execution_count": 16,
   "id": "0a2eab46-334a-43ca-9d0f-95f9a5c6ddbd",
   "metadata": {},
   "outputs": [
    {
     "data": {
      "text/plain": [
       "1722982058"
      ]
     },
     "execution_count": 16,
     "metadata": {},
     "output_type": "execute_result"
    }
   ],
   "source": [
    "df2['string_list_data'].iloc[0][0]['timestamp']"
   ]
  },
  {
   "cell_type": "code",
   "execution_count": 21,
   "id": "9e64ca6c-8ed0-4bc6-9356-4f1bea6a230b",
   "metadata": {},
   "outputs": [],
   "source": [
    "df2['Time of Like'] = [x[0]['timestamp'] for x in df2['string_list_data']]"
   ]
  },
  {
   "cell_type": "code",
   "execution_count": 22,
   "id": "234ad23d-b812-476a-a0d4-db67552242dc",
   "metadata": {},
   "outputs": [
    {
     "data": {
      "text/html": [
       "<div>\n",
       "<style scoped>\n",
       "    .dataframe tbody tr th:only-of-type {\n",
       "        vertical-align: middle;\n",
       "    }\n",
       "\n",
       "    .dataframe tbody tr th {\n",
       "        vertical-align: top;\n",
       "    }\n",
       "\n",
       "    .dataframe thead th {\n",
       "        text-align: right;\n",
       "    }\n",
       "</style>\n",
       "<table border=\"1\" class=\"dataframe\">\n",
       "  <thead>\n",
       "    <tr style=\"text-align: right;\">\n",
       "      <th></th>\n",
       "      <th>title</th>\n",
       "      <th>string_list_data</th>\n",
       "      <th>Time of Like</th>\n",
       "    </tr>\n",
       "  </thead>\n",
       "  <tbody>\n",
       "    <tr>\n",
       "      <th>0</th>\n",
       "      <td>gu.comm.unity</td>\n",
       "      <td>[{'href': 'https://www.instagram.com/p/C-UPsph...</td>\n",
       "      <td>1722982058</td>\n",
       "    </tr>\n",
       "    <tr>\n",
       "      <th>1</th>\n",
       "      <td>gonzagacas</td>\n",
       "      <td>[{'href': 'https://www.instagram.com/p/C-N3u6t...</td>\n",
       "      <td>1722713263</td>\n",
       "    </tr>\n",
       "    <tr>\n",
       "      <th>2</th>\n",
       "      <td>batotoyetuportugal</td>\n",
       "      <td>[{'href': 'https://www.instagram.com/p/C97vrPf...</td>\n",
       "      <td>1722102612</td>\n",
       "    </tr>\n",
       "    <tr>\n",
       "      <th>3</th>\n",
       "      <td>melissarohwer</td>\n",
       "      <td>[{'href': 'https://www.instagram.com/reel/C92v...</td>\n",
       "      <td>1721931691</td>\n",
       "    </tr>\n",
       "    <tr>\n",
       "      <th>4</th>\n",
       "      <td>catsandkilos</td>\n",
       "      <td>[{'href': 'https://www.instagram.com/p/C90VZRF...</td>\n",
       "      <td>1721864550</td>\n",
       "    </tr>\n",
       "  </tbody>\n",
       "</table>\n",
       "</div>"
      ],
      "text/plain": [
       "                title                                   string_list_data  \\\n",
       "0       gu.comm.unity  [{'href': 'https://www.instagram.com/p/C-UPsph...   \n",
       "1          gonzagacas  [{'href': 'https://www.instagram.com/p/C-N3u6t...   \n",
       "2  batotoyetuportugal  [{'href': 'https://www.instagram.com/p/C97vrPf...   \n",
       "3       melissarohwer  [{'href': 'https://www.instagram.com/reel/C92v...   \n",
       "4        catsandkilos  [{'href': 'https://www.instagram.com/p/C90VZRF...   \n",
       "\n",
       "   Time of Like  \n",
       "0    1722982058  \n",
       "1    1722713263  \n",
       "2    1722102612  \n",
       "3    1721931691  \n",
       "4    1721864550  "
      ]
     },
     "execution_count": 22,
     "metadata": {},
     "output_type": "execute_result"
    }
   ],
   "source": [
    "df2.head()"
   ]
  },
  {
   "cell_type": "code",
   "execution_count": 24,
   "id": "d815ac70-84f7-42ce-956e-e4c05fe87b7b",
   "metadata": {},
   "outputs": [],
   "source": [
    "df3 = pd.DataFrame([x[0] for x in df2['string_list_data']])"
   ]
  },
  {
   "cell_type": "code",
   "execution_count": 29,
   "id": "05e09449-6f10-435a-9bc5-b2b07e876b3a",
   "metadata": {},
   "outputs": [
    {
     "data": {
      "text/html": [
       "<div>\n",
       "<style scoped>\n",
       "    .dataframe tbody tr th:only-of-type {\n",
       "        vertical-align: middle;\n",
       "    }\n",
       "\n",
       "    .dataframe tbody tr th {\n",
       "        vertical-align: top;\n",
       "    }\n",
       "\n",
       "    .dataframe thead th {\n",
       "        text-align: right;\n",
       "    }\n",
       "</style>\n",
       "<table border=\"1\" class=\"dataframe\">\n",
       "  <thead>\n",
       "    <tr style=\"text-align: right;\">\n",
       "      <th></th>\n",
       "      <th>href</th>\n",
       "      <th>value</th>\n",
       "      <th>timestamp</th>\n",
       "    </tr>\n",
       "  </thead>\n",
       "  <tbody>\n",
       "    <tr>\n",
       "      <th>0</th>\n",
       "      <td>https://www.instagram.com/p/C-UPsphucGL/</td>\n",
       "      <td>ð</td>\n",
       "      <td>1722982058</td>\n",
       "    </tr>\n",
       "    <tr>\n",
       "      <th>1</th>\n",
       "      <td>https://www.instagram.com/p/C-N3u6tOBNs/</td>\n",
       "      <td>ð</td>\n",
       "      <td>1722713263</td>\n",
       "    </tr>\n",
       "    <tr>\n",
       "      <th>2</th>\n",
       "      <td>https://www.instagram.com/p/C97vrPfsF3j/</td>\n",
       "      <td>ð</td>\n",
       "      <td>1722102612</td>\n",
       "    </tr>\n",
       "    <tr>\n",
       "      <th>3</th>\n",
       "      <td>https://www.instagram.com/reel/C92viGvMcyu/</td>\n",
       "      <td>ð</td>\n",
       "      <td>1721931691</td>\n",
       "    </tr>\n",
       "    <tr>\n",
       "      <th>4</th>\n",
       "      <td>https://www.instagram.com/p/C90VZRFSuXv/</td>\n",
       "      <td>ð</td>\n",
       "      <td>1721864550</td>\n",
       "    </tr>\n",
       "  </tbody>\n",
       "</table>\n",
       "</div>"
      ],
      "text/plain": [
       "                                          href value   timestamp\n",
       "0     https://www.instagram.com/p/C-UPsphucGL/  ð  1722982058\n",
       "1     https://www.instagram.com/p/C-N3u6tOBNs/  ð  1722713263\n",
       "2     https://www.instagram.com/p/C97vrPfsF3j/  ð  1722102612\n",
       "3  https://www.instagram.com/reel/C92viGvMcyu/  ð  1721931691\n",
       "4     https://www.instagram.com/p/C90VZRFSuXv/  ð  1721864550"
      ]
     },
     "execution_count": 29,
     "metadata": {},
     "output_type": "execute_result"
    }
   ],
   "source": [
    "new_things = [x[0] for x in df2['string_list_data']]\n",
    "pd.DataFrame(new_things).head()"
   ]
  },
  {
   "cell_type": "code",
   "execution_count": 27,
   "id": "37804e24-c2d6-403f-b2b6-271d91cb30a3",
   "metadata": {},
   "outputs": [
    {
     "data": {
      "text/html": [
       "<div>\n",
       "<style scoped>\n",
       "    .dataframe tbody tr th:only-of-type {\n",
       "        vertical-align: middle;\n",
       "    }\n",
       "\n",
       "    .dataframe tbody tr th {\n",
       "        vertical-align: top;\n",
       "    }\n",
       "\n",
       "    .dataframe thead th {\n",
       "        text-align: right;\n",
       "    }\n",
       "</style>\n",
       "<table border=\"1\" class=\"dataframe\">\n",
       "  <thead>\n",
       "    <tr style=\"text-align: right;\">\n",
       "      <th></th>\n",
       "      <th>href</th>\n",
       "      <th>value</th>\n",
       "      <th>timestamp</th>\n",
       "      <th>title</th>\n",
       "    </tr>\n",
       "  </thead>\n",
       "  <tbody>\n",
       "    <tr>\n",
       "      <th>0</th>\n",
       "      <td>https://www.instagram.com/p/C-UPsphucGL/</td>\n",
       "      <td>ð</td>\n",
       "      <td>1722982058</td>\n",
       "      <td>gu.comm.unity</td>\n",
       "    </tr>\n",
       "    <tr>\n",
       "      <th>1</th>\n",
       "      <td>https://www.instagram.com/p/C-N3u6tOBNs/</td>\n",
       "      <td>ð</td>\n",
       "      <td>1722713263</td>\n",
       "      <td>gonzagacas</td>\n",
       "    </tr>\n",
       "    <tr>\n",
       "      <th>2</th>\n",
       "      <td>https://www.instagram.com/p/C97vrPfsF3j/</td>\n",
       "      <td>ð</td>\n",
       "      <td>1722102612</td>\n",
       "      <td>batotoyetuportugal</td>\n",
       "    </tr>\n",
       "    <tr>\n",
       "      <th>3</th>\n",
       "      <td>https://www.instagram.com/reel/C92viGvMcyu/</td>\n",
       "      <td>ð</td>\n",
       "      <td>1721931691</td>\n",
       "      <td>melissarohwer</td>\n",
       "    </tr>\n",
       "    <tr>\n",
       "      <th>4</th>\n",
       "      <td>https://www.instagram.com/p/C90VZRFSuXv/</td>\n",
       "      <td>ð</td>\n",
       "      <td>1721864550</td>\n",
       "      <td>catsandkilos</td>\n",
       "    </tr>\n",
       "  </tbody>\n",
       "</table>\n",
       "</div>"
      ],
      "text/plain": [
       "                                          href value   timestamp  \\\n",
       "0     https://www.instagram.com/p/C-UPsphucGL/  ð  1722982058   \n",
       "1     https://www.instagram.com/p/C-N3u6tOBNs/  ð  1722713263   \n",
       "2     https://www.instagram.com/p/C97vrPfsF3j/  ð  1722102612   \n",
       "3  https://www.instagram.com/reel/C92viGvMcyu/  ð  1721931691   \n",
       "4     https://www.instagram.com/p/C90VZRFSuXv/  ð  1721864550   \n",
       "\n",
       "                title  \n",
       "0       gu.comm.unity  \n",
       "1          gonzagacas  \n",
       "2  batotoyetuportugal  \n",
       "3       melissarohwer  \n",
       "4        catsandkilos  "
      ]
     },
     "execution_count": 27,
     "metadata": {},
     "output_type": "execute_result"
    }
   ],
   "source": [
    "df3['title'] = df2['title']\n",
    "df3.head()"
   ]
  },
  {
   "cell_type": "code",
   "execution_count": 35,
   "id": "34d9ed51-fa63-4834-8c63-f52584c52858",
   "metadata": {},
   "outputs": [
    {
     "data": {
      "text/html": [
       "<div>\n",
       "<style scoped>\n",
       "    .dataframe tbody tr th:only-of-type {\n",
       "        vertical-align: middle;\n",
       "    }\n",
       "\n",
       "    .dataframe tbody tr th {\n",
       "        vertical-align: top;\n",
       "    }\n",
       "\n",
       "    .dataframe thead th {\n",
       "        text-align: right;\n",
       "    }\n",
       "</style>\n",
       "<table border=\"1\" class=\"dataframe\">\n",
       "  <thead>\n",
       "    <tr style=\"text-align: right;\">\n",
       "      <th></th>\n",
       "      <th>href</th>\n",
       "      <th>value</th>\n",
       "      <th>timestamp</th>\n",
       "    </tr>\n",
       "    <tr>\n",
       "      <th>title</th>\n",
       "      <th></th>\n",
       "      <th></th>\n",
       "      <th></th>\n",
       "    </tr>\n",
       "  </thead>\n",
       "  <tbody>\n",
       "    <tr>\n",
       "      <th>ali_saurusrex</th>\n",
       "      <td>94</td>\n",
       "      <td>94</td>\n",
       "      <td>94</td>\n",
       "    </tr>\n",
       "    <tr>\n",
       "      <th>cacandassociates</th>\n",
       "      <td>41</td>\n",
       "      <td>41</td>\n",
       "      <td>41</td>\n",
       "    </tr>\n",
       "    <tr>\n",
       "      <th>ccikentstate</th>\n",
       "      <td>31</td>\n",
       "      <td>31</td>\n",
       "      <td>31</td>\n",
       "    </tr>\n",
       "    <tr>\n",
       "      <th>aroseroar16</th>\n",
       "      <td>30</td>\n",
       "      <td>30</td>\n",
       "      <td>30</td>\n",
       "    </tr>\n",
       "    <tr>\n",
       "      <th>orangekoala2</th>\n",
       "      <td>29</td>\n",
       "      <td>29</td>\n",
       "      <td>29</td>\n",
       "    </tr>\n",
       "    <tr>\n",
       "      <th>inalull</th>\n",
       "      <td>24</td>\n",
       "      <td>24</td>\n",
       "      <td>24</td>\n",
       "    </tr>\n",
       "    <tr>\n",
       "      <th>reams_esq</th>\n",
       "      <td>23</td>\n",
       "      <td>23</td>\n",
       "      <td>23</td>\n",
       "    </tr>\n",
       "    <tr>\n",
       "      <th>a_matt_silva</th>\n",
       "      <td>18</td>\n",
       "      <td>18</td>\n",
       "      <td>18</td>\n",
       "    </tr>\n",
       "    <tr>\n",
       "      <th>colin_storm</th>\n",
       "      <td>18</td>\n",
       "      <td>18</td>\n",
       "      <td>18</td>\n",
       "    </tr>\n",
       "    <tr>\n",
       "      <th>danneabreanne</th>\n",
       "      <td>17</td>\n",
       "      <td>17</td>\n",
       "      <td>17</td>\n",
       "    </tr>\n",
       "  </tbody>\n",
       "</table>\n",
       "</div>"
      ],
      "text/plain": [
       "                  href  value  timestamp\n",
       "title                                   \n",
       "ali_saurusrex       94     94         94\n",
       "cacandassociates    41     41         41\n",
       "ccikentstate        31     31         31\n",
       "aroseroar16         30     30         30\n",
       "orangekoala2        29     29         29\n",
       "inalull             24     24         24\n",
       "reams_esq           23     23         23\n",
       "a_matt_silva        18     18         18\n",
       "colin_storm         18     18         18\n",
       "danneabreanne       17     17         17"
      ]
     },
     "execution_count": 35,
     "metadata": {},
     "output_type": "execute_result"
    }
   ],
   "source": [
    "df3.groupby('title').count().\\\n",
    "sort_values('href', ascending = False).head(10)"
   ]
  }
 ],
 "metadata": {
  "kernelspec": {
   "display_name": "Python 3 (ipykernel)",
   "language": "python",
   "name": "python3"
  },
  "language_info": {
   "codemirror_mode": {
    "name": "ipython",
    "version": 3
   },
   "file_extension": ".py",
   "mimetype": "text/x-python",
   "name": "python",
   "nbconvert_exporter": "python",
   "pygments_lexer": "ipython3",
   "version": "3.12.4"
  }
 },
 "nbformat": 4,
 "nbformat_minor": 5
}
