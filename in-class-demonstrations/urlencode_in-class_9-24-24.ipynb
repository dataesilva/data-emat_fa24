{
 "cells": [
  {
   "cell_type": "code",
   "execution_count": 1,
   "id": "390e0c3e-6086-4efd-9c6a-6a69bd1e55f2",
   "metadata": {},
   "outputs": [],
   "source": [
    "import urllib\n",
    "import requests\n",
    "import pandas as pd\n",
    "import json\n",
    "import base64"
   ]
  },
  {
   "cell_type": "code",
   "execution_count": 2,
   "id": "85bd4a86-db84-48b3-8958-42bab26afae5",
   "metadata": {},
   "outputs": [
    {
     "data": {
      "text/plain": [
       "'david+%3A%25%26%3D+silva'"
      ]
     },
     "execution_count": 2,
     "metadata": {},
     "output_type": "execute_result"
    }
   ],
   "source": [
    "text = 'david :%&= silva'\n",
    "urllib.parse.quote_plus(text)"
   ]
  },
  {
   "cell_type": "code",
   "execution_count": 3,
   "id": "afe8790c-7d19-4adc-9d39-6e2ad58a0899",
   "metadata": {},
   "outputs": [],
   "source": [
    "query = 'artist:silva genre:pop tag:new'\n",
    "url_query = urllib.parse.quote_plus(query)"
   ]
  },
  {
   "cell_type": "code",
   "execution_count": 4,
   "id": "043b5d21-a4b4-4cd9-9216-b07367eb6c65",
   "metadata": {},
   "outputs": [],
   "source": [
    "def get_session_token(SessionID, SessionKey):\n",
    "    url = 'https://accounts.spotify.com/api/token'\n",
    "    data = {'grant_type':'client_credentials'}\n",
    "    encoded_key = base64.b64encode(str(SessionID + \":\" + SessionKey).\\\n",
    "                                   encode(\"ascii\"))\n",
    "    header = {'Authorization': 'Basic {}'.format(encoded_key.decode(\"ascii\"))}\n",
    "    response = requests.post(url,\n",
    "                            data = data,\n",
    "                            headers = header)\n",
    "    print(response.status_code)\n",
    "    return response.json()['access_token']"
   ]
  },
  {
   "cell_type": "code",
   "execution_count": 5,
   "id": "bfa92730-082a-4de1-8952-5a5c57073e9e",
   "metadata": {},
   "outputs": [],
   "source": [
    "keys = pd.read_csv(r\"../..\\Dropbox\\Kent\\EMAT-32210_Data-in-EMAT\\Spotify-Keys_9-12-23.txt\")"
   ]
  },
  {
   "cell_type": "code",
   "execution_count": 6,
   "id": "15075767-9cb0-48f7-8006-ce9502c8b1f6",
   "metadata": {},
   "outputs": [],
   "source": [
    "# keys"
   ]
  },
  {
   "cell_type": "code",
   "execution_count": 7,
   "id": "08d97f95-238d-4c68-b885-3a5921e6275e",
   "metadata": {},
   "outputs": [
    {
     "name": "stdout",
     "output_type": "stream",
     "text": [
      "200\n"
     ]
    }
   ],
   "source": [
    "access_token = get_session_token(keys['Client_ID'].iloc[0], keys['Client_Secret'].iloc[0])"
   ]
  },
  {
   "cell_type": "code",
   "execution_count": 8,
   "id": "2e987ecc-9307-45e1-9e4f-4376092e8901",
   "metadata": {},
   "outputs": [],
   "source": [
    "# access_token"
   ]
  }
 ],
 "metadata": {
  "kernelspec": {
   "display_name": "Python 3 (ipykernel)",
   "language": "python",
   "name": "python3"
  },
  "language_info": {
   "codemirror_mode": {
    "name": "ipython",
    "version": 3
   },
   "file_extension": ".py",
   "mimetype": "text/x-python",
   "name": "python",
   "nbconvert_exporter": "python",
   "pygments_lexer": "ipython3",
   "version": "3.12.4"
  }
 },
 "nbformat": 4,
 "nbformat_minor": 5
}
