{
 "cells": [
  {
   "cell_type": "markdown",
   "id": "2ded1d76-f9b5-483c-b1e0-065715a864ea",
   "metadata": {},
   "source": [
    "# Systems Check\n",
    "## David E. Silva\n",
    "### 8/22/2024\n",
    "\n",
    "In this class I want to learn to __fly__. This will help me catch _ducks_ who will be my friends.\n",
    "Ducks can:\n",
    "1. fly\n",
    "2. quack\n",
    "3. code in python\n",
    "- when taught\n",
    "- after the age of three\n",
    "\n",
    "![ducks](https://upload.wikimedia.org/wikipedia/commons/thumb/b/bf/Anas_platyrhynchos_male_female_quadrat.jpg/330px-Anas_platyrhynchos_male_female_quadrat.jpg)"
   ]
  }
 ],
 "metadata": {
  "kernelspec": {
   "display_name": "Python 3 (ipykernel)",
   "language": "python",
   "name": "python3"
  },
  "language_info": {
   "codemirror_mode": {
    "name": "ipython",
    "version": 3
   },
   "file_extension": ".py",
   "mimetype": "text/x-python",
   "name": "python",
   "nbconvert_exporter": "python",
   "pygments_lexer": "ipython3",
   "version": "3.12.4"
  }
 },
 "nbformat": 4,
 "nbformat_minor": 5
}
