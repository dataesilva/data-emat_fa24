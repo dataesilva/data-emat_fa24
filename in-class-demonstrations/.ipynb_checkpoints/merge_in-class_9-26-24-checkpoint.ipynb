{
 "cells": [
  {
   "cell_type": "code",
   "execution_count": 1,
   "id": "390e0c3e-6086-4efd-9c6a-6a69bd1e55f2",
   "metadata": {},
   "outputs": [],
   "source": [
    "import urllib\n",
    "import requests\n",
    "import pandas as pd\n",
    "import json\n",
    "import base64"
   ]
  },
  {
   "cell_type": "code",
   "execution_count": 2,
   "id": "85bd4a86-db84-48b3-8958-42bab26afae5",
   "metadata": {},
   "outputs": [
    {
     "data": {
      "text/plain": [
       "'david+%3A%25%26%3D+silva'"
      ]
     },
     "execution_count": 2,
     "metadata": {},
     "output_type": "execute_result"
    }
   ],
   "source": [
    "text = 'david :%&= silva'\n",
    "urllib.parse.quote_plus(text)"
   ]
  },
  {
   "cell_type": "code",
   "execution_count": 3,
   "id": "afe8790c-7d19-4adc-9d39-6e2ad58a0899",
   "metadata": {},
   "outputs": [],
   "source": [
    "query = 'artist:silva genre:pop tag:new'\n",
    "url_query = urllib.parse.quote_plus(query)"
   ]
  },
  {
   "cell_type": "code",
   "execution_count": 4,
   "id": "043b5d21-a4b4-4cd9-9216-b07367eb6c65",
   "metadata": {},
   "outputs": [],
   "source": [
    "def get_session_token(SessionID, SessionKey):\n",
    "    url = 'https://accounts.spotify.com/api/token'\n",
    "    data = {'grant_type':'client_credentials'}\n",
    "    encoded_key = base64.b64encode(str(SessionID + \":\" + SessionKey).\\\n",
    "                                   encode(\"ascii\"))\n",
    "    header = {'Authorization': 'Basic {}'.format(encoded_key.decode(\"ascii\"))}\n",
    "    response = requests.post(url,\n",
    "                            data = data,\n",
    "                            headers = header)\n",
    "    print(response.status_code)\n",
    "    return response.json()['access_token']"
   ]
  },
  {
   "cell_type": "code",
   "execution_count": 5,
   "id": "bfa92730-082a-4de1-8952-5a5c57073e9e",
   "metadata": {},
   "outputs": [],
   "source": [
    "keys = pd.read_csv(r\"../..\\Dropbox\\Kent\\EMAT-32210_Data-in-EMAT\\Spotify-Keys_9-12-23.txt\")"
   ]
  },
  {
   "cell_type": "code",
   "execution_count": 6,
   "id": "15075767-9cb0-48f7-8006-ce9502c8b1f6",
   "metadata": {},
   "outputs": [],
   "source": [
    "# keys"
   ]
  },
  {
   "cell_type": "code",
   "execution_count": 7,
   "id": "08d97f95-238d-4c68-b885-3a5921e6275e",
   "metadata": {},
   "outputs": [
    {
     "name": "stdout",
     "output_type": "stream",
     "text": [
      "200\n"
     ]
    }
   ],
   "source": [
    "access_token = get_session_token(keys['Client_ID'].iloc[0], keys['Client_Secret'].iloc[0])"
   ]
  },
  {
   "cell_type": "code",
   "execution_count": 8,
   "id": "2e987ecc-9307-45e1-9e4f-4376092e8901",
   "metadata": {},
   "outputs": [
    {
     "data": {
      "text/plain": [
       "'BQC8hoVlw_XHlmrf3aIcz3Q6PDFvmbGYMxg6uGSaKhO3-Donz7PKV6vRiB2ursSno2FYSVqS2V57RHU0amLbT_WLp53qQONyR0qSOR8K94wRecDku_g'"
      ]
     },
     "execution_count": 8,
     "metadata": {},
     "output_type": "execute_result"
    }
   ],
   "source": [
    "access_token"
   ]
  },
  {
   "cell_type": "code",
   "execution_count": 13,
   "id": "64b09e75-4f7c-4409-9751-ebd5ee4003b8",
   "metadata": {},
   "outputs": [],
   "source": [
    "t_features_ep = 'https://api.spotify.com/v1/audio-features'\n",
    "tracks_ep = 'https://api.spotify.com/v1/tracks'\n",
    "ab_tracks_ep = 'https://api.spotify.com/v1/albums/{}/tracks'"
   ]
  },
  {
   "cell_type": "code",
   "execution_count": 18,
   "id": "98febb8a-f511-4fd2-9e24-a82c28a1b611",
   "metadata": {},
   "outputs": [],
   "source": [
    "def api_call(endpoint_url, api_header):\n",
    "    response = requests.get(endpoint_url, headers = api_header)\n",
    "    print(response.status_code)\n",
    "    return response.json()"
   ]
  },
  {
   "cell_type": "code",
   "execution_count": 10,
   "id": "968b94bb-0e8b-4170-b42d-17dcc755349b",
   "metadata": {},
   "outputs": [],
   "source": [
    "session_header = {'Authorization': 'Bearer {}'.format(access_token)}"
   ]
  },
  {
   "cell_type": "code",
   "execution_count": 11,
   "id": "9863be51-c1a9-450e-be68-bf93482232da",
   "metadata": {},
   "outputs": [],
   "source": [
    "sc_album_id = '3iPSVi54hsacKKl1xIR2eH'\n",
    "cr_album_id = '0EiI8ylL0FmWWpgHVTsZjZ'"
   ]
  },
  {
   "cell_type": "code",
   "execution_count": 14,
   "id": "4efa3977-d9f9-424a-b0cb-85fab80ab189",
   "metadata": {},
   "outputs": [
    {
     "data": {
      "text/plain": [
       "'https://api.spotify.com/v1/albums/3iPSVi54hsacKKl1xIR2eH/tracks'"
      ]
     },
     "execution_count": 14,
     "metadata": {},
     "output_type": "execute_result"
    }
   ],
   "source": [
    "ab_tracks_ep.format(sc_album_id)"
   ]
  },
  {
   "cell_type": "code",
   "execution_count": 21,
   "id": "ba3066a6-706d-4c04-b27b-e1bd60a3eec9",
   "metadata": {},
   "outputs": [
    {
     "name": "stdout",
     "output_type": "stream",
     "text": [
      "200\n",
      "200\n"
     ]
    }
   ],
   "source": [
    "sc_album_response = api_call(ab_tracks_ep.format(sc_album_id), session_header)\n",
    "cr_album_response = api_call(ab_tracks_ep.format(cr_album_id), session_header)"
   ]
  },
  {
   "cell_type": "code",
   "execution_count": 28,
   "id": "3becc32b-aeb5-40b2-a609-0bec70da2128",
   "metadata": {},
   "outputs": [],
   "source": [
    "sc_album_df = pd.DataFrame(sc_album_response['items'])\n",
    "cr_album_df = pd.DataFrame(cr_album_response['items'])\n",
    "# sc_album_df.head()"
   ]
  },
  {
   "cell_type": "code",
   "execution_count": 31,
   "id": "c18a59c8-e8cb-4974-a22b-5d8fb53e3428",
   "metadata": {},
   "outputs": [],
   "source": [
    "sc_track_ids = ','.join(sc_album_df['id'].to_list())\n",
    "cr_track_ids = ','.join(cr_album_df['id'].to_list())"
   ]
  },
  {
   "cell_type": "code",
   "execution_count": 33,
   "id": "023caf60-19e6-4eb6-99f9-84a359702a69",
   "metadata": {},
   "outputs": [
    {
     "data": {
      "text/plain": [
       "'https://api.spotify.com/v1/audio-features?ids=5G2f63n7IPVPPjfNIGih7Q,2tHwzyyOLoWSFqYNjeVMzj,102YUQbYmwdBXS7jwamI90,3iPIDAFybaoyqX7hvAfWkl,5oIVNm56t6OIf9ZjdEG3ud,1UHS8Rf6h5Ar3CDWRd3wjF,2HRqTpkrJO5ggZyyK6NPWz,5VhvD0AKRprEaFtPNKGBQR,0XkZmBCCcdMY0EPY8ij6Gb,21B4gaTWnTkuSh77iWEXdS,5il0jwWUlvgtIzWvzJi12z,09LrGvT9KsACH66RHYMDyR'"
      ]
     },
     "execution_count": 33,
     "metadata": {},
     "output_type": "execute_result"
    }
   ],
   "source": [
    "t_features_ep + '?ids={}'.format(sc_track_ids)"
   ]
  },
  {
   "cell_type": "code",
   "execution_count": 34,
   "id": "4af68cc8-c66e-4f3c-ae84-8e25afdab5eb",
   "metadata": {},
   "outputs": [
    {
     "name": "stdout",
     "output_type": "stream",
     "text": [
      "200\n",
      "200\n"
     ]
    }
   ],
   "source": [
    "sc_track_features = api_call(t_features_ep + '?ids={}'.format(sc_track_ids),\n",
    "                             session_header)\n",
    "cr_track_features = api_call(t_features_ep + '?ids={}'.format(cr_track_ids),\n",
    "                             session_header)"
   ]
  },
  {
   "cell_type": "code",
   "execution_count": 35,
   "id": "8258e88b-13be-4034-a0a9-c4d08b6ed7b3",
   "metadata": {},
   "outputs": [
    {
     "name": "stdout",
     "output_type": "stream",
     "text": [
      "200\n",
      "200\n"
     ]
    }
   ],
   "source": [
    "sc_track_info = api_call(tracks_ep + '?market=US&ids={}'.format(sc_track_ids),\n",
    "                             session_header)\n",
    "cr_track_info = api_call(tracks_ep + '?market=US&ids={}'.format(cr_track_ids),\n",
    "                             session_header)"
   ]
  },
  {
   "cell_type": "code",
   "execution_count": 39,
   "id": "55e864dc-6a31-4d47-8e95-3dec7140cd41",
   "metadata": {},
   "outputs": [],
   "source": [
    "sc_features_df = pd.DataFrame(sc_track_features['audio_features'])\n",
    "cr_features_df = pd.DataFrame(cr_track_features['audio_features'])\n",
    "# sc_features_df.head()"
   ]
  },
  {
   "cell_type": "code",
   "execution_count": 43,
   "id": "0320f83b-3226-4d69-9bf7-31cf89d5a2df",
   "metadata": {},
   "outputs": [
    {
     "data": {
      "text/html": [
       "<div>\n",
       "<style scoped>\n",
       "    .dataframe tbody tr th:only-of-type {\n",
       "        vertical-align: middle;\n",
       "    }\n",
       "\n",
       "    .dataframe tbody tr th {\n",
       "        vertical-align: top;\n",
       "    }\n",
       "\n",
       "    .dataframe thead th {\n",
       "        text-align: right;\n",
       "    }\n",
       "</style>\n",
       "<table border=\"1\" class=\"dataframe\">\n",
       "  <thead>\n",
       "    <tr style=\"text-align: right;\">\n",
       "      <th></th>\n",
       "      <th>album</th>\n",
       "      <th>artists</th>\n",
       "      <th>disc_number</th>\n",
       "      <th>duration_ms</th>\n",
       "      <th>explicit</th>\n",
       "      <th>external_ids</th>\n",
       "      <th>external_urls</th>\n",
       "      <th>href</th>\n",
       "      <th>id</th>\n",
       "      <th>is_local</th>\n",
       "      <th>is_playable</th>\n",
       "      <th>name</th>\n",
       "      <th>popularity</th>\n",
       "      <th>track_number</th>\n",
       "      <th>type</th>\n",
       "      <th>uri</th>\n",
       "    </tr>\n",
       "  </thead>\n",
       "  <tbody>\n",
       "    <tr>\n",
       "      <th>0</th>\n",
       "      <td>{'album_type': 'album', 'artists': [{'external...</td>\n",
       "      <td>[{'external_urls': {'spotify': 'https://open.s...</td>\n",
       "      <td>1</td>\n",
       "      <td>157279</td>\n",
       "      <td>False</td>\n",
       "      <td>{'isrc': 'USUM72404100'}</td>\n",
       "      <td>{'spotify': 'https://open.spotify.com/track/5G...</td>\n",
       "      <td>https://api.spotify.com/v1/tracks/5G2f63n7IPVP...</td>\n",
       "      <td>5G2f63n7IPVPPjfNIGih7Q</td>\n",
       "      <td>False</td>\n",
       "      <td>True</td>\n",
       "      <td>Taste</td>\n",
       "      <td>96</td>\n",
       "      <td>1</td>\n",
       "      <td>track</td>\n",
       "      <td>spotify:track:5G2f63n7IPVPPjfNIGih7Q</td>\n",
       "    </tr>\n",
       "    <tr>\n",
       "      <th>1</th>\n",
       "      <td>{'album_type': 'album', 'artists': [{'external...</td>\n",
       "      <td>[{'external_urls': {'spotify': 'https://open.s...</td>\n",
       "      <td>1</td>\n",
       "      <td>186365</td>\n",
       "      <td>True</td>\n",
       "      <td>{'isrc': 'USUM72404101'}</td>\n",
       "      <td>{'spotify': 'https://open.spotify.com/track/2t...</td>\n",
       "      <td>https://api.spotify.com/v1/tracks/2tHwzyyOLoWS...</td>\n",
       "      <td>2tHwzyyOLoWSFqYNjeVMzj</td>\n",
       "      <td>False</td>\n",
       "      <td>True</td>\n",
       "      <td>Please Please Please</td>\n",
       "      <td>84</td>\n",
       "      <td>2</td>\n",
       "      <td>track</td>\n",
       "      <td>spotify:track:2tHwzyyOLoWSFqYNjeVMzj</td>\n",
       "    </tr>\n",
       "    <tr>\n",
       "      <th>2</th>\n",
       "      <td>{'album_type': 'album', 'artists': [{'external...</td>\n",
       "      <td>[{'external_urls': {'spotify': 'https://open.s...</td>\n",
       "      <td>1</td>\n",
       "      <td>185265</td>\n",
       "      <td>True</td>\n",
       "      <td>{'isrc': 'USUM72404102'}</td>\n",
       "      <td>{'spotify': 'https://open.spotify.com/track/10...</td>\n",
       "      <td>https://api.spotify.com/v1/tracks/102YUQbYmwdB...</td>\n",
       "      <td>102YUQbYmwdBXS7jwamI90</td>\n",
       "      <td>False</td>\n",
       "      <td>True</td>\n",
       "      <td>Good Graces</td>\n",
       "      <td>89</td>\n",
       "      <td>3</td>\n",
       "      <td>track</td>\n",
       "      <td>spotify:track:102YUQbYmwdBXS7jwamI90</td>\n",
       "    </tr>\n",
       "    <tr>\n",
       "      <th>3</th>\n",
       "      <td>{'album_type': 'album', 'artists': [{'external...</td>\n",
       "      <td>[{'external_urls': {'spotify': 'https://open.s...</td>\n",
       "      <td>1</td>\n",
       "      <td>218284</td>\n",
       "      <td>True</td>\n",
       "      <td>{'isrc': 'USUM72404104'}</td>\n",
       "      <td>{'spotify': 'https://open.spotify.com/track/3i...</td>\n",
       "      <td>https://api.spotify.com/v1/tracks/3iPIDAFybaoy...</td>\n",
       "      <td>3iPIDAFybaoyqX7hvAfWkl</td>\n",
       "      <td>False</td>\n",
       "      <td>True</td>\n",
       "      <td>Sharpest Tool</td>\n",
       "      <td>86</td>\n",
       "      <td>4</td>\n",
       "      <td>track</td>\n",
       "      <td>spotify:track:3iPIDAFybaoyqX7hvAfWkl</td>\n",
       "    </tr>\n",
       "    <tr>\n",
       "      <th>4</th>\n",
       "      <td>{'album_type': 'album', 'artists': [{'external...</td>\n",
       "      <td>[{'external_urls': {'spotify': 'https://open.s...</td>\n",
       "      <td>1</td>\n",
       "      <td>164202</td>\n",
       "      <td>False</td>\n",
       "      <td>{'isrc': 'USUM72405667'}</td>\n",
       "      <td>{'spotify': 'https://open.spotify.com/track/5o...</td>\n",
       "      <td>https://api.spotify.com/v1/tracks/5oIVNm56t6OI...</td>\n",
       "      <td>5oIVNm56t6OIf9ZjdEG3ud</td>\n",
       "      <td>False</td>\n",
       "      <td>True</td>\n",
       "      <td>Coincidence</td>\n",
       "      <td>86</td>\n",
       "      <td>5</td>\n",
       "      <td>track</td>\n",
       "      <td>spotify:track:5oIVNm56t6OIf9ZjdEG3ud</td>\n",
       "    </tr>\n",
       "  </tbody>\n",
       "</table>\n",
       "</div>"
      ],
      "text/plain": [
       "                                               album  \\\n",
       "0  {'album_type': 'album', 'artists': [{'external...   \n",
       "1  {'album_type': 'album', 'artists': [{'external...   \n",
       "2  {'album_type': 'album', 'artists': [{'external...   \n",
       "3  {'album_type': 'album', 'artists': [{'external...   \n",
       "4  {'album_type': 'album', 'artists': [{'external...   \n",
       "\n",
       "                                             artists  disc_number  \\\n",
       "0  [{'external_urls': {'spotify': 'https://open.s...            1   \n",
       "1  [{'external_urls': {'spotify': 'https://open.s...            1   \n",
       "2  [{'external_urls': {'spotify': 'https://open.s...            1   \n",
       "3  [{'external_urls': {'spotify': 'https://open.s...            1   \n",
       "4  [{'external_urls': {'spotify': 'https://open.s...            1   \n",
       "\n",
       "   duration_ms  explicit              external_ids  \\\n",
       "0       157279     False  {'isrc': 'USUM72404100'}   \n",
       "1       186365      True  {'isrc': 'USUM72404101'}   \n",
       "2       185265      True  {'isrc': 'USUM72404102'}   \n",
       "3       218284      True  {'isrc': 'USUM72404104'}   \n",
       "4       164202     False  {'isrc': 'USUM72405667'}   \n",
       "\n",
       "                                       external_urls  \\\n",
       "0  {'spotify': 'https://open.spotify.com/track/5G...   \n",
       "1  {'spotify': 'https://open.spotify.com/track/2t...   \n",
       "2  {'spotify': 'https://open.spotify.com/track/10...   \n",
       "3  {'spotify': 'https://open.spotify.com/track/3i...   \n",
       "4  {'spotify': 'https://open.spotify.com/track/5o...   \n",
       "\n",
       "                                                href                      id  \\\n",
       "0  https://api.spotify.com/v1/tracks/5G2f63n7IPVP...  5G2f63n7IPVPPjfNIGih7Q   \n",
       "1  https://api.spotify.com/v1/tracks/2tHwzyyOLoWS...  2tHwzyyOLoWSFqYNjeVMzj   \n",
       "2  https://api.spotify.com/v1/tracks/102YUQbYmwdB...  102YUQbYmwdBXS7jwamI90   \n",
       "3  https://api.spotify.com/v1/tracks/3iPIDAFybaoy...  3iPIDAFybaoyqX7hvAfWkl   \n",
       "4  https://api.spotify.com/v1/tracks/5oIVNm56t6OI...  5oIVNm56t6OIf9ZjdEG3ud   \n",
       "\n",
       "   is_local  is_playable                  name  popularity  track_number  \\\n",
       "0     False         True                 Taste          96             1   \n",
       "1     False         True  Please Please Please          84             2   \n",
       "2     False         True           Good Graces          89             3   \n",
       "3     False         True         Sharpest Tool          86             4   \n",
       "4     False         True           Coincidence          86             5   \n",
       "\n",
       "    type                                   uri  \n",
       "0  track  spotify:track:5G2f63n7IPVPPjfNIGih7Q  \n",
       "1  track  spotify:track:2tHwzyyOLoWSFqYNjeVMzj  \n",
       "2  track  spotify:track:102YUQbYmwdBXS7jwamI90  \n",
       "3  track  spotify:track:3iPIDAFybaoyqX7hvAfWkl  \n",
       "4  track  spotify:track:5oIVNm56t6OIf9ZjdEG3ud  "
      ]
     },
     "execution_count": 43,
     "metadata": {},
     "output_type": "execute_result"
    }
   ],
   "source": [
    "sc_tracks_df = pd.DataFrame(sc_track_info['tracks'])\n",
    "cr_tracks_df = pd.DataFrame(cr_track_info['tracks'])\n",
    "sc_tracks_df.head()"
   ]
  }
 ],
 "metadata": {
  "kernelspec": {
   "display_name": "Python 3 (ipykernel)",
   "language": "python",
   "name": "python3"
  },
  "language_info": {
   "codemirror_mode": {
    "name": "ipython",
    "version": 3
   },
   "file_extension": ".py",
   "mimetype": "text/x-python",
   "name": "python",
   "nbconvert_exporter": "python",
   "pygments_lexer": "ipython3",
   "version": "3.12.4"
  }
 },
 "nbformat": 4,
 "nbformat_minor": 5
}
