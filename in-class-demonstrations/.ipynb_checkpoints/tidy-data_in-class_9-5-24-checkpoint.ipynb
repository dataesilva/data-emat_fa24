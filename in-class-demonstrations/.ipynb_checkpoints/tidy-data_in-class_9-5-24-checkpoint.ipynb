{
 "cells": [
  {
   "cell_type": "code",
   "execution_count": 1,
   "id": "50c27064-7ef5-40c3-84e6-6235e0e4d2f1",
   "metadata": {},
   "outputs": [],
   "source": [
    "import json\n",
    "import pandas as pd"
   ]
  },
  {
   "cell_type": "code",
   "execution_count": 2,
   "id": "c356cc22-7245-47a2-bd64-2039505a9b37",
   "metadata": {},
   "outputs": [],
   "source": [
    "path = r\"C:\\Users\\dsilva2\\OneDrive - Kent State University\\Research_KSU_Share\\SocMed-Personal-Data\\facebook-davidsilva100046-16_08_2024-0ZtJc3p1\\your_facebook_activity\\messages\\inbox\\chessbuds_3243775372391981\\chessbuds_message_1.json\"\n",
    "with open(path) as j:\n",
    "    mess = json.load(j)"
   ]
  },
  {
   "cell_type": "code",
   "execution_count": 3,
   "id": "ff69d647-9c63-4d84-a47c-1031505c09b2",
   "metadata": {},
   "outputs": [
    {
     "data": {
      "text/plain": [
       "dict_keys(['participants', 'messages', 'title', 'is_still_participant', 'thread_path', 'magic_words', 'joinable_mode'])"
      ]
     },
     "execution_count": 3,
     "metadata": {},
     "output_type": "execute_result"
    }
   ],
   "source": [
    "mess.keys()"
   ]
  },
  {
   "cell_type": "code",
   "execution_count": 4,
   "id": "1171d9d7-5407-48ad-9d4f-ae410f8a0425",
   "metadata": {},
   "outputs": [
    {
     "data": {
      "text/plain": [
       "list"
      ]
     },
     "execution_count": 4,
     "metadata": {},
     "output_type": "execute_result"
    }
   ],
   "source": [
    "type(mess['messages'])"
   ]
  },
  {
   "cell_type": "code",
   "execution_count": 5,
   "id": "49d4bdcd-543e-4373-a8b0-9d73df7a0843",
   "metadata": {},
   "outputs": [
    {
     "data": {
      "text/plain": [
       "{'sender_name': 'Scott Pence',\n",
       " 'timestamp_ms': 1700715443482,\n",
       " 'photos': [{'uri': 'your_facebook_activity/messages/inbox/chessbuds_3243775372391981/photos/387645462_6845384762215901_8840007794741533044_n_6845384758882568.jpg',\n",
       "   'creation_timestamp': 1700715442},\n",
       "  {'uri': 'your_facebook_activity/messages/inbox/chessbuds_3243775372391981/photos/398212511_1814855578995072_6111597641253189615_n_1814855575661739.jpg',\n",
       "   'creation_timestamp': 1700715442}],\n",
       " 'is_geoblocked_for_viewer': False}"
      ]
     },
     "execution_count": 5,
     "metadata": {},
     "output_type": "execute_result"
    }
   ],
   "source": [
    "mess['messages'][0]"
   ]
  },
  {
   "cell_type": "code",
   "execution_count": 6,
   "id": "8aab7a5f-0a90-40af-b48f-6d5b27e6509c",
   "metadata": {},
   "outputs": [
    {
     "data": {
      "text/html": [
       "<div>\n",
       "<style scoped>\n",
       "    .dataframe tbody tr th:only-of-type {\n",
       "        vertical-align: middle;\n",
       "    }\n",
       "\n",
       "    .dataframe tbody tr th {\n",
       "        vertical-align: top;\n",
       "    }\n",
       "\n",
       "    .dataframe thead th {\n",
       "        text-align: right;\n",
       "    }\n",
       "</style>\n",
       "<table border=\"1\" class=\"dataframe\">\n",
       "  <thead>\n",
       "    <tr style=\"text-align: right;\">\n",
       "      <th></th>\n",
       "      <th>sender_name</th>\n",
       "      <th>timestamp_ms</th>\n",
       "      <th>photos</th>\n",
       "      <th>is_geoblocked_for_viewer</th>\n",
       "      <th>content</th>\n",
       "      <th>share</th>\n",
       "      <th>gifs</th>\n",
       "      <th>reactions</th>\n",
       "    </tr>\n",
       "  </thead>\n",
       "  <tbody>\n",
       "    <tr>\n",
       "      <th>0</th>\n",
       "      <td>Scott Pence</td>\n",
       "      <td>1700715443482</td>\n",
       "      <td>[{'uri': 'your_facebook_activity/messages/inbo...</td>\n",
       "      <td>False</td>\n",
       "      <td>NaN</td>\n",
       "      <td>NaN</td>\n",
       "      <td>NaN</td>\n",
       "      <td>NaN</td>\n",
       "    </tr>\n",
       "    <tr>\n",
       "      <th>1</th>\n",
       "      <td>Scott Pence</td>\n",
       "      <td>1700612654330</td>\n",
       "      <td>NaN</td>\n",
       "      <td>False</td>\n",
       "      <td>https://youtu.be/QvhD801swLI?si=QbdZsCAZaYo0FXp_</td>\n",
       "      <td>{'link': 'https://youtu.be/QvhD801swLI?si=QbdZ...</td>\n",
       "      <td>NaN</td>\n",
       "      <td>NaN</td>\n",
       "    </tr>\n",
       "    <tr>\n",
       "      <th>2</th>\n",
       "      <td>Scott Pence</td>\n",
       "      <td>1692288525908</td>\n",
       "      <td>NaN</td>\n",
       "      <td>False</td>\n",
       "      <td>NaN</td>\n",
       "      <td>NaN</td>\n",
       "      <td>[{'uri': 'your_facebook_activity/messages/inbo...</td>\n",
       "      <td>[{'reaction': 'ð', 'actor': 'Joanna Rusch'}...</td>\n",
       "    </tr>\n",
       "    <tr>\n",
       "      <th>3</th>\n",
       "      <td>Angela Babbitt Pence</td>\n",
       "      <td>1692288480858</td>\n",
       "      <td>NaN</td>\n",
       "      <td>False</td>\n",
       "      <td>I want to know how we got from \"Caitlin Clark ...</td>\n",
       "      <td>NaN</td>\n",
       "      <td>NaN</td>\n",
       "      <td>[{'reaction': 'ð', 'actor': 'Joanna Rusch'}]</td>\n",
       "    </tr>\n",
       "    <tr>\n",
       "      <th>4</th>\n",
       "      <td>Joanna Rusch</td>\n",
       "      <td>1692253364213</td>\n",
       "      <td>NaN</td>\n",
       "      <td>False</td>\n",
       "      <td>Joanna set her own nickname to Cheese.</td>\n",
       "      <td>NaN</td>\n",
       "      <td>NaN</td>\n",
       "      <td>NaN</td>\n",
       "    </tr>\n",
       "  </tbody>\n",
       "</table>\n",
       "</div>"
      ],
      "text/plain": [
       "            sender_name   timestamp_ms  \\\n",
       "0           Scott Pence  1700715443482   \n",
       "1           Scott Pence  1700612654330   \n",
       "2           Scott Pence  1692288525908   \n",
       "3  Angela Babbitt Pence  1692288480858   \n",
       "4          Joanna Rusch  1692253364213   \n",
       "\n",
       "                                              photos  \\\n",
       "0  [{'uri': 'your_facebook_activity/messages/inbo...   \n",
       "1                                                NaN   \n",
       "2                                                NaN   \n",
       "3                                                NaN   \n",
       "4                                                NaN   \n",
       "\n",
       "   is_geoblocked_for_viewer  \\\n",
       "0                     False   \n",
       "1                     False   \n",
       "2                     False   \n",
       "3                     False   \n",
       "4                     False   \n",
       "\n",
       "                                             content  \\\n",
       "0                                                NaN   \n",
       "1   https://youtu.be/QvhD801swLI?si=QbdZsCAZaYo0FXp_   \n",
       "2                                                NaN   \n",
       "3  I want to know how we got from \"Caitlin Clark ...   \n",
       "4             Joanna set her own nickname to Cheese.   \n",
       "\n",
       "                                               share  \\\n",
       "0                                                NaN   \n",
       "1  {'link': 'https://youtu.be/QvhD801swLI?si=QbdZ...   \n",
       "2                                                NaN   \n",
       "3                                                NaN   \n",
       "4                                                NaN   \n",
       "\n",
       "                                                gifs  \\\n",
       "0                                                NaN   \n",
       "1                                                NaN   \n",
       "2  [{'uri': 'your_facebook_activity/messages/inbo...   \n",
       "3                                                NaN   \n",
       "4                                                NaN   \n",
       "\n",
       "                                           reactions  \n",
       "0                                                NaN  \n",
       "1                                                NaN  \n",
       "2  [{'reaction': 'ð', 'actor': 'Joanna Rusch'}...  \n",
       "3    [{'reaction': 'ð', 'actor': 'Joanna Rusch'}]  \n",
       "4                                                NaN  "
      ]
     },
     "execution_count": 6,
     "metadata": {},
     "output_type": "execute_result"
    }
   ],
   "source": [
    "mess_df = pd.DataFrame(mess['messages'])\n",
    "mess_df.head()"
   ]
  },
  {
   "cell_type": "code",
   "execution_count": 7,
   "id": "6ff06543-beb7-423b-84e0-bf7a234ee2c7",
   "metadata": {},
   "outputs": [
    {
     "data": {
      "text/plain": [
       "[{'reaction': 'ð\\x9f\\x98\\x86', 'actor': 'Joanna Rusch'},\n",
       " {'reaction': 'ð\\x9f\\x98\\x86', 'actor': 'Chad Larson'}]"
      ]
     },
     "execution_count": 7,
     "metadata": {},
     "output_type": "execute_result"
    }
   ],
   "source": [
    "mess_df['reactions'].iloc[2]"
   ]
  },
  {
   "cell_type": "code",
   "execution_count": 8,
   "id": "6ba0016a-7ab5-4839-8a62-4e2b8bfb68f5",
   "metadata": {},
   "outputs": [],
   "source": [
    "mess_df_tidy = mess_df.drop(columns = ['reactions', 'gifs', 'share', 'photos'])"
   ]
  },
  {
   "cell_type": "code",
   "execution_count": 9,
   "id": "5ef1af9a-bf90-414d-b33c-78ac0cf17b27",
   "metadata": {},
   "outputs": [],
   "source": [
    "# mess_df_tidy"
   ]
  },
  {
   "cell_type": "code",
   "execution_count": 10,
   "id": "9d7af21c-788e-486f-a598-ce02564013ac",
   "metadata": {},
   "outputs": [
    {
     "data": {
      "text/html": [
       "<div>\n",
       "<style scoped>\n",
       "    .dataframe tbody tr th:only-of-type {\n",
       "        vertical-align: middle;\n",
       "    }\n",
       "\n",
       "    .dataframe tbody tr th {\n",
       "        vertical-align: top;\n",
       "    }\n",
       "\n",
       "    .dataframe thead th {\n",
       "        text-align: right;\n",
       "    }\n",
       "</style>\n",
       "<table border=\"1\" class=\"dataframe\">\n",
       "  <thead>\n",
       "    <tr style=\"text-align: right;\">\n",
       "      <th></th>\n",
       "      <th>timestamp_ms</th>\n",
       "      <th>is_geoblocked_for_viewer</th>\n",
       "      <th>content</th>\n",
       "    </tr>\n",
       "    <tr>\n",
       "      <th>sender_name</th>\n",
       "      <th></th>\n",
       "      <th></th>\n",
       "      <th></th>\n",
       "    </tr>\n",
       "  </thead>\n",
       "  <tbody>\n",
       "    <tr>\n",
       "      <th>Scott Pence</th>\n",
       "      <td>113</td>\n",
       "      <td>113</td>\n",
       "      <td>84</td>\n",
       "    </tr>\n",
       "    <tr>\n",
       "      <th>Chad Larson</th>\n",
       "      <td>68</td>\n",
       "      <td>68</td>\n",
       "      <td>65</td>\n",
       "    </tr>\n",
       "    <tr>\n",
       "      <th>Joanna Rusch</th>\n",
       "      <td>56</td>\n",
       "      <td>56</td>\n",
       "      <td>49</td>\n",
       "    </tr>\n",
       "    <tr>\n",
       "      <th>David Silva</th>\n",
       "      <td>22</td>\n",
       "      <td>22</td>\n",
       "      <td>22</td>\n",
       "    </tr>\n",
       "    <tr>\n",
       "      <th>Angela Babbitt Pence</th>\n",
       "      <td>8</td>\n",
       "      <td>8</td>\n",
       "      <td>7</td>\n",
       "    </tr>\n",
       "    <tr>\n",
       "      <th>Aaron Rusch</th>\n",
       "      <td>5</td>\n",
       "      <td>5</td>\n",
       "      <td>3</td>\n",
       "    </tr>\n",
       "  </tbody>\n",
       "</table>\n",
       "</div>"
      ],
      "text/plain": [
       "                      timestamp_ms  is_geoblocked_for_viewer  content\n",
       "sender_name                                                          \n",
       "Scott Pence                    113                       113       84\n",
       "Chad Larson                     68                        68       65\n",
       "Joanna Rusch                    56                        56       49\n",
       "David Silva                     22                        22       22\n",
       "Angela Babbitt Pence             8                         8        7\n",
       "Aaron Rusch                      5                         5        3"
      ]
     },
     "execution_count": 10,
     "metadata": {},
     "output_type": "execute_result"
    }
   ],
   "source": [
    "mess_df_tidy.groupby('sender_name').count().\\\n",
    "sort_values('content', ascending = False)"
   ]
  },
  {
   "cell_type": "code",
   "execution_count": 11,
   "id": "d308aae8-4da3-4816-bd10-8075e9b758a0",
   "metadata": {},
   "outputs": [],
   "source": [
    "import matplotlib as plt"
   ]
  },
  {
   "cell_type": "code",
   "execution_count": 12,
   "id": "20e30d10-a070-4890-a7de-785e2014187e",
   "metadata": {},
   "outputs": [
    {
     "data": {
      "text/plain": [
       "<Axes: xlabel='sender_name'>"
      ]
     },
     "execution_count": 12,
     "metadata": {},
     "output_type": "execute_result"
    },
    {
     "data": {
      "image/png": "[encoded data removed]",
      "text/plain": [
       "<Figure size 640x480 with 1 Axes>"
      ]
     },
     "metadata": {},
     "output_type": "display_data"
    }
   ],
   "source": [
    "mess_df_tidy.groupby('sender_name').count().\\\n",
    "sort_values('content', ascending = False)['content'].plot(kind = 'bar')"
   ]
  }
 ],
 "metadata": {
  "kernelspec": {
   "display_name": "Python 3 (ipykernel)",
   "language": "python",
   "name": "python3"
  },
  "language_info": {
   "codemirror_mode": {
    "name": "ipython",
    "version": 3
   },
   "file_extension": ".py",
   "mimetype": "text/x-python",
   "name": "python",
   "nbconvert_exporter": "python",
   "pygments_lexer": "ipython3",
   "version": "3.12.4"
  }
 },
 "nbformat": 4,
 "nbformat_minor": 5
}
