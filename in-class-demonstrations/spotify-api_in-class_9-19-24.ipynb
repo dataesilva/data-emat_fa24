{
 "cells": [
  {
   "cell_type": "code",
   "execution_count": 1,
   "id": "1d58231e-2802-4554-8df8-eb7a7f5e6b09",
   "metadata": {},
   "outputs": [],
   "source": [
    "import pandas as pd\n",
    "import json\n",
    "import requests\n",
    "import base64"
   ]
  },
  {
   "cell_type": "code",
   "execution_count": 2,
   "id": "458e80a5-7167-41dc-9059-d87f4f2cb81d",
   "metadata": {},
   "outputs": [],
   "source": [
    "app_key = pd.read_csv(r\"C:\\Users\\dsilva2\\Dropbox\\Kent\\EMAT-32210_Data-in-EMAT\\Spotify-Keys_9-12-23.txt\")\n",
    "# app_key"
   ]
  },
  {
   "cell_type": "code",
   "execution_count": 3,
   "id": "05a25e6e-dacd-46b5-931a-e6c2927b012c",
   "metadata": {},
   "outputs": [],
   "source": [
    "app_id = app_key['Client_ID'].iloc[0]\n",
    "app_token = app_key['Client_Secret'].iloc[0]"
   ]
  },
  {
   "cell_type": "code",
   "execution_count": 4,
   "id": "1ac27d43-819e-4244-93f3-14b10e4faf53",
   "metadata": {},
   "outputs": [],
   "source": [
    "encoded_key = base64.b64encode(str(app_id + \":\" + app_token).encode(\"ascii\"))\n",
    "# encoded_key"
   ]
  },
  {
   "cell_type": "code",
   "execution_count": 5,
   "id": "66c85259-4453-4b21-b065-9c060b1bd1e6",
   "metadata": {},
   "outputs": [],
   "source": [
    "url = 'https://accounts.spotify.com/api/token'\n",
    "data = {'grant_type':'client_credentials'}\n",
    "header = {'Authorization': 'Basic {}'.format(encoded_key.decode(\"ascii\"))}"
   ]
  },
  {
   "cell_type": "code",
   "execution_count": 6,
   "id": "f8aba575-f56b-4787-b19b-16cd51de9796",
   "metadata": {},
   "outputs": [
    {
     "data": {
      "text/plain": [
       "200"
      ]
     },
     "execution_count": 6,
     "metadata": {},
     "output_type": "execute_result"
    }
   ],
   "source": [
    "session_response = requests.post(url, data = data, headers = header)\n",
    "session_response.status_code"
   ]
  },
  {
   "cell_type": "code",
   "execution_count": 7,
   "id": "b2b42164-bfce-4661-af74-d62931a45ccd",
   "metadata": {},
   "outputs": [],
   "source": [
    "session_token = session_response.json()['access_token']\n",
    "session_headers = {\"Authorization\": \"Bearer {}\".format(session_token)}\n",
    "# session_headers"
   ]
  },
  {
   "cell_type": "code",
   "execution_count": 8,
   "id": "9d1d5c6e-6b26-44ae-9fd4-b90eb3d1ae9a",
   "metadata": {},
   "outputs": [],
   "source": [
    "album_url = 'https://api.spotify.com/v1/albums/{}/tracks'\n",
    "album_id = '013WXRAOja0kZ6gnlTCwJ5'"
   ]
  },
  {
   "cell_type": "code",
   "execution_count": 9,
   "id": "a463dbc6-8948-40f7-a711-7a08802f9e66",
   "metadata": {},
   "outputs": [
    {
     "data": {
      "text/plain": [
       "'https://api.spotify.com/v1/albums/013WXRAOja0kZ6gnlTCwJ5/tracks'"
      ]
     },
     "execution_count": 9,
     "metadata": {},
     "output_type": "execute_result"
    }
   ],
   "source": [
    "album_url.format(album_id)"
   ]
  },
  {
   "cell_type": "code",
   "execution_count": 10,
   "id": "6bf5f81d-1af1-49ff-b504-15b7f6c0de7c",
   "metadata": {},
   "outputs": [
    {
     "data": {
      "text/plain": [
       "200"
      ]
     },
     "execution_count": 10,
     "metadata": {},
     "output_type": "execute_result"
    }
   ],
   "source": [
    "album_response = requests.get(album_url.format(album_id),\\\n",
    "                              headers = session_headers)\n",
    "album_response.status_code"
   ]
  }
 ],
 "metadata": {
  "kernelspec": {
   "display_name": "Python 3 (ipykernel)",
   "language": "python",
   "name": "python3"
  },
  "language_info": {
   "codemirror_mode": {
    "name": "ipython",
    "version": 3
   },
   "file_extension": ".py",
   "mimetype": "text/x-python",
   "name": "python",
   "nbconvert_exporter": "python",
   "pygments_lexer": "ipython3",
   "version": "3.12.4"
  }
 },
 "nbformat": 4,
 "nbformat_minor": 5
}
