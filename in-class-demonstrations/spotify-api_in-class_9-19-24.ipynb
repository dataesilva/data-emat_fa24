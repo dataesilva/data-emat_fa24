{
 "cells": [
  {
   "cell_type": "code",
   "execution_count": 15,
   "id": "1d58231e-2802-4554-8df8-eb7a7f5e6b09",
   "metadata": {},
   "outputs": [],
   "source": [
    "import pandas as pd\n",
    "import json\n",
    "import requests\n",
    "import base64\n",
    "# New addition\n",
    "import urllib"
   ]
  },
  {
   "cell_type": "code",
   "execution_count": 5,
   "id": "458e80a5-7167-41dc-9059-d87f4f2cb81d",
   "metadata": {},
   "outputs": [],
   "source": [
    "app_key = pd.read_csv(r\"../..\\Dropbox\\Kent\\EMAT-32210_Data-in-EMAT\\Spotify-Keys_9-12-23.txt\")\n",
    "# app_key"
   ]
  },
  {
   "cell_type": "code",
   "execution_count": 6,
   "id": "05a25e6e-dacd-46b5-931a-e6c2927b012c",
   "metadata": {},
   "outputs": [],
   "source": [
    "app_id = app_key['Client_ID'].iloc[0]\n",
    "app_token = app_key['Client_Secret'].iloc[0]"
   ]
  },
  {
   "cell_type": "code",
   "execution_count": 7,
   "id": "1ac27d43-819e-4244-93f3-14b10e4faf53",
   "metadata": {},
   "outputs": [],
   "source": [
    "encoded_key = base64.b64encode(str(app_id + \":\" + app_token).encode(\"ascii\"))\n",
    "# encoded_key"
   ]
  },
  {
   "cell_type": "code",
   "execution_count": 8,
   "id": "66c85259-4453-4b21-b065-9c060b1bd1e6",
   "metadata": {},
   "outputs": [],
   "source": [
    "url = 'https://accounts.spotify.com/api/token'\n",
    "data = {'grant_type':'client_credentials'}\n",
    "header = {'Authorization': 'Basic {}'.format(encoded_key.decode(\"ascii\"))}"
   ]
  },
  {
   "cell_type": "code",
   "execution_count": 9,
   "id": "f8aba575-f56b-4787-b19b-16cd51de9796",
   "metadata": {},
   "outputs": [
    {
     "data": {
      "text/plain": [
       "200"
      ]
     },
     "execution_count": 9,
     "metadata": {},
     "output_type": "execute_result"
    }
   ],
   "source": [
    "session_response = requests.post(url, data = data, headers = header)\n",
    "session_response.status_code"
   ]
  },
  {
   "cell_type": "code",
   "execution_count": 10,
   "id": "b2b42164-bfce-4661-af74-d62931a45ccd",
   "metadata": {},
   "outputs": [],
   "source": [
    "session_token = session_response.json()['access_token']\n",
    "session_headers = {\"Authorization\": \"Bearer {}\".format(session_token)}\n",
    "# session_headers"
   ]
  },
  {
   "cell_type": "code",
   "execution_count": 11,
   "id": "9d1d5c6e-6b26-44ae-9fd4-b90eb3d1ae9a",
   "metadata": {},
   "outputs": [],
   "source": [
    "album_url = 'https://api.spotify.com/v1/albums/{}/tracks'\n",
    "album_id = '013WXRAOja0kZ6gnlTCwJ5'"
   ]
  },
  {
   "cell_type": "code",
   "execution_count": 12,
   "id": "a463dbc6-8948-40f7-a711-7a08802f9e66",
   "metadata": {},
   "outputs": [
    {
     "data": {
      "text/plain": [
       "'https://api.spotify.com/v1/albums/013WXRAOja0kZ6gnlTCwJ5/tracks'"
      ]
     },
     "execution_count": 12,
     "metadata": {},
     "output_type": "execute_result"
    }
   ],
   "source": [
    "album_url.format(album_id)"
   ]
  },
  {
   "cell_type": "code",
   "execution_count": 13,
   "id": "6bf5f81d-1af1-49ff-b504-15b7f6c0de7c",
   "metadata": {},
   "outputs": [
    {
     "data": {
      "text/plain": [
       "200"
      ]
     },
     "execution_count": 13,
     "metadata": {},
     "output_type": "execute_result"
    }
   ],
   "source": [
    "album_response = requests.get(album_url.format(album_id),\\\n",
    "                              headers = session_headers)\n",
    "album_response.status_code"
   ]
  },
  {
   "cell_type": "code",
   "execution_count": 24,
   "id": "209fd2c9",
   "metadata": {},
   "outputs": [
    {
     "data": {
      "text/plain": [
       "'h%3D+k+d'"
      ]
     },
     "execution_count": 24,
     "metadata": {},
     "output_type": "execute_result"
    }
   ],
   "source": [
    "urllib.parse.quote_plus('h= k d')"
   ]
  },
  {
   "cell_type": "code",
   "execution_count": 28,
   "id": "1a84d896",
   "metadata": {},
   "outputs": [],
   "source": [
    "query = urllib.parse.quote_plus('silva+tag:new')\n",
    "search_url = 'https://api.spotify.com/v1/search?q={}&type=artist&market=US'.format(query)\n",
    "search_response = requests.get(search_url, headers = session_headers)"
   ]
  },
  {
   "cell_type": "code",
   "execution_count": 29,
   "id": "195caad2",
   "metadata": {},
   "outputs": [
    {
     "data": {
      "text/plain": [
       "200"
      ]
     },
     "execution_count": 29,
     "metadata": {},
     "output_type": "execute_result"
    }
   ],
   "source": [
    "search_response.status_code"
   ]
  },
  {
   "cell_type": "code",
   "execution_count": 30,
   "id": "eaa08a7d",
   "metadata": {},
   "outputs": [
    {
     "data": {
      "text/plain": [
       "{'artists': {'href': 'https://api.spotify.com/v1/search?query=silva%2Btag%3Anew&type=artist&market=US&offset=0&limit=20',\n",
       "  'items': [{'external_urls': {'spotify': 'https://open.spotify.com/artist/6ZDdviyXhuGwlAmaLbZgSv'},\n",
       "    'followers': {'href': None, 'total': 740},\n",
       "    'genres': [],\n",
       "    'href': 'https://api.spotify.com/v1/artists/6ZDdviyXhuGwlAmaLbZgSv',\n",
       "    'id': '6ZDdviyXhuGwlAmaLbZgSv',\n",
       "    'images': [{'height': 640,\n",
       "      'url': 'https://i.scdn.co/image/ab6761610000e5ebf951280a913c5d2bdb67e134',\n",
       "      'width': 640},\n",
       "     {'height': 320,\n",
       "      'url': 'https://i.scdn.co/image/ab67616100005174f951280a913c5d2bdb67e134',\n",
       "      'width': 320},\n",
       "     {'height': 160,\n",
       "      'url': 'https://i.scdn.co/image/ab6761610000f178f951280a913c5d2bdb67e134',\n",
       "      'width': 160}],\n",
       "    'name': 'NA SILVA',\n",
       "    'popularity': 25,\n",
       "    'type': 'artist',\n",
       "    'uri': 'spotify:artist:6ZDdviyXhuGwlAmaLbZgSv'},\n",
       "   {'external_urls': {'spotify': 'https://open.spotify.com/artist/2Fm2civCaH94nJt0KPvF5c'},\n",
       "    'followers': {'href': None, 'total': 1471},\n",
       "    'genres': ['contemporary vocal jazz'],\n",
       "    'href': 'https://api.spotify.com/v1/artists/2Fm2civCaH94nJt0KPvF5c',\n",
       "    'id': '2Fm2civCaH94nJt0KPvF5c',\n",
       "    'images': [{'height': 640,\n",
       "      'url': 'https://i.scdn.co/image/ab6761610000e5ebc7479ca76efdee807e7464ee',\n",
       "      'width': 640},\n",
       "     {'height': 320,\n",
       "      'url': 'https://i.scdn.co/image/ab67616100005174c7479ca76efdee807e7464ee',\n",
       "      'width': 320},\n",
       "     {'height': 160,\n",
       "      'url': 'https://i.scdn.co/image/ab6761610000f178c7479ca76efdee807e7464ee',\n",
       "      'width': 160}],\n",
       "    'name': 'Silva & Steini',\n",
       "    'popularity': 31,\n",
       "    'type': 'artist',\n",
       "    'uri': 'spotify:artist:2Fm2civCaH94nJt0KPvF5c'},\n",
       "   {'external_urls': {'spotify': 'https://open.spotify.com/artist/07QY8rNexbu12n2DDFJcV9'},\n",
       "    'followers': {'href': None, 'total': 2541},\n",
       "    'genres': [],\n",
       "    'href': 'https://api.spotify.com/v1/artists/07QY8rNexbu12n2DDFJcV9',\n",
       "    'id': '07QY8rNexbu12n2DDFJcV9',\n",
       "    'images': [{'height': 640,\n",
       "      'url': 'https://i.scdn.co/image/ab6761610000e5eb52088f5576fc1230425a8bde',\n",
       "      'width': 640},\n",
       "     {'height': 320,\n",
       "      'url': 'https://i.scdn.co/image/ab6761610000517452088f5576fc1230425a8bde',\n",
       "      'width': 320},\n",
       "     {'height': 160,\n",
       "      'url': 'https://i.scdn.co/image/ab6761610000f17852088f5576fc1230425a8bde',\n",
       "      'width': 160}],\n",
       "    'name': 'Dasilva',\n",
       "    'popularity': 16,\n",
       "    'type': 'artist',\n",
       "    'uri': 'spotify:artist:07QY8rNexbu12n2DDFJcV9'},\n",
       "   {'external_urls': {'spotify': 'https://open.spotify.com/artist/0KO5WEKzueWkaE94Tuea3g'},\n",
       "    'followers': {'href': None, 'total': 250},\n",
       "    'genres': [],\n",
       "    'href': 'https://api.spotify.com/v1/artists/0KO5WEKzueWkaE94Tuea3g',\n",
       "    'id': '0KO5WEKzueWkaE94Tuea3g',\n",
       "    'images': [],\n",
       "    'name': 'Silva Hound',\n",
       "    'popularity': 18,\n",
       "    'type': 'artist',\n",
       "    'uri': 'spotify:artist:0KO5WEKzueWkaE94Tuea3g'},\n",
       "   {'external_urls': {'spotify': 'https://open.spotify.com/artist/2hoO2CfbuSYlBqoxvdCMoP'},\n",
       "    'followers': {'href': None, 'total': 182},\n",
       "    'genres': [],\n",
       "    'href': 'https://api.spotify.com/v1/artists/2hoO2CfbuSYlBqoxvdCMoP',\n",
       "    'id': '2hoO2CfbuSYlBqoxvdCMoP',\n",
       "    'images': [],\n",
       "    'name': 'Silva Hound',\n",
       "    'popularity': 12,\n",
       "    'type': 'artist',\n",
       "    'uri': 'spotify:artist:2hoO2CfbuSYlBqoxvdCMoP'},\n",
       "   {'external_urls': {'spotify': 'https://open.spotify.com/artist/35OTKMZpauVWGfRKwHt6ia'},\n",
       "    'followers': {'href': None, 'total': 27},\n",
       "    'genres': [],\n",
       "    'href': 'https://api.spotify.com/v1/artists/35OTKMZpauVWGfRKwHt6ia',\n",
       "    'id': '35OTKMZpauVWGfRKwHt6ia',\n",
       "    'images': [],\n",
       "    'name': 'Silva Hound',\n",
       "    'popularity': 10,\n",
       "    'type': 'artist',\n",
       "    'uri': 'spotify:artist:35OTKMZpauVWGfRKwHt6ia'},\n",
       "   {'external_urls': {'spotify': 'https://open.spotify.com/artist/7fWd35GrwxXze9rFWZSExj'},\n",
       "    'followers': {'href': None, 'total': 513},\n",
       "    'genres': [],\n",
       "    'href': 'https://api.spotify.com/v1/artists/7fWd35GrwxXze9rFWZSExj',\n",
       "    'id': '7fWd35GrwxXze9rFWZSExj',\n",
       "    'images': [{'height': 640,\n",
       "      'url': 'https://i.scdn.co/image/ab6761610000e5eb9a57d55755bb3c4292fefc32',\n",
       "      'width': 640},\n",
       "     {'height': 320,\n",
       "      'url': 'https://i.scdn.co/image/ab676161000051749a57d55755bb3c4292fefc32',\n",
       "      'width': 320},\n",
       "     {'height': 160,\n",
       "      'url': 'https://i.scdn.co/image/ab6761610000f1789a57d55755bb3c4292fefc32',\n",
       "      'width': 160}],\n",
       "    'name': 'Los Silva',\n",
       "    'popularity': 14,\n",
       "    'type': 'artist',\n",
       "    'uri': 'spotify:artist:7fWd35GrwxXze9rFWZSExj'},\n",
       "   {'external_urls': {'spotify': 'https://open.spotify.com/artist/5f84MJAiHgRVmGpDOQI1fU'},\n",
       "    'followers': {'href': None, 'total': 2257},\n",
       "    'genres': [],\n",
       "    'href': 'https://api.spotify.com/v1/artists/5f84MJAiHgRVmGpDOQI1fU',\n",
       "    'id': '5f84MJAiHgRVmGpDOQI1fU',\n",
       "    'images': [{'height': 640,\n",
       "      'url': 'https://i.scdn.co/image/ab6761610000e5eb774c1e088fd2b31016d19664',\n",
       "      'width': 640},\n",
       "     {'height': 320,\n",
       "      'url': 'https://i.scdn.co/image/ab67616100005174774c1e088fd2b31016d19664',\n",
       "      'width': 320},\n",
       "     {'height': 160,\n",
       "      'url': 'https://i.scdn.co/image/ab6761610000f178774c1e088fd2b31016d19664',\n",
       "      'width': 160}],\n",
       "    'name': 'SUN SILVA',\n",
       "    'popularity': 19,\n",
       "    'type': 'artist',\n",
       "    'uri': 'spotify:artist:5f84MJAiHgRVmGpDOQI1fU'},\n",
       "   {'external_urls': {'spotify': 'https://open.spotify.com/artist/1qZ74mMd15FAB5q9SjX73h'},\n",
       "    'followers': {'href': None, 'total': 3661},\n",
       "    'genres': [],\n",
       "    'href': 'https://api.spotify.com/v1/artists/1qZ74mMd15FAB5q9SjX73h',\n",
       "    'id': '1qZ74mMd15FAB5q9SjX73h',\n",
       "    'images': [{'height': 640,\n",
       "      'url': 'https://i.scdn.co/image/ab6761610000e5ebbdd96cf6d9bfdeeebaa4807f',\n",
       "      'width': 640},\n",
       "     {'height': 320,\n",
       "      'url': 'https://i.scdn.co/image/ab67616100005174bdd96cf6d9bfdeeebaa4807f',\n",
       "      'width': 320},\n",
       "     {'height': 160,\n",
       "      'url': 'https://i.scdn.co/image/ab6761610000f178bdd96cf6d9bfdeeebaa4807f',\n",
       "      'width': 160}],\n",
       "    'name': 'Silva',\n",
       "    'popularity': 4,\n",
       "    'type': 'artist',\n",
       "    'uri': 'spotify:artist:1qZ74mMd15FAB5q9SjX73h'},\n",
       "   {'external_urls': {'spotify': 'https://open.spotify.com/artist/3y21batyfE4xcYhtjFAE7R'},\n",
       "    'followers': {'href': None, 'total': 104},\n",
       "    'genres': [],\n",
       "    'href': 'https://api.spotify.com/v1/artists/3y21batyfE4xcYhtjFAE7R',\n",
       "    'id': '3y21batyfE4xcYhtjFAE7R',\n",
       "    'images': [{'height': 640,\n",
       "      'url': 'https://i.scdn.co/image/ab6761610000e5ebf8270fa4c7cdd82329c02212',\n",
       "      'width': 640},\n",
       "     {'height': 320,\n",
       "      'url': 'https://i.scdn.co/image/ab67616100005174f8270fa4c7cdd82329c02212',\n",
       "      'width': 320},\n",
       "     {'height': 160,\n",
       "      'url': 'https://i.scdn.co/image/ab6761610000f178f8270fa4c7cdd82329c02212',\n",
       "      'width': 160}],\n",
       "    'name': 'SILVA',\n",
       "    'popularity': 5,\n",
       "    'type': 'artist',\n",
       "    'uri': 'spotify:artist:3y21batyfE4xcYhtjFAE7R'},\n",
       "   {'external_urls': {'spotify': 'https://open.spotify.com/artist/69ZtilpAEcpKDzR91d1lhn'},\n",
       "    'followers': {'href': None, 'total': 44},\n",
       "    'genres': [],\n",
       "    'href': 'https://api.spotify.com/v1/artists/69ZtilpAEcpKDzR91d1lhn',\n",
       "    'id': '69ZtilpAEcpKDzR91d1lhn',\n",
       "    'images': [{'height': 640,\n",
       "      'url': 'https://i.scdn.co/image/ab6761610000e5eb384913047eafe80ad1145bc7',\n",
       "      'width': 640},\n",
       "     {'height': 320,\n",
       "      'url': 'https://i.scdn.co/image/ab67616100005174384913047eafe80ad1145bc7',\n",
       "      'width': 320},\n",
       "     {'height': 160,\n",
       "      'url': 'https://i.scdn.co/image/ab6761610000f178384913047eafe80ad1145bc7',\n",
       "      'width': 160}],\n",
       "    'name': 'Silva',\n",
       "    'popularity': 3,\n",
       "    'type': 'artist',\n",
       "    'uri': 'spotify:artist:69ZtilpAEcpKDzR91d1lhn'},\n",
       "   {'external_urls': {'spotify': 'https://open.spotify.com/artist/4w6zJ69OnZWKZrzMnYZva8'},\n",
       "    'followers': {'href': None, 'total': 204},\n",
       "    'genres': [],\n",
       "    'href': 'https://api.spotify.com/v1/artists/4w6zJ69OnZWKZrzMnYZva8',\n",
       "    'id': '4w6zJ69OnZWKZrzMnYZva8',\n",
       "    'images': [{'height': 640,\n",
       "      'url': 'https://i.scdn.co/image/ab6761610000e5eb0d2de166eb2e841a42183f95',\n",
       "      'width': 640},\n",
       "     {'height': 320,\n",
       "      'url': 'https://i.scdn.co/image/ab676161000051740d2de166eb2e841a42183f95',\n",
       "      'width': 320},\n",
       "     {'height': 160,\n",
       "      'url': 'https://i.scdn.co/image/ab6761610000f1780d2de166eb2e841a42183f95',\n",
       "      'width': 160}],\n",
       "    'name': 'Sillva',\n",
       "    'popularity': 7,\n",
       "    'type': 'artist',\n",
       "    'uri': 'spotify:artist:4w6zJ69OnZWKZrzMnYZva8'},\n",
       "   {'external_urls': {'spotify': 'https://open.spotify.com/artist/5orq9FGSOF6gN4g63JeBuR'},\n",
       "    'followers': {'href': None, 'total': 749},\n",
       "    'genres': [],\n",
       "    'href': 'https://api.spotify.com/v1/artists/5orq9FGSOF6gN4g63JeBuR',\n",
       "    'id': '5orq9FGSOF6gN4g63JeBuR',\n",
       "    'images': [{'height': 640,\n",
       "      'url': 'https://i.scdn.co/image/ab6761610000e5ebc909db7dfd7d99aa4f8d8b7a',\n",
       "      'width': 640},\n",
       "     {'height': 320,\n",
       "      'url': 'https://i.scdn.co/image/ab67616100005174c909db7dfd7d99aa4f8d8b7a',\n",
       "      'width': 320},\n",
       "     {'height': 160,\n",
       "      'url': 'https://i.scdn.co/image/ab6761610000f178c909db7dfd7d99aa4f8d8b7a',\n",
       "      'width': 160}],\n",
       "    'name': 'Silva',\n",
       "    'popularity': 15,\n",
       "    'type': 'artist',\n",
       "    'uri': 'spotify:artist:5orq9FGSOF6gN4g63JeBuR'},\n",
       "   {'external_urls': {'spotify': 'https://open.spotify.com/artist/1Ju0lsag81P0VNBByS6R23'},\n",
       "    'followers': {'href': None, 'total': 1335},\n",
       "    'genres': [],\n",
       "    'href': 'https://api.spotify.com/v1/artists/1Ju0lsag81P0VNBByS6R23',\n",
       "    'id': '1Ju0lsag81P0VNBByS6R23',\n",
       "    'images': [{'height': 640,\n",
       "      'url': 'https://i.scdn.co/image/ab6761610000e5eb298a53c2dbe11f1f921b7e05',\n",
       "      'width': 640},\n",
       "     {'height': 320,\n",
       "      'url': 'https://i.scdn.co/image/ab67616100005174298a53c2dbe11f1f921b7e05',\n",
       "      'width': 320},\n",
       "     {'height': 160,\n",
       "      'url': 'https://i.scdn.co/image/ab6761610000f178298a53c2dbe11f1f921b7e05',\n",
       "      'width': 160}],\n",
       "    'name': 'Siilva',\n",
       "    'popularity': 2,\n",
       "    'type': 'artist',\n",
       "    'uri': 'spotify:artist:1Ju0lsag81P0VNBByS6R23'},\n",
       "   {'external_urls': {'spotify': 'https://open.spotify.com/artist/6QxH0gaNqiL5dG7WjAlmeE'},\n",
       "    'followers': {'href': None, 'total': 1125},\n",
       "    'genres': [],\n",
       "    'href': 'https://api.spotify.com/v1/artists/6QxH0gaNqiL5dG7WjAlmeE',\n",
       "    'id': '6QxH0gaNqiL5dG7WjAlmeE',\n",
       "    'images': [{'height': 640,\n",
       "      'url': 'https://i.scdn.co/image/ab6761610000e5eb56e0b3ee3b5e93d64e681015',\n",
       "      'width': 640},\n",
       "     {'height': 320,\n",
       "      'url': 'https://i.scdn.co/image/ab6761610000517456e0b3ee3b5e93d64e681015',\n",
       "      'width': 320},\n",
       "     {'height': 160,\n",
       "      'url': 'https://i.scdn.co/image/ab6761610000f17856e0b3ee3b5e93d64e681015',\n",
       "      'width': 160}],\n",
       "    'name': 'Silva',\n",
       "    'popularity': 2,\n",
       "    'type': 'artist',\n",
       "    'uri': 'spotify:artist:6QxH0gaNqiL5dG7WjAlmeE'},\n",
       "   {'external_urls': {'spotify': 'https://open.spotify.com/artist/1IH4wHKm16b59Y7XyNJPbC'},\n",
       "    'followers': {'href': None, 'total': 1},\n",
       "    'genres': [],\n",
       "    'href': 'https://api.spotify.com/v1/artists/1IH4wHKm16b59Y7XyNJPbC',\n",
       "    'id': '1IH4wHKm16b59Y7XyNJPbC',\n",
       "    'images': [{'height': 640,\n",
       "      'url': 'https://i.scdn.co/image/ab67616d0000b273c7673d6ce3d1fe147922a1f9',\n",
       "      'width': 640},\n",
       "     {'height': 300,\n",
       "      'url': 'https://i.scdn.co/image/ab67616d00001e02c7673d6ce3d1fe147922a1f9',\n",
       "      'width': 300},\n",
       "     {'height': 64,\n",
       "      'url': 'https://i.scdn.co/image/ab67616d00004851c7673d6ce3d1fe147922a1f9',\n",
       "      'width': 64}],\n",
       "    'name': 'Silva Aula',\n",
       "    'popularity': 4,\n",
       "    'type': 'artist',\n",
       "    'uri': 'spotify:artist:1IH4wHKm16b59Y7XyNJPbC'},\n",
       "   {'external_urls': {'spotify': 'https://open.spotify.com/artist/2fCdZqLq2tUbFRDJRxnki0'},\n",
       "    'followers': {'href': None, 'total': 25},\n",
       "    'genres': [],\n",
       "    'href': 'https://api.spotify.com/v1/artists/2fCdZqLq2tUbFRDJRxnki0',\n",
       "    'id': '2fCdZqLq2tUbFRDJRxnki0',\n",
       "    'images': [{'height': 640,\n",
       "      'url': 'https://i.scdn.co/image/ab6761610000e5eb2caad6fc88ee0c3101cea591',\n",
       "      'width': 640},\n",
       "     {'height': 320,\n",
       "      'url': 'https://i.scdn.co/image/ab676161000051742caad6fc88ee0c3101cea591',\n",
       "      'width': 320},\n",
       "     {'height': 160,\n",
       "      'url': 'https://i.scdn.co/image/ab6761610000f1782caad6fc88ee0c3101cea591',\n",
       "      'width': 160}],\n",
       "    'name': 'Daniel Silva Composer',\n",
       "    'popularity': 4,\n",
       "    'type': 'artist',\n",
       "    'uri': 'spotify:artist:2fCdZqLq2tUbFRDJRxnki0'},\n",
       "   {'external_urls': {'spotify': 'https://open.spotify.com/artist/1NCDISWhjOj2ixogVOS5ZT'},\n",
       "    'followers': {'href': None, 'total': 20},\n",
       "    'genres': [],\n",
       "    'href': 'https://api.spotify.com/v1/artists/1NCDISWhjOj2ixogVOS5ZT',\n",
       "    'id': '1NCDISWhjOj2ixogVOS5ZT',\n",
       "    'images': [{'height': 640,\n",
       "      'url': 'https://i.scdn.co/image/ab67616d0000b2731d9135862fc49d489d553b92',\n",
       "      'width': 640},\n",
       "     {'height': 300,\n",
       "      'url': 'https://i.scdn.co/image/ab67616d00001e021d9135862fc49d489d553b92',\n",
       "      'width': 300},\n",
       "     {'height': 64,\n",
       "      'url': 'https://i.scdn.co/image/ab67616d000048511d9135862fc49d489d553b92',\n",
       "      'width': 64}],\n",
       "    'name': 'Dj SILVA 07',\n",
       "    'popularity': 4,\n",
       "    'type': 'artist',\n",
       "    'uri': 'spotify:artist:1NCDISWhjOj2ixogVOS5ZT'},\n",
       "   {'external_urls': {'spotify': 'https://open.spotify.com/artist/0umaMgttRR752MPB8mftxL'},\n",
       "    'followers': {'href': None, 'total': 44},\n",
       "    'genres': [],\n",
       "    'href': 'https://api.spotify.com/v1/artists/0umaMgttRR752MPB8mftxL',\n",
       "    'id': '0umaMgttRR752MPB8mftxL',\n",
       "    'images': [{'height': 640,\n",
       "      'url': 'https://i.scdn.co/image/ab67616d0000b2732fd4cd05684034b0d09305f9',\n",
       "      'width': 640},\n",
       "     {'height': 300,\n",
       "      'url': 'https://i.scdn.co/image/ab67616d00001e022fd4cd05684034b0d09305f9',\n",
       "      'width': 300},\n",
       "     {'height': 64,\n",
       "      'url': 'https://i.scdn.co/image/ab67616d000048512fd4cd05684034b0d09305f9',\n",
       "      'width': 64}],\n",
       "    'name': 'SILVAZIN',\n",
       "    'popularity': 3,\n",
       "    'type': 'artist',\n",
       "    'uri': 'spotify:artist:0umaMgttRR752MPB8mftxL'},\n",
       "   {'external_urls': {'spotify': 'https://open.spotify.com/artist/15LBBWdEqsv6TtlfUP9pZ6'},\n",
       "    'followers': {'href': None, 'total': 4},\n",
       "    'genres': [],\n",
       "    'href': 'https://api.spotify.com/v1/artists/15LBBWdEqsv6TtlfUP9pZ6',\n",
       "    'id': '15LBBWdEqsv6TtlfUP9pZ6',\n",
       "    'images': [{'height': 640,\n",
       "      'url': 'https://i.scdn.co/image/ab67616d0000b273e04c782d70b0f8971ef53199',\n",
       "      'width': 640},\n",
       "     {'height': 300,\n",
       "      'url': 'https://i.scdn.co/image/ab67616d00001e028b55a08dd672f6badd34c3b0',\n",
       "      'width': 300},\n",
       "     {'height': 64,\n",
       "      'url': 'https://i.scdn.co/image/ab67616d000048518b55a08dd672f6badd34c3b0',\n",
       "      'width': 64}],\n",
       "    'name': 'RAFAEL SILVA UMA NOVA ERAH',\n",
       "    'popularity': 8,\n",
       "    'type': 'artist',\n",
       "    'uri': 'spotify:artist:15LBBWdEqsv6TtlfUP9pZ6'}],\n",
       "  'limit': 20,\n",
       "  'next': 'https://api.spotify.com/v1/search?query=silva%2Btag%3Anew&type=artist&market=US&offset=20&limit=20',\n",
       "  'offset': 0,\n",
       "  'previous': None,\n",
       "  'total': 35}}"
      ]
     },
     "execution_count": 30,
     "metadata": {},
     "output_type": "execute_result"
    }
   ],
   "source": [
    "search_response.json()"
   ]
  },
  {
   "cell_type": "code",
   "execution_count": 36,
   "id": "28ce1210",
   "metadata": {},
   "outputs": [
    {
     "data": {
      "text/plain": [
       "'remaster track:Doxy artist:Miles Davis'"
      ]
     },
     "execution_count": 36,
     "metadata": {},
     "output_type": "execute_result"
    }
   ],
   "source": [
    "urllib.parse.unquote_plus('remaster%20track%3ADoxy%20artist%3AMiles%20Davis')"
   ]
  }
 ],
 "metadata": {
  "kernelspec": {
   "display_name": "data-emat_fa24",
   "language": "python",
   "name": "python3"
  },
  "language_info": {
   "codemirror_mode": {
    "name": "ipython",
    "version": 3
   },
   "file_extension": ".py",
   "mimetype": "text/x-python",
   "name": "python",
   "nbconvert_exporter": "python",
   "pygments_lexer": "ipython3",
   "version": "3.12.4"
  }
 },
 "nbformat": 4,
 "nbformat_minor": 5
}
