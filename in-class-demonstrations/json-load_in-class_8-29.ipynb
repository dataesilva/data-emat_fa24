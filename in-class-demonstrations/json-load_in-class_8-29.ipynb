{
 "cells": [
  {
   "cell_type": "code",
   "execution_count": 1,
   "id": "6d8b01c1-7e74-4aa6-979d-d826d2ac0958",
   "metadata": {},
   "outputs": [],
   "source": [
    "import json as js\n",
    "import pandas as pd"
   ]
  },
  {
   "cell_type": "code",
   "execution_count": 2,
   "id": "269c3a3c-eb80-4bbc-b933-7b08716f47a3",
   "metadata": {},
   "outputs": [],
   "source": [
    "path = r\"C:\\Users\\dsilva2\\OneDrive - Kent State University\\Research_KSU_Share\\SocMed-Personal-Data\\facebook-davidsilva100046-16_08_2024-0ZtJc3p1\\ads_information\\advertisers_using_your_activity_or_information.json\"\n",
    "\n",
    "with open(path) as op:\n",
    "    ads_dict = js.load(op)"
   ]
  },
  {
   "cell_type": "code",
   "execution_count": 3,
   "id": "b76ee128-3fdf-43f7-9943-56a74b94ce46",
   "metadata": {},
   "outputs": [],
   "source": [
    "# ads_dict"
   ]
  },
  {
   "cell_type": "code",
   "execution_count": 4,
   "id": "4311ee72-1034-4056-8c56-5e33408207ad",
   "metadata": {},
   "outputs": [],
   "source": [
    "# Example only, file removed from GitHub repository\n",
    "# with open('advertisers_using_your_activity_or_information.json') as j:\n",
    "#     ads_dict2 = js.load(j)"
   ]
  },
  {
   "cell_type": "code",
   "execution_count": 5,
   "id": "3abb479b-f08a-4992-8c8c-a1a9308b2497",
   "metadata": {},
   "outputs": [],
   "source": [
    "# ads_dict2.keys()"
   ]
  },
  {
   "cell_type": "code",
   "execution_count": 6,
   "id": "2663be85-43d4-4ba0-aade-96a244fa2edb",
   "metadata": {},
   "outputs": [],
   "source": [
    "# ads_dict2['custom_audiences_all_types_v2']"
   ]
  }
 ],
 "metadata": {
  "kernelspec": {
   "display_name": "Python 3 (ipykernel)",
   "language": "python",
   "name": "python3"
  },
  "language_info": {
   "codemirror_mode": {
    "name": "ipython",
    "version": 3
   },
   "file_extension": ".py",
   "mimetype": "text/x-python",
   "name": "python",
   "nbconvert_exporter": "python",
   "pygments_lexer": "ipython3",
   "version": "3.12.4"
  }
 },
 "nbformat": 4,
 "nbformat_minor": 5
}
