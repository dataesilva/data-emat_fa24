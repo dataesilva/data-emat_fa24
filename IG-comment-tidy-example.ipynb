{
 "cells": [
  {
   "cell_type": "markdown",
   "metadata": {},
   "source": [
    "## Example of data wrangling for Instagram comment file\n",
    "Several students attempted to read in the data from the Instagram Comments file, but the structure can be difficult to work with. In this notebook, I am going to show some of the steps that you can complete in order to tidy the data and begin working with that data file."
   ]
  },
  {
   "cell_type": "code",
   "execution_count": 1,
   "metadata": {},
   "outputs": [],
   "source": [
    "import json\n",
    "import pandas as pd\n",
    "import matplotlib as plt"
   ]
  },
  {
   "cell_type": "code",
   "execution_count": 2,
   "metadata": {},
   "outputs": [],
   "source": [
    "path = r\"C:\\Users\\dsilva2\\OneDrive - Kent State University\\Research_KSU_Share\\SocMed-Personal-Data\\instagram-technogecko-2024-08-16-vdXEFDYF\\your_instagram_activity\\comments\\post_comments_1.json\"\n",
    "with open(path) as j:\n",
    "    com_dict = json.load(j)"
   ]
  },
  {
   "cell_type": "markdown",
   "metadata": {},
   "source": [
    "#### This is the first issue that many people ran into. The json file is not structured as a dictionary but instead is a list. Instead of `.keys()` we should use ways of describing list-type objects."
   ]
  },
  {
   "cell_type": "code",
   "execution_count": 3,
   "metadata": {},
   "outputs": [
    {
     "ename": "AttributeError",
     "evalue": "'list' object has no attribute 'keys'",
     "output_type": "error",
     "traceback": [
      "\u001b[1;31m---------------------------------------------------------------------------\u001b[0m",
      "\u001b[1;31mAttributeError\u001b[0m                            Traceback (most recent call last)",
      "Cell \u001b[1;32mIn[3], line 1\u001b[0m\n\u001b[1;32m----> 1\u001b[0m \u001b[43mcom_dict\u001b[49m\u001b[38;5;241;43m.\u001b[39;49m\u001b[43mkeys\u001b[49m()\n",
      "\u001b[1;31mAttributeError\u001b[0m: 'list' object has no attribute 'keys'"
     ]
    }
   ],
   "source": [
    "com_dict.keys()"
   ]
  },
  {
   "cell_type": "code",
   "execution_count": 4,
   "metadata": {},
   "outputs": [
    {
     "data": {
      "text/plain": [
       "38"
      ]
     },
     "execution_count": 4,
     "metadata": {},
     "output_type": "execute_result"
    }
   ],
   "source": [
    "com_list = com_dict\n",
    "len(com_list)"
   ]
  },
  {
   "cell_type": "code",
   "execution_count": 5,
   "metadata": {},
   "outputs": [
    {
     "data": {
      "text/plain": [
       "{'media_list_data': [{'uri': ''}],\n",
       " 'string_map_data': {'Comment': {'value': 'Were you entertained?'},\n",
       "  'Media Owner': {'value': 'reams_esq'},\n",
       "  'Time': {'timestamp': 1656548242}}}"
      ]
     },
     "execution_count": 5,
     "metadata": {},
     "output_type": "execute_result"
    }
   ],
   "source": [
    "com_list[0]"
   ]
  },
  {
   "cell_type": "markdown",
   "metadata": {},
   "source": [
    "#### The list contains dictionaries, so this is a good place to start our DataFrame."
   ]
  },
  {
   "cell_type": "code",
   "execution_count": 6,
   "metadata": {},
   "outputs": [
    {
     "data": {
      "text/html": [
       "<div>\n",
       "<style scoped>\n",
       "    .dataframe tbody tr th:only-of-type {\n",
       "        vertical-align: middle;\n",
       "    }\n",
       "\n",
       "    .dataframe tbody tr th {\n",
       "        vertical-align: top;\n",
       "    }\n",
       "\n",
       "    .dataframe thead th {\n",
       "        text-align: right;\n",
       "    }\n",
       "</style>\n",
       "<table border=\"1\" class=\"dataframe\">\n",
       "  <thead>\n",
       "    <tr style=\"text-align: right;\">\n",
       "      <th></th>\n",
       "      <th>media_list_data</th>\n",
       "      <th>string_map_data</th>\n",
       "    </tr>\n",
       "  </thead>\n",
       "  <tbody>\n",
       "    <tr>\n",
       "      <th>0</th>\n",
       "      <td>[{'uri': ''}]</td>\n",
       "      <td>{'Comment': {'value': 'Were you entertained?'}...</td>\n",
       "    </tr>\n",
       "    <tr>\n",
       "      <th>1</th>\n",
       "      <td>[{'uri': ''}]</td>\n",
       "      <td>{'Comment': {'value': 'Hi, doctor!'}, 'Media O...</td>\n",
       "    </tr>\n",
       "    <tr>\n",
       "      <th>2</th>\n",
       "      <td>[{'uri': ''}]</td>\n",
       "      <td>{'Comment': {'value': 'Fins Fardashian said it...</td>\n",
       "    </tr>\n",
       "    <tr>\n",
       "      <th>3</th>\n",
       "      <td>[{'uri': ''}]</td>\n",
       "      <td>{'Comment': {'value': 'This speaks to me. Hope...</td>\n",
       "    </tr>\n",
       "    <tr>\n",
       "      <th>4</th>\n",
       "      <td>[{'uri': ''}]</td>\n",
       "      <td>{'Comment': {'value': 'â½â½â½ð'}, 'Media...</td>\n",
       "    </tr>\n",
       "  </tbody>\n",
       "</table>\n",
       "</div>"
      ],
      "text/plain": [
       "  media_list_data                                    string_map_data\n",
       "0   [{'uri': ''}]  {'Comment': {'value': 'Were you entertained?'}...\n",
       "1   [{'uri': ''}]  {'Comment': {'value': 'Hi, doctor!'}, 'Media O...\n",
       "2   [{'uri': ''}]  {'Comment': {'value': 'Fins Fardashian said it...\n",
       "3   [{'uri': ''}]  {'Comment': {'value': 'This speaks to me. Hope...\n",
       "4   [{'uri': ''}]  {'Comment': {'value': 'â½â½â½ð'}, 'Media..."
      ]
     },
     "execution_count": 6,
     "metadata": {},
     "output_type": "execute_result"
    }
   ],
   "source": [
    "com_df1 = pd.DataFrame(com_list)\n",
    "com_df1.head()"
   ]
  },
  {
   "cell_type": "markdown",
   "metadata": {},
   "source": [
    "#### That is pretty mess, but we can see two things. First, the `media_list_data` seems empty, but we can double check that. Second, the majority of the data is in the `string_map_data` column. We will work here to tidy the DataFrame further."
   ]
  },
  {
   "cell_type": "code",
   "execution_count": 7,
   "metadata": {},
   "outputs": [
    {
     "data": {
      "text/plain": [
       "[{'uri': ''}]"
      ]
     },
     "execution_count": 7,
     "metadata": {},
     "output_type": "execute_result"
    }
   ],
   "source": [
    "com_df1['media_list_data'].iloc[0]"
   ]
  },
  {
   "cell_type": "markdown",
   "metadata": {},
   "source": [
    "#### This line just averages the length of all the lists stored in the `media_list_data` column. The average is 1.0, meaning there is only one element in each of the lists. This means we can extract the elements from the list without worrying about losing data."
   ]
  },
  {
   "cell_type": "code",
   "execution_count": 8,
   "metadata": {},
   "outputs": [
    {
     "data": {
      "text/plain": [
       "1.0"
      ]
     },
     "execution_count": 8,
     "metadata": {},
     "output_type": "execute_result"
    }
   ],
   "source": [
    "sum([len(x) for x in com_df1['media_list_data']])/len(com_df1['media_list_data'])"
   ]
  },
  {
   "cell_type": "code",
   "execution_count": 9,
   "metadata": {},
   "outputs": [
    {
     "data": {
      "text/plain": [
       "array([''], dtype=object)"
      ]
     },
     "execution_count": 9,
     "metadata": {},
     "output_type": "execute_result"
    }
   ],
   "source": [
    "com_df1['uri'] = [x[0]['uri'] for x in com_df1['media_list_data']]\n",
    "com_df1['uri'].unique()"
   ]
  },
  {
   "cell_type": "markdown",
   "metadata": {},
   "source": [
    "#### The `.unique()` method is showing us each of the unique strings stored in the new `uri` column. As it turns out, the only string stored is an empty string. It would be save to remove and ignore this data completely."
   ]
  },
  {
   "cell_type": "code",
   "execution_count": 10,
   "metadata": {},
   "outputs": [
    {
     "data": {
      "text/plain": [
       "{'Comment': {'value': 'Were you entertained?'},\n",
       " 'Media Owner': {'value': 'reams_esq'},\n",
       " 'Time': {'timestamp': 1656548242}}"
      ]
     },
     "execution_count": 10,
     "metadata": {},
     "output_type": "execute_result"
    }
   ],
   "source": [
    "com_df1['string_map_data'].iloc[0]"
   ]
  },
  {
   "cell_type": "code",
   "execution_count": 11,
   "metadata": {},
   "outputs": [
    {
     "data": {
      "text/html": [
       "<div>\n",
       "<style scoped>\n",
       "    .dataframe tbody tr th:only-of-type {\n",
       "        vertical-align: middle;\n",
       "    }\n",
       "\n",
       "    .dataframe tbody tr th {\n",
       "        vertical-align: top;\n",
       "    }\n",
       "\n",
       "    .dataframe thead th {\n",
       "        text-align: right;\n",
       "    }\n",
       "</style>\n",
       "<table border=\"1\" class=\"dataframe\">\n",
       "  <thead>\n",
       "    <tr style=\"text-align: right;\">\n",
       "      <th></th>\n",
       "      <th>Comment</th>\n",
       "      <th>Media Owner</th>\n",
       "      <th>Time</th>\n",
       "    </tr>\n",
       "  </thead>\n",
       "  <tbody>\n",
       "    <tr>\n",
       "      <th>0</th>\n",
       "      <td>{'value': 'Were you entertained?'}</td>\n",
       "      <td>{'value': 'reams_esq'}</td>\n",
       "      <td>{'timestamp': 1656548242}</td>\n",
       "    </tr>\n",
       "    <tr>\n",
       "      <th>1</th>\n",
       "      <td>{'value': 'Hi, doctor!'}</td>\n",
       "      <td>{'value': 'jackie.cc'}</td>\n",
       "      <td>{'timestamp': 1650653282}</td>\n",
       "    </tr>\n",
       "    <tr>\n",
       "      <th>2</th>\n",
       "      <td>{'value': 'Fins Fardashian said it would help ...</td>\n",
       "      <td>{'value': 'newyorkercartoons'}</td>\n",
       "      <td>{'timestamp': 1623332975}</td>\n",
       "    </tr>\n",
       "    <tr>\n",
       "      <th>3</th>\n",
       "      <td>{'value': 'This speaks to me. Hope you are wel...</td>\n",
       "      <td>{'value': 'klorenza___'}</td>\n",
       "      <td>{'timestamp': 1581818525}</td>\n",
       "    </tr>\n",
       "    <tr>\n",
       "      <th>4</th>\n",
       "      <td>{'value': 'â½â½â½ð'}</td>\n",
       "      <td>{'value': 'ali_saurusrex'}</td>\n",
       "      <td>{'timestamp': 1552781566}</td>\n",
       "    </tr>\n",
       "  </tbody>\n",
       "</table>\n",
       "</div>"
      ],
      "text/plain": [
       "                                             Comment  \\\n",
       "0                 {'value': 'Were you entertained?'}   \n",
       "1                           {'value': 'Hi, doctor!'}   \n",
       "2  {'value': 'Fins Fardashian said it would help ...   \n",
       "3  {'value': 'This speaks to me. Hope you are wel...   \n",
       "4                         {'value': 'â½â½â½ð'}   \n",
       "\n",
       "                      Media Owner                       Time  \n",
       "0          {'value': 'reams_esq'}  {'timestamp': 1656548242}  \n",
       "1          {'value': 'jackie.cc'}  {'timestamp': 1650653282}  \n",
       "2  {'value': 'newyorkercartoons'}  {'timestamp': 1623332975}  \n",
       "3        {'value': 'klorenza___'}  {'timestamp': 1581818525}  \n",
       "4      {'value': 'ali_saurusrex'}  {'timestamp': 1552781566}  "
      ]
     },
     "execution_count": 11,
     "metadata": {},
     "output_type": "execute_result"
    }
   ],
   "source": [
    "com_df2 = pd.DataFrame(list(com_df1['string_map_data']))\n",
    "com_df2.head()"
   ]
  },
  {
   "cell_type": "markdown",
   "metadata": {},
   "source": [
    "#### We are getting closer, but still have a few levels of the structure to work through.\n",
    "\n",
    "In this limited case, we can assume that there is only one dictionary under each cell of the columns. This is a great use case for the pandas function `json_normalize()`. Usually this function does a very bad job of making a tidy DataFrame, but it is really good when there is limited nesting and heirarchy in the DataFrame or JSON file."
   ]
  },
  {
   "cell_type": "code",
   "execution_count": 12,
   "metadata": {},
   "outputs": [
    {
     "data": {
      "text/html": [
       "<div>\n",
       "<style scoped>\n",
       "    .dataframe tbody tr th:only-of-type {\n",
       "        vertical-align: middle;\n",
       "    }\n",
       "\n",
       "    .dataframe tbody tr th {\n",
       "        vertical-align: top;\n",
       "    }\n",
       "\n",
       "    .dataframe thead th {\n",
       "        text-align: right;\n",
       "    }\n",
       "</style>\n",
       "<table border=\"1\" class=\"dataframe\">\n",
       "  <thead>\n",
       "    <tr style=\"text-align: right;\">\n",
       "      <th></th>\n",
       "      <th>Comment.value</th>\n",
       "      <th>Media Owner.value</th>\n",
       "      <th>Time.timestamp</th>\n",
       "    </tr>\n",
       "  </thead>\n",
       "  <tbody>\n",
       "    <tr>\n",
       "      <th>0</th>\n",
       "      <td>Were you entertained?</td>\n",
       "      <td>reams_esq</td>\n",
       "      <td>1656548242</td>\n",
       "    </tr>\n",
       "    <tr>\n",
       "      <th>1</th>\n",
       "      <td>Hi, doctor!</td>\n",
       "      <td>jackie.cc</td>\n",
       "      <td>1650653282</td>\n",
       "    </tr>\n",
       "    <tr>\n",
       "      <th>2</th>\n",
       "      <td>Fins Fardashian said it would help my achy bac...</td>\n",
       "      <td>newyorkercartoons</td>\n",
       "      <td>1623332975</td>\n",
       "    </tr>\n",
       "    <tr>\n",
       "      <th>3</th>\n",
       "      <td>This speaks to me. Hope you are well, friend.</td>\n",
       "      <td>klorenza___</td>\n",
       "      <td>1581818525</td>\n",
       "    </tr>\n",
       "    <tr>\n",
       "      <th>4</th>\n",
       "      <td>â½â½â½ð</td>\n",
       "      <td>ali_saurusrex</td>\n",
       "      <td>1552781566</td>\n",
       "    </tr>\n",
       "  </tbody>\n",
       "</table>\n",
       "</div>"
      ],
      "text/plain": [
       "                                       Comment.value  Media Owner.value  \\\n",
       "0                              Were you entertained?          reams_esq   \n",
       "1                                        Hi, doctor!          jackie.cc   \n",
       "2  Fins Fardashian said it would help my achy bac...  newyorkercartoons   \n",
       "3      This speaks to me. Hope you are well, friend.        klorenza___   \n",
       "4                                      â½â½â½ð      ali_saurusrex   \n",
       "\n",
       "   Time.timestamp  \n",
       "0      1656548242  \n",
       "1      1650653282  \n",
       "2      1623332975  \n",
       "3      1581818525  \n",
       "4      1552781566  "
      ]
     },
     "execution_count": 12,
     "metadata": {},
     "output_type": "execute_result"
    }
   ],
   "source": [
    "com_df3 = pd.json_normalize(list(com_df1['string_map_data']))\n",
    "com_df3.head()"
   ]
  },
  {
   "cell_type": "markdown",
   "metadata": {},
   "source": [
    "#### I am now just cleaning up the names of the columns from the defaults chosen by the `json_normalize()` function into something more understandable.\n",
    "\n",
    "I am then applying the methods discussed in class to get to some frequency data about the number of comments on each post owned by an account."
   ]
  },
  {
   "cell_type": "code",
   "execution_count": 13,
   "metadata": {},
   "outputs": [
    {
     "data": {
      "text/html": [
       "<div>\n",
       "<style scoped>\n",
       "    .dataframe tbody tr th:only-of-type {\n",
       "        vertical-align: middle;\n",
       "    }\n",
       "\n",
       "    .dataframe tbody tr th {\n",
       "        vertical-align: top;\n",
       "    }\n",
       "\n",
       "    .dataframe thead th {\n",
       "        text-align: right;\n",
       "    }\n",
       "</style>\n",
       "<table border=\"1\" class=\"dataframe\">\n",
       "  <thead>\n",
       "    <tr style=\"text-align: right;\">\n",
       "      <th></th>\n",
       "      <th>Comment</th>\n",
       "      <th>Media Owner</th>\n",
       "      <th>Timestamp</th>\n",
       "    </tr>\n",
       "  </thead>\n",
       "  <tbody>\n",
       "    <tr>\n",
       "      <th>0</th>\n",
       "      <td>Were you entertained?</td>\n",
       "      <td>reams_esq</td>\n",
       "      <td>1656548242</td>\n",
       "    </tr>\n",
       "    <tr>\n",
       "      <th>1</th>\n",
       "      <td>Hi, doctor!</td>\n",
       "      <td>jackie.cc</td>\n",
       "      <td>1650653282</td>\n",
       "    </tr>\n",
       "    <tr>\n",
       "      <th>2</th>\n",
       "      <td>Fins Fardashian said it would help my achy bac...</td>\n",
       "      <td>newyorkercartoons</td>\n",
       "      <td>1623332975</td>\n",
       "    </tr>\n",
       "    <tr>\n",
       "      <th>3</th>\n",
       "      <td>This speaks to me. Hope you are well, friend.</td>\n",
       "      <td>klorenza___</td>\n",
       "      <td>1581818525</td>\n",
       "    </tr>\n",
       "    <tr>\n",
       "      <th>4</th>\n",
       "      <td>â½â½â½ð</td>\n",
       "      <td>ali_saurusrex</td>\n",
       "      <td>1552781566</td>\n",
       "    </tr>\n",
       "  </tbody>\n",
       "</table>\n",
       "</div>"
      ],
      "text/plain": [
       "                                             Comment        Media Owner  \\\n",
       "0                              Were you entertained?          reams_esq   \n",
       "1                                        Hi, doctor!          jackie.cc   \n",
       "2  Fins Fardashian said it would help my achy bac...  newyorkercartoons   \n",
       "3      This speaks to me. Hope you are well, friend.        klorenza___   \n",
       "4                                      â½â½â½ð      ali_saurusrex   \n",
       "\n",
       "    Timestamp  \n",
       "0  1656548242  \n",
       "1  1650653282  \n",
       "2  1623332975  \n",
       "3  1581818525  \n",
       "4  1552781566  "
      ]
     },
     "execution_count": 13,
     "metadata": {},
     "output_type": "execute_result"
    }
   ],
   "source": [
    "com_df4 = com_df3.rename(columns={'Comment.value': 'Comment', 'Media Owner.value': 'Media Owner', 'Time.timestamp': 'Timestamp'})\n",
    "com_df4.head()"
   ]
  },
  {
   "cell_type": "code",
   "execution_count": 14,
   "metadata": {},
   "outputs": [
    {
     "data": {
      "text/html": [
       "<div>\n",
       "<style scoped>\n",
       "    .dataframe tbody tr th:only-of-type {\n",
       "        vertical-align: middle;\n",
       "    }\n",
       "\n",
       "    .dataframe tbody tr th {\n",
       "        vertical-align: top;\n",
       "    }\n",
       "\n",
       "    .dataframe thead th {\n",
       "        text-align: right;\n",
       "    }\n",
       "</style>\n",
       "<table border=\"1\" class=\"dataframe\">\n",
       "  <thead>\n",
       "    <tr style=\"text-align: right;\">\n",
       "      <th></th>\n",
       "      <th>Comment</th>\n",
       "      <th>Timestamp</th>\n",
       "    </tr>\n",
       "    <tr>\n",
       "      <th>Media Owner</th>\n",
       "      <th></th>\n",
       "      <th></th>\n",
       "    </tr>\n",
       "  </thead>\n",
       "  <tbody>\n",
       "    <tr>\n",
       "      <th>technogecko</th>\n",
       "      <td>18</td>\n",
       "      <td>18</td>\n",
       "    </tr>\n",
       "    <tr>\n",
       "      <th>ali_saurusrex</th>\n",
       "      <td>8</td>\n",
       "      <td>8</td>\n",
       "    </tr>\n",
       "    <tr>\n",
       "      <th>thechadlarson</th>\n",
       "      <td>3</td>\n",
       "      <td>3</td>\n",
       "    </tr>\n",
       "    <tr>\n",
       "      <th>a_matt_silva</th>\n",
       "      <td>1</td>\n",
       "      <td>1</td>\n",
       "    </tr>\n",
       "    <tr>\n",
       "      <th>colin_storm</th>\n",
       "      <td>1</td>\n",
       "      <td>1</td>\n",
       "    </tr>\n",
       "    <tr>\n",
       "      <th>danneabreanne</th>\n",
       "      <td>1</td>\n",
       "      <td>1</td>\n",
       "    </tr>\n",
       "    <tr>\n",
       "      <th>fanatikbikeco</th>\n",
       "      <td>1</td>\n",
       "      <td>1</td>\n",
       "    </tr>\n",
       "    <tr>\n",
       "      <th>jackie.cc</th>\n",
       "      <td>1</td>\n",
       "      <td>1</td>\n",
       "    </tr>\n",
       "    <tr>\n",
       "      <th>klorenza___</th>\n",
       "      <td>1</td>\n",
       "      <td>1</td>\n",
       "    </tr>\n",
       "    <tr>\n",
       "      <th>mtb_crohnert92</th>\n",
       "      <td>1</td>\n",
       "      <td>1</td>\n",
       "    </tr>\n",
       "    <tr>\n",
       "      <th>newyorkercartoons</th>\n",
       "      <td>1</td>\n",
       "      <td>1</td>\n",
       "    </tr>\n",
       "    <tr>\n",
       "      <th>reams_esq</th>\n",
       "      <td>1</td>\n",
       "      <td>1</td>\n",
       "    </tr>\n",
       "  </tbody>\n",
       "</table>\n",
       "</div>"
      ],
      "text/plain": [
       "                   Comment  Timestamp\n",
       "Media Owner                          \n",
       "technogecko             18         18\n",
       "ali_saurusrex            8          8\n",
       "thechadlarson            3          3\n",
       "a_matt_silva             1          1\n",
       "colin_storm              1          1\n",
       "danneabreanne            1          1\n",
       "fanatikbikeco            1          1\n",
       "jackie.cc                1          1\n",
       "klorenza___              1          1\n",
       "mtb_crohnert92           1          1\n",
       "newyorkercartoons        1          1\n",
       "reams_esq                1          1"
      ]
     },
     "execution_count": 14,
     "metadata": {},
     "output_type": "execute_result"
    }
   ],
   "source": [
    "com_df4.groupby('Media Owner').count().\\\n",
    "sort_values('Comment', ascending = False)"
   ]
  },
  {
   "cell_type": "markdown",
   "metadata": {},
   "source": [
    "#### As it turns out, most of my comments are on my own account. Presumably this is in response to other people commenting, but we would have to check back with the account to verify this assumption."
   ]
  }
 ],
 "metadata": {
  "kernelspec": {
   "display_name": "indata_sp24",
   "language": "python",
   "name": "python3"
  },
  "language_info": {
   "codemirror_mode": {
    "name": "ipython",
    "version": 3
   },
   "file_extension": ".py",
   "mimetype": "text/x-python",
   "name": "python",
   "nbconvert_exporter": "python",
   "pygments_lexer": "ipython3",
   "version": "3.12.0"
  }
 },
 "nbformat": 4,
 "nbformat_minor": 2
}
