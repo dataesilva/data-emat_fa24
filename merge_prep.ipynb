{
 "cells": [
  {
   "cell_type": "code",
   "execution_count": 1,
   "id": "390e0c3e-6086-4efd-9c6a-6a69bd1e55f2",
   "metadata": {},
   "outputs": [],
   "source": [
    "import urllib\n",
    "import requests\n",
    "import pandas as pd\n",
    "import json\n",
    "import base64"
   ]
  },
  {
   "cell_type": "code",
   "execution_count": 2,
   "id": "85bd4a86-db84-48b3-8958-42bab26afae5",
   "metadata": {},
   "outputs": [
    {
     "data": {
      "text/plain": [
       "'david+%3A%25%26%3D+silva'"
      ]
     },
     "execution_count": 2,
     "metadata": {},
     "output_type": "execute_result"
    }
   ],
   "source": [
    "text = 'david :%&= silva'\n",
    "urllib.parse.quote_plus(text)"
   ]
  },
  {
   "cell_type": "code",
   "execution_count": 3,
   "id": "afe8790c-7d19-4adc-9d39-6e2ad58a0899",
   "metadata": {},
   "outputs": [],
   "source": [
    "query = 'artist:silva genre:pop tag:new'\n",
    "url_query = urllib.parse.quote_plus(query)"
   ]
  },
  {
   "cell_type": "code",
   "execution_count": 4,
   "id": "043b5d21-a4b4-4cd9-9216-b07367eb6c65",
   "metadata": {},
   "outputs": [],
   "source": [
    "def get_session_token(SessionID, SessionKey):\n",
    "    url = 'https://accounts.spotify.com/api/token'\n",
    "    data = {'grant_type':'client_credentials'}\n",
    "    encoded_key = base64.b64encode(str(SessionID + \":\" + SessionKey).\\\n",
    "                                   encode(\"ascii\"))\n",
    "    header = {'Authorization': 'Basic {}'.format(encoded_key.decode(\"ascii\"))}\n",
    "    response = requests.post(url,\n",
    "                            data = data,\n",
    "                            headers = header)\n",
    "    print(response.status_code)\n",
    "    return response.json()['access_token']"
   ]
  },
  {
   "cell_type": "code",
   "execution_count": 6,
   "id": "bfa92730-082a-4de1-8952-5a5c57073e9e",
   "metadata": {},
   "outputs": [],
   "source": [
    "keys = pd.read_csv(r\"../..\\Dropbox\\Kent\\EMAT-32210_Data-in-EMAT\\Spotify-Keys_9-12-23.txt\")"
   ]
  },
  {
   "cell_type": "code",
   "execution_count": 6,
   "id": "15075767-9cb0-48f7-8006-ce9502c8b1f6",
   "metadata": {},
   "outputs": [],
   "source": [
    "# keys"
   ]
  },
  {
   "cell_type": "code",
   "execution_count": 7,
   "id": "08d97f95-238d-4c68-b885-3a5921e6275e",
   "metadata": {},
   "outputs": [
    {
     "name": "stdout",
     "output_type": "stream",
     "text": [
      "200\n"
     ]
    }
   ],
   "source": [
    "access_token = get_session_token(keys['Client_ID'].iloc[0], keys['Client_Secret'].iloc[0])"
   ]
  },
  {
   "cell_type": "code",
   "execution_count": 8,
   "id": "2e987ecc-9307-45e1-9e4f-4376092e8901",
   "metadata": {},
   "outputs": [],
   "source": [
    "# access_token\n",
    "api_header = {'Authorization': 'Bearer {}'.format(access_token)}"
   ]
  },
  {
   "cell_type": "code",
   "execution_count": 32,
   "id": "2601c225",
   "metadata": {},
   "outputs": [],
   "source": [
    "api_base_url = 'https://api.spotify.com/v1/'\n",
    "search_url = api_base_url + 'search'\n",
    "album_tracks_url = api_base_url + 'albums/{}/tracks'\n",
    "track_features_url = api_base_url + 'audio-features'\n",
    "tracks_url = api_base_url + 'tracks'"
   ]
  },
  {
   "cell_type": "code",
   "execution_count": 10,
   "id": "67aea343",
   "metadata": {},
   "outputs": [
    {
     "data": {
      "text/plain": [
       "'?q=artist%3Dsabrina+carpenter&type=album&market=US&limit=2'"
      ]
     },
     "execution_count": 10,
     "metadata": {},
     "output_type": "execute_result"
    }
   ],
   "source": [
    "search_query1 = urllib.parse.quote_plus('artist=sabrina carpenter')\n",
    "search_query2 = urllib.parse.quote_plus('artist=chappell roan')\n",
    "search_params = '?q={}&type=album&market=US&limit=2'\n",
    "search_params.format(search_query1)\n",
    "# search_params"
   ]
  },
  {
   "cell_type": "code",
   "execution_count": 11,
   "id": "f95836cc",
   "metadata": {},
   "outputs": [],
   "source": [
    "def api_request(endpoint_url, header):\n",
    "    response = requests.get(endpoint_url, headers = header)\n",
    "    print(response.status_code)\n",
    "    return response"
   ]
  },
  {
   "cell_type": "code",
   "execution_count": 12,
   "id": "3940203e",
   "metadata": {},
   "outputs": [
    {
     "name": "stdout",
     "output_type": "stream",
     "text": [
      "200\n"
     ]
    }
   ],
   "source": [
    "search_response = api_request(search_url + search_params.format(search_query1), api_header)"
   ]
  },
  {
   "cell_type": "code",
   "execution_count": 19,
   "id": "c39d6082",
   "metadata": {},
   "outputs": [
    {
     "data": {
      "text/plain": [
       "'3iPSVi54hsacKKl1xIR2eH'"
      ]
     },
     "execution_count": 19,
     "metadata": {},
     "output_type": "execute_result"
    }
   ],
   "source": [
    "search_response.json()['albums']['items'][0]['id']"
   ]
  },
  {
   "cell_type": "code",
   "execution_count": 14,
   "id": "a2001428",
   "metadata": {},
   "outputs": [
    {
     "name": "stdout",
     "output_type": "stream",
     "text": [
      "200\n",
      "200\n"
     ]
    }
   ],
   "source": [
    "cr_tracks = api_request(tracks_url.format('0EiI8ylL0FmWWpgHVTsZjZ'), api_header)\n",
    "sc_tracks = api_request(tracks_url.format('5bBaoign62r1i7OV8w7mi9'), api_header)"
   ]
  },
  {
   "cell_type": "code",
   "execution_count": 17,
   "id": "7fbb8b1a",
   "metadata": {},
   "outputs": [
    {
     "data": {
      "text/plain": [
       "dict_keys(['artists', 'available_markets', 'disc_number', 'duration_ms', 'explicit', 'external_urls', 'href', 'id', 'name', 'track_number', 'type', 'uri', 'is_local'])"
      ]
     },
     "execution_count": 17,
     "metadata": {},
     "output_type": "execute_result"
    }
   ],
   "source": [
    "cr_tracks.json()['items'][0].keys()"
   ]
  },
  {
   "cell_type": "markdown",
   "id": "58eb8d65",
   "metadata": {},
   "source": [
    "Popularity for the tracks and then the audio features for the tracks, then merge the dataframes on id"
   ]
  },
  {
   "cell_type": "code",
   "execution_count": 25,
   "id": "a3ed040c",
   "metadata": {},
   "outputs": [
    {
     "data": {
      "text/html": [
       "<div>\n",
       "<style scoped>\n",
       "    .dataframe tbody tr th:only-of-type {\n",
       "        vertical-align: middle;\n",
       "    }\n",
       "\n",
       "    .dataframe tbody tr th {\n",
       "        vertical-align: top;\n",
       "    }\n",
       "\n",
       "    .dataframe thead th {\n",
       "        text-align: right;\n",
       "    }\n",
       "</style>\n",
       "<table border=\"1\" class=\"dataframe\">\n",
       "  <thead>\n",
       "    <tr style=\"text-align: right;\">\n",
       "      <th></th>\n",
       "      <th>artists</th>\n",
       "      <th>available_markets</th>\n",
       "      <th>disc_number</th>\n",
       "      <th>duration_ms</th>\n",
       "      <th>explicit</th>\n",
       "      <th>external_urls</th>\n",
       "      <th>href</th>\n",
       "      <th>id</th>\n",
       "      <th>name</th>\n",
       "      <th>track_number</th>\n",
       "      <th>type</th>\n",
       "      <th>uri</th>\n",
       "      <th>is_local</th>\n",
       "    </tr>\n",
       "  </thead>\n",
       "  <tbody>\n",
       "    <tr>\n",
       "      <th>0</th>\n",
       "      <td>[{'external_urls': {'spotify': 'https://open.s...</td>\n",
       "      <td>[AR, AU, AT, BE, BO, BR, BG, CA, CL, CO, CR, C...</td>\n",
       "      <td>1</td>\n",
       "      <td>219710</td>\n",
       "      <td>True</td>\n",
       "      <td>{'spotify': 'https://open.spotify.com/track/53...</td>\n",
       "      <td>https://api.spotify.com/v1/tracks/53IRnAWx13PY...</td>\n",
       "      <td>53IRnAWx13PYmoVYtemUBS</td>\n",
       "      <td>Femininomenon</td>\n",
       "      <td>1</td>\n",
       "      <td>track</td>\n",
       "      <td>spotify:track:53IRnAWx13PYmoVYtemUBS</td>\n",
       "      <td>False</td>\n",
       "    </tr>\n",
       "    <tr>\n",
       "      <th>1</th>\n",
       "      <td>[{'external_urls': {'spotify': 'https://open.s...</td>\n",
       "      <td>[AR, AU, AT, BE, BO, BR, BG, CA, CL, CO, CR, C...</td>\n",
       "      <td>1</td>\n",
       "      <td>192720</td>\n",
       "      <td>True</td>\n",
       "      <td>{'spotify': 'https://open.spotify.com/track/7F...</td>\n",
       "      <td>https://api.spotify.com/v1/tracks/7FOgcfdz9Nx5...</td>\n",
       "      <td>7FOgcfdz9Nx5V9lCNXdBYv</td>\n",
       "      <td>Red Wine Supernova</td>\n",
       "      <td>2</td>\n",
       "      <td>track</td>\n",
       "      <td>spotify:track:7FOgcfdz9Nx5V9lCNXdBYv</td>\n",
       "      <td>False</td>\n",
       "    </tr>\n",
       "    <tr>\n",
       "      <th>2</th>\n",
       "      <td>[{'external_urls': {'spotify': 'https://open.s...</td>\n",
       "      <td>[AR, AU, AT, BE, BO, BR, BG, CA, CL, CO, CR, C...</td>\n",
       "      <td>1</td>\n",
       "      <td>204857</td>\n",
       "      <td>False</td>\n",
       "      <td>{'spotify': 'https://open.spotify.com/track/4r...</td>\n",
       "      <td>https://api.spotify.com/v1/tracks/4rlQza35DE4P...</td>\n",
       "      <td>4rlQza35DE4Prh5yonxnCs</td>\n",
       "      <td>After Midnight</td>\n",
       "      <td>3</td>\n",
       "      <td>track</td>\n",
       "      <td>spotify:track:4rlQza35DE4Prh5yonxnCs</td>\n",
       "      <td>False</td>\n",
       "    </tr>\n",
       "    <tr>\n",
       "      <th>3</th>\n",
       "      <td>[{'external_urls': {'spotify': 'https://open.s...</td>\n",
       "      <td>[AR, AU, AT, BE, BO, BR, BG, CA, CL, CO, CR, C...</td>\n",
       "      <td>1</td>\n",
       "      <td>205520</td>\n",
       "      <td>False</td>\n",
       "      <td>{'spotify': 'https://open.spotify.com/track/6G...</td>\n",
       "      <td>https://api.spotify.com/v1/tracks/6GdUMm5xMw9h...</td>\n",
       "      <td>6GdUMm5xMw9hJckIc0qsGb</td>\n",
       "      <td>Coffee</td>\n",
       "      <td>4</td>\n",
       "      <td>track</td>\n",
       "      <td>spotify:track:6GdUMm5xMw9hJckIc0qsGb</td>\n",
       "      <td>False</td>\n",
       "    </tr>\n",
       "    <tr>\n",
       "      <th>4</th>\n",
       "      <td>[{'external_urls': {'spotify': 'https://open.s...</td>\n",
       "      <td>[AR, AU, AT, BE, BO, BR, BG, CA, CL, CO, CR, C...</td>\n",
       "      <td>1</td>\n",
       "      <td>232796</td>\n",
       "      <td>True</td>\n",
       "      <td>{'spotify': 'https://open.spotify.com/track/3W...</td>\n",
       "      <td>https://api.spotify.com/v1/tracks/3WSOUb3U7tqU...</td>\n",
       "      <td>3WSOUb3U7tqURbBSgZTrZX</td>\n",
       "      <td>Casual</td>\n",
       "      <td>5</td>\n",
       "      <td>track</td>\n",
       "      <td>spotify:track:3WSOUb3U7tqURbBSgZTrZX</td>\n",
       "      <td>False</td>\n",
       "    </tr>\n",
       "  </tbody>\n",
       "</table>\n",
       "</div>"
      ],
      "text/plain": [
       "                                             artists  \\\n",
       "0  [{'external_urls': {'spotify': 'https://open.s...   \n",
       "1  [{'external_urls': {'spotify': 'https://open.s...   \n",
       "2  [{'external_urls': {'spotify': 'https://open.s...   \n",
       "3  [{'external_urls': {'spotify': 'https://open.s...   \n",
       "4  [{'external_urls': {'spotify': 'https://open.s...   \n",
       "\n",
       "                                   available_markets  disc_number  \\\n",
       "0  [AR, AU, AT, BE, BO, BR, BG, CA, CL, CO, CR, C...            1   \n",
       "1  [AR, AU, AT, BE, BO, BR, BG, CA, CL, CO, CR, C...            1   \n",
       "2  [AR, AU, AT, BE, BO, BR, BG, CA, CL, CO, CR, C...            1   \n",
       "3  [AR, AU, AT, BE, BO, BR, BG, CA, CL, CO, CR, C...            1   \n",
       "4  [AR, AU, AT, BE, BO, BR, BG, CA, CL, CO, CR, C...            1   \n",
       "\n",
       "   duration_ms  explicit                                      external_urls  \\\n",
       "0       219710      True  {'spotify': 'https://open.spotify.com/track/53...   \n",
       "1       192720      True  {'spotify': 'https://open.spotify.com/track/7F...   \n",
       "2       204857     False  {'spotify': 'https://open.spotify.com/track/4r...   \n",
       "3       205520     False  {'spotify': 'https://open.spotify.com/track/6G...   \n",
       "4       232796      True  {'spotify': 'https://open.spotify.com/track/3W...   \n",
       "\n",
       "                                                href                      id  \\\n",
       "0  https://api.spotify.com/v1/tracks/53IRnAWx13PY...  53IRnAWx13PYmoVYtemUBS   \n",
       "1  https://api.spotify.com/v1/tracks/7FOgcfdz9Nx5...  7FOgcfdz9Nx5V9lCNXdBYv   \n",
       "2  https://api.spotify.com/v1/tracks/4rlQza35DE4P...  4rlQza35DE4Prh5yonxnCs   \n",
       "3  https://api.spotify.com/v1/tracks/6GdUMm5xMw9h...  6GdUMm5xMw9hJckIc0qsGb   \n",
       "4  https://api.spotify.com/v1/tracks/3WSOUb3U7tqU...  3WSOUb3U7tqURbBSgZTrZX   \n",
       "\n",
       "                 name  track_number   type  \\\n",
       "0       Femininomenon             1  track   \n",
       "1  Red Wine Supernova             2  track   \n",
       "2      After Midnight             3  track   \n",
       "3              Coffee             4  track   \n",
       "4              Casual             5  track   \n",
       "\n",
       "                                    uri  is_local  \n",
       "0  spotify:track:53IRnAWx13PYmoVYtemUBS     False  \n",
       "1  spotify:track:7FOgcfdz9Nx5V9lCNXdBYv     False  \n",
       "2  spotify:track:4rlQza35DE4Prh5yonxnCs     False  \n",
       "3  spotify:track:6GdUMm5xMw9hJckIc0qsGb     False  \n",
       "4  spotify:track:3WSOUb3U7tqURbBSgZTrZX     False  "
      ]
     },
     "execution_count": 25,
     "metadata": {},
     "output_type": "execute_result"
    }
   ],
   "source": [
    "cr_tracks_df = pd.DataFrame(cr_tracks.json()['items'])\n",
    "cr_tracks_df.head()"
   ]
  },
  {
   "cell_type": "code",
   "execution_count": 29,
   "id": "e860ac64",
   "metadata": {},
   "outputs": [
    {
     "data": {
      "text/plain": [
       "'53IRnAWx13PYmoVYtemUBS,7FOgcfdz9Nx5V9lCNXdBYv,4rlQza35DE4Prh5yonxnCs,6GdUMm5xMw9hJckIc0qsGb,3WSOUb3U7tqURbBSgZTrZX,1rNSCrsOoWyhKH4g47mehU,4xdBrk0nFZaP54vvZj0yx7,32fSZSbxeVoiZShMQKLc6Z,5KtvumPgVZmt8wg9xONE0T,4ROYC4vHfPZ28mqz0eLrzL,1k2pQc5i348DCHwbn5KTdc,4LKYOetuIF5c9XjeLBL9av,6dA1JQt3f3meGzahhNN75m,0q8TNCQhwnDwnzq38IVV4l'"
      ]
     },
     "execution_count": 29,
     "metadata": {},
     "output_type": "execute_result"
    }
   ],
   "source": [
    "','.join(cr_tracks_df['id'].to_list())"
   ]
  },
  {
   "cell_type": "code",
   "execution_count": 30,
   "id": "73fe6114",
   "metadata": {},
   "outputs": [],
   "source": [
    "tracks_params_cr = '?market=US&ids={}'.format(','.join(cr_tracks_df['id'].to_list()))"
   ]
  },
  {
   "cell_type": "code",
   "execution_count": 37,
   "id": "e6957f55",
   "metadata": {},
   "outputs": [
    {
     "data": {
      "text/plain": [
       "'https://api.spotify.com/v1/tracks?market=US&ids=53IRnAWx13PYmoVYtemUBS,7FOgcfdz9Nx5V9lCNXdBYv,4rlQza35DE4Prh5yonxnCs,6GdUMm5xMw9hJckIc0qsGb,3WSOUb3U7tqURbBSgZTrZX,1rNSCrsOoWyhKH4g47mehU,4xdBrk0nFZaP54vvZj0yx7,32fSZSbxeVoiZShMQKLc6Z,5KtvumPgVZmt8wg9xONE0T,4ROYC4vHfPZ28mqz0eLrzL,1k2pQc5i348DCHwbn5KTdc,4LKYOetuIF5c9XjeLBL9av,6dA1JQt3f3meGzahhNN75m,0q8TNCQhwnDwnzq38IVV4l'"
      ]
     },
     "execution_count": 37,
     "metadata": {},
     "output_type": "execute_result"
    }
   ],
   "source": [
    "tracks_url + tracks_params_cr"
   ]
  },
  {
   "cell_type": "code",
   "execution_count": 42,
   "id": "9103ac5d",
   "metadata": {},
   "outputs": [
    {
     "name": "stdout",
     "output_type": "stream",
     "text": [
      "200\n",
      "200\n"
     ]
    }
   ],
   "source": [
    "cr_track_response = api_request(tracks_url + tracks_params_cr, api_header)\n",
    "cr_track_features_response = api_request(track_features_url + '?ids={}'.format(','.join(cr_tracks_df['id'].to_list())), api_header)"
   ]
  },
  {
   "cell_type": "code",
   "execution_count": 43,
   "id": "d3f0e59c",
   "metadata": {},
   "outputs": [
    {
     "data": {
      "text/plain": [
       "dict_keys(['tracks'])"
      ]
     },
     "execution_count": 43,
     "metadata": {},
     "output_type": "execute_result"
    }
   ],
   "source": [
    "cr_track_response.json().keys()"
   ]
  },
  {
   "cell_type": "code",
   "execution_count": 47,
   "id": "40919b6e",
   "metadata": {},
   "outputs": [
    {
     "data": {
      "text/html": [
       "<div>\n",
       "<style scoped>\n",
       "    .dataframe tbody tr th:only-of-type {\n",
       "        vertical-align: middle;\n",
       "    }\n",
       "\n",
       "    .dataframe tbody tr th {\n",
       "        vertical-align: top;\n",
       "    }\n",
       "\n",
       "    .dataframe thead th {\n",
       "        text-align: right;\n",
       "    }\n",
       "</style>\n",
       "<table border=\"1\" class=\"dataframe\">\n",
       "  <thead>\n",
       "    <tr style=\"text-align: right;\">\n",
       "      <th></th>\n",
       "      <th>album</th>\n",
       "      <th>artists</th>\n",
       "      <th>disc_number</th>\n",
       "      <th>duration_ms</th>\n",
       "      <th>explicit</th>\n",
       "      <th>external_ids</th>\n",
       "      <th>external_urls</th>\n",
       "      <th>href</th>\n",
       "      <th>id</th>\n",
       "      <th>is_local</th>\n",
       "      <th>is_playable</th>\n",
       "      <th>name</th>\n",
       "      <th>popularity</th>\n",
       "      <th>track_number</th>\n",
       "      <th>type</th>\n",
       "      <th>uri</th>\n",
       "    </tr>\n",
       "  </thead>\n",
       "  <tbody>\n",
       "    <tr>\n",
       "      <th>0</th>\n",
       "      <td>{'album_type': 'album', 'artists': [{'external...</td>\n",
       "      <td>[{'external_urls': {'spotify': 'https://open.s...</td>\n",
       "      <td>1</td>\n",
       "      <td>219710</td>\n",
       "      <td>True</td>\n",
       "      <td>{'isrc': 'USUG12302738'}</td>\n",
       "      <td>{'spotify': 'https://open.spotify.com/track/53...</td>\n",
       "      <td>https://api.spotify.com/v1/tracks/53IRnAWx13PY...</td>\n",
       "      <td>53IRnAWx13PYmoVYtemUBS</td>\n",
       "      <td>False</td>\n",
       "      <td>True</td>\n",
       "      <td>Femininomenon</td>\n",
       "      <td>85</td>\n",
       "      <td>1</td>\n",
       "      <td>track</td>\n",
       "      <td>spotify:track:53IRnAWx13PYmoVYtemUBS</td>\n",
       "    </tr>\n",
       "    <tr>\n",
       "      <th>1</th>\n",
       "      <td>{'album_type': 'album', 'artists': [{'external...</td>\n",
       "      <td>[{'external_urls': {'spotify': 'https://open.s...</td>\n",
       "      <td>1</td>\n",
       "      <td>192720</td>\n",
       "      <td>True</td>\n",
       "      <td>{'isrc': 'USUG12301845'}</td>\n",
       "      <td>{'spotify': 'https://open.spotify.com/track/7F...</td>\n",
       "      <td>https://api.spotify.com/v1/tracks/7FOgcfdz9Nx5...</td>\n",
       "      <td>7FOgcfdz9Nx5V9lCNXdBYv</td>\n",
       "      <td>False</td>\n",
       "      <td>True</td>\n",
       "      <td>Red Wine Supernova</td>\n",
       "      <td>88</td>\n",
       "      <td>2</td>\n",
       "      <td>track</td>\n",
       "      <td>spotify:track:7FOgcfdz9Nx5V9lCNXdBYv</td>\n",
       "    </tr>\n",
       "    <tr>\n",
       "      <th>2</th>\n",
       "      <td>{'album_type': 'album', 'artists': [{'external...</td>\n",
       "      <td>[{'external_urls': {'spotify': 'https://open.s...</td>\n",
       "      <td>1</td>\n",
       "      <td>204857</td>\n",
       "      <td>False</td>\n",
       "      <td>{'isrc': 'USUG12302739'}</td>\n",
       "      <td>{'spotify': 'https://open.spotify.com/track/4r...</td>\n",
       "      <td>https://api.spotify.com/v1/tracks/4rlQza35DE4P...</td>\n",
       "      <td>4rlQza35DE4Prh5yonxnCs</td>\n",
       "      <td>False</td>\n",
       "      <td>True</td>\n",
       "      <td>After Midnight</td>\n",
       "      <td>80</td>\n",
       "      <td>3</td>\n",
       "      <td>track</td>\n",
       "      <td>spotify:track:4rlQza35DE4Prh5yonxnCs</td>\n",
       "    </tr>\n",
       "    <tr>\n",
       "      <th>3</th>\n",
       "      <td>{'album_type': 'album', 'artists': [{'external...</td>\n",
       "      <td>[{'external_urls': {'spotify': 'https://open.s...</td>\n",
       "      <td>1</td>\n",
       "      <td>205520</td>\n",
       "      <td>False</td>\n",
       "      <td>{'isrc': 'USUG12305909'}</td>\n",
       "      <td>{'spotify': 'https://open.spotify.com/track/6G...</td>\n",
       "      <td>https://api.spotify.com/v1/tracks/6GdUMm5xMw9h...</td>\n",
       "      <td>6GdUMm5xMw9hJckIc0qsGb</td>\n",
       "      <td>False</td>\n",
       "      <td>True</td>\n",
       "      <td>Coffee</td>\n",
       "      <td>74</td>\n",
       "      <td>4</td>\n",
       "      <td>track</td>\n",
       "      <td>spotify:track:6GdUMm5xMw9hJckIc0qsGb</td>\n",
       "    </tr>\n",
       "    <tr>\n",
       "      <th>4</th>\n",
       "      <td>{'album_type': 'album', 'artists': [{'external...</td>\n",
       "      <td>[{'external_urls': {'spotify': 'https://open.s...</td>\n",
       "      <td>1</td>\n",
       "      <td>232796</td>\n",
       "      <td>True</td>\n",
       "      <td>{'isrc': 'QM24S2205365'}</td>\n",
       "      <td>{'spotify': 'https://open.spotify.com/track/3W...</td>\n",
       "      <td>https://api.spotify.com/v1/tracks/3WSOUb3U7tqU...</td>\n",
       "      <td>3WSOUb3U7tqURbBSgZTrZX</td>\n",
       "      <td>False</td>\n",
       "      <td>True</td>\n",
       "      <td>Casual</td>\n",
       "      <td>87</td>\n",
       "      <td>5</td>\n",
       "      <td>track</td>\n",
       "      <td>spotify:track:3WSOUb3U7tqURbBSgZTrZX</td>\n",
       "    </tr>\n",
       "  </tbody>\n",
       "</table>\n",
       "</div>"
      ],
      "text/plain": [
       "                                               album  \\\n",
       "0  {'album_type': 'album', 'artists': [{'external...   \n",
       "1  {'album_type': 'album', 'artists': [{'external...   \n",
       "2  {'album_type': 'album', 'artists': [{'external...   \n",
       "3  {'album_type': 'album', 'artists': [{'external...   \n",
       "4  {'album_type': 'album', 'artists': [{'external...   \n",
       "\n",
       "                                             artists  disc_number  \\\n",
       "0  [{'external_urls': {'spotify': 'https://open.s...            1   \n",
       "1  [{'external_urls': {'spotify': 'https://open.s...            1   \n",
       "2  [{'external_urls': {'spotify': 'https://open.s...            1   \n",
       "3  [{'external_urls': {'spotify': 'https://open.s...            1   \n",
       "4  [{'external_urls': {'spotify': 'https://open.s...            1   \n",
       "\n",
       "   duration_ms  explicit              external_ids  \\\n",
       "0       219710      True  {'isrc': 'USUG12302738'}   \n",
       "1       192720      True  {'isrc': 'USUG12301845'}   \n",
       "2       204857     False  {'isrc': 'USUG12302739'}   \n",
       "3       205520     False  {'isrc': 'USUG12305909'}   \n",
       "4       232796      True  {'isrc': 'QM24S2205365'}   \n",
       "\n",
       "                                       external_urls  \\\n",
       "0  {'spotify': 'https://open.spotify.com/track/53...   \n",
       "1  {'spotify': 'https://open.spotify.com/track/7F...   \n",
       "2  {'spotify': 'https://open.spotify.com/track/4r...   \n",
       "3  {'spotify': 'https://open.spotify.com/track/6G...   \n",
       "4  {'spotify': 'https://open.spotify.com/track/3W...   \n",
       "\n",
       "                                                href                      id  \\\n",
       "0  https://api.spotify.com/v1/tracks/53IRnAWx13PY...  53IRnAWx13PYmoVYtemUBS   \n",
       "1  https://api.spotify.com/v1/tracks/7FOgcfdz9Nx5...  7FOgcfdz9Nx5V9lCNXdBYv   \n",
       "2  https://api.spotify.com/v1/tracks/4rlQza35DE4P...  4rlQza35DE4Prh5yonxnCs   \n",
       "3  https://api.spotify.com/v1/tracks/6GdUMm5xMw9h...  6GdUMm5xMw9hJckIc0qsGb   \n",
       "4  https://api.spotify.com/v1/tracks/3WSOUb3U7tqU...  3WSOUb3U7tqURbBSgZTrZX   \n",
       "\n",
       "   is_local  is_playable                name  popularity  track_number   type  \\\n",
       "0     False         True       Femininomenon          85             1  track   \n",
       "1     False         True  Red Wine Supernova          88             2  track   \n",
       "2     False         True      After Midnight          80             3  track   \n",
       "3     False         True              Coffee          74             4  track   \n",
       "4     False         True              Casual          87             5  track   \n",
       "\n",
       "                                    uri  \n",
       "0  spotify:track:53IRnAWx13PYmoVYtemUBS  \n",
       "1  spotify:track:7FOgcfdz9Nx5V9lCNXdBYv  \n",
       "2  spotify:track:4rlQza35DE4Prh5yonxnCs  \n",
       "3  spotify:track:6GdUMm5xMw9hJckIc0qsGb  \n",
       "4  spotify:track:3WSOUb3U7tqURbBSgZTrZX  "
      ]
     },
     "execution_count": 47,
     "metadata": {},
     "output_type": "execute_result"
    }
   ],
   "source": [
    "pd.DataFrame(cr_track_response.json()['tracks']).head()"
   ]
  },
  {
   "cell_type": "code",
   "execution_count": 51,
   "id": "4f4996f8",
   "metadata": {},
   "outputs": [
    {
     "data": {
      "text/plain": [
       "{'danceability': 0.609,\n",
       " 'energy': 0.758,\n",
       " 'key': 0,\n",
       " 'loudness': -4.885,\n",
       " 'mode': 0,\n",
       " 'speechiness': 0.0525,\n",
       " 'acousticness': 0.139,\n",
       " 'instrumentalness': 5.38e-06,\n",
       " 'liveness': 0.11,\n",
       " 'valence': 0.236,\n",
       " 'tempo': 124.949,\n",
       " 'type': 'audio_features',\n",
       " 'id': '53IRnAWx13PYmoVYtemUBS',\n",
       " 'uri': 'spotify:track:53IRnAWx13PYmoVYtemUBS',\n",
       " 'track_href': 'https://api.spotify.com/v1/tracks/53IRnAWx13PYmoVYtemUBS',\n",
       " 'analysis_url': 'https://api.spotify.com/v1/audio-analysis/53IRnAWx13PYmoVYtemUBS',\n",
       " 'duration_ms': 219711,\n",
       " 'time_signature': 4}"
      ]
     },
     "execution_count": 51,
     "metadata": {},
     "output_type": "execute_result"
    }
   ],
   "source": [
    "cr_track_features_response.json()['audio_features'][0]"
   ]
  },
  {
   "cell_type": "code",
   "execution_count": 52,
   "id": "74d63451",
   "metadata": {},
   "outputs": [
    {
     "data": {
      "text/html": [
       "<div>\n",
       "<style scoped>\n",
       "    .dataframe tbody tr th:only-of-type {\n",
       "        vertical-align: middle;\n",
       "    }\n",
       "\n",
       "    .dataframe tbody tr th {\n",
       "        vertical-align: top;\n",
       "    }\n",
       "\n",
       "    .dataframe thead th {\n",
       "        text-align: right;\n",
       "    }\n",
       "</style>\n",
       "<table border=\"1\" class=\"dataframe\">\n",
       "  <thead>\n",
       "    <tr style=\"text-align: right;\">\n",
       "      <th></th>\n",
       "      <th>danceability</th>\n",
       "      <th>energy</th>\n",
       "      <th>key</th>\n",
       "      <th>loudness</th>\n",
       "      <th>mode</th>\n",
       "      <th>speechiness</th>\n",
       "      <th>acousticness</th>\n",
       "      <th>instrumentalness</th>\n",
       "      <th>liveness</th>\n",
       "      <th>valence</th>\n",
       "      <th>tempo</th>\n",
       "      <th>type</th>\n",
       "      <th>id</th>\n",
       "      <th>uri</th>\n",
       "      <th>track_href</th>\n",
       "      <th>analysis_url</th>\n",
       "      <th>duration_ms</th>\n",
       "      <th>time_signature</th>\n",
       "    </tr>\n",
       "  </thead>\n",
       "  <tbody>\n",
       "    <tr>\n",
       "      <th>0</th>\n",
       "      <td>0.609</td>\n",
       "      <td>0.758</td>\n",
       "      <td>0</td>\n",
       "      <td>-4.885</td>\n",
       "      <td>0</td>\n",
       "      <td>0.0525</td>\n",
       "      <td>0.1390</td>\n",
       "      <td>0.000005</td>\n",
       "      <td>0.1100</td>\n",
       "      <td>0.236</td>\n",
       "      <td>124.949</td>\n",
       "      <td>audio_features</td>\n",
       "      <td>53IRnAWx13PYmoVYtemUBS</td>\n",
       "      <td>spotify:track:53IRnAWx13PYmoVYtemUBS</td>\n",
       "      <td>https://api.spotify.com/v1/tracks/53IRnAWx13PY...</td>\n",
       "      <td>https://api.spotify.com/v1/audio-analysis/53IR...</td>\n",
       "      <td>219711</td>\n",
       "      <td>4</td>\n",
       "    </tr>\n",
       "    <tr>\n",
       "      <th>1</th>\n",
       "      <td>0.657</td>\n",
       "      <td>0.820</td>\n",
       "      <td>9</td>\n",
       "      <td>-4.448</td>\n",
       "      <td>1</td>\n",
       "      <td>0.0441</td>\n",
       "      <td>0.0176</td>\n",
       "      <td>0.000000</td>\n",
       "      <td>0.0847</td>\n",
       "      <td>0.709</td>\n",
       "      <td>124.041</td>\n",
       "      <td>audio_features</td>\n",
       "      <td>7FOgcfdz9Nx5V9lCNXdBYv</td>\n",
       "      <td>spotify:track:7FOgcfdz9Nx5V9lCNXdBYv</td>\n",
       "      <td>https://api.spotify.com/v1/tracks/7FOgcfdz9Nx5...</td>\n",
       "      <td>https://api.spotify.com/v1/audio-analysis/7FOg...</td>\n",
       "      <td>192721</td>\n",
       "      <td>4</td>\n",
       "    </tr>\n",
       "    <tr>\n",
       "      <th>2</th>\n",
       "      <td>0.708</td>\n",
       "      <td>0.891</td>\n",
       "      <td>0</td>\n",
       "      <td>-3.826</td>\n",
       "      <td>1</td>\n",
       "      <td>0.0777</td>\n",
       "      <td>0.0248</td>\n",
       "      <td>0.000000</td>\n",
       "      <td>0.0578</td>\n",
       "      <td>0.840</td>\n",
       "      <td>110.058</td>\n",
       "      <td>audio_features</td>\n",
       "      <td>4rlQza35DE4Prh5yonxnCs</td>\n",
       "      <td>spotify:track:4rlQza35DE4Prh5yonxnCs</td>\n",
       "      <td>https://api.spotify.com/v1/tracks/4rlQza35DE4P...</td>\n",
       "      <td>https://api.spotify.com/v1/audio-analysis/4rlQ...</td>\n",
       "      <td>204857</td>\n",
       "      <td>4</td>\n",
       "    </tr>\n",
       "    <tr>\n",
       "      <th>3</th>\n",
       "      <td>0.434</td>\n",
       "      <td>0.219</td>\n",
       "      <td>2</td>\n",
       "      <td>-10.200</td>\n",
       "      <td>1</td>\n",
       "      <td>0.0301</td>\n",
       "      <td>0.9480</td>\n",
       "      <td>0.000000</td>\n",
       "      <td>0.0851</td>\n",
       "      <td>0.234</td>\n",
       "      <td>82.602</td>\n",
       "      <td>audio_features</td>\n",
       "      <td>6GdUMm5xMw9hJckIc0qsGb</td>\n",
       "      <td>spotify:track:6GdUMm5xMw9hJckIc0qsGb</td>\n",
       "      <td>https://api.spotify.com/v1/tracks/6GdUMm5xMw9h...</td>\n",
       "      <td>https://api.spotify.com/v1/audio-analysis/6GdU...</td>\n",
       "      <td>205520</td>\n",
       "      <td>4</td>\n",
       "    </tr>\n",
       "    <tr>\n",
       "      <th>4</th>\n",
       "      <td>0.508</td>\n",
       "      <td>0.411</td>\n",
       "      <td>1</td>\n",
       "      <td>-6.950</td>\n",
       "      <td>1</td>\n",
       "      <td>0.0269</td>\n",
       "      <td>0.2260</td>\n",
       "      <td>0.000000</td>\n",
       "      <td>0.0571</td>\n",
       "      <td>0.340</td>\n",
       "      <td>131.008</td>\n",
       "      <td>audio_features</td>\n",
       "      <td>3WSOUb3U7tqURbBSgZTrZX</td>\n",
       "      <td>spotify:track:3WSOUb3U7tqURbBSgZTrZX</td>\n",
       "      <td>https://api.spotify.com/v1/tracks/3WSOUb3U7tqU...</td>\n",
       "      <td>https://api.spotify.com/v1/audio-analysis/3WSO...</td>\n",
       "      <td>232796</td>\n",
       "      <td>4</td>\n",
       "    </tr>\n",
       "  </tbody>\n",
       "</table>\n",
       "</div>"
      ],
      "text/plain": [
       "   danceability  energy  key  loudness  mode  speechiness  acousticness  \\\n",
       "0         0.609   0.758    0    -4.885     0       0.0525        0.1390   \n",
       "1         0.657   0.820    9    -4.448     1       0.0441        0.0176   \n",
       "2         0.708   0.891    0    -3.826     1       0.0777        0.0248   \n",
       "3         0.434   0.219    2   -10.200     1       0.0301        0.9480   \n",
       "4         0.508   0.411    1    -6.950     1       0.0269        0.2260   \n",
       "\n",
       "   instrumentalness  liveness  valence    tempo            type  \\\n",
       "0          0.000005    0.1100    0.236  124.949  audio_features   \n",
       "1          0.000000    0.0847    0.709  124.041  audio_features   \n",
       "2          0.000000    0.0578    0.840  110.058  audio_features   \n",
       "3          0.000000    0.0851    0.234   82.602  audio_features   \n",
       "4          0.000000    0.0571    0.340  131.008  audio_features   \n",
       "\n",
       "                       id                                   uri  \\\n",
       "0  53IRnAWx13PYmoVYtemUBS  spotify:track:53IRnAWx13PYmoVYtemUBS   \n",
       "1  7FOgcfdz9Nx5V9lCNXdBYv  spotify:track:7FOgcfdz9Nx5V9lCNXdBYv   \n",
       "2  4rlQza35DE4Prh5yonxnCs  spotify:track:4rlQza35DE4Prh5yonxnCs   \n",
       "3  6GdUMm5xMw9hJckIc0qsGb  spotify:track:6GdUMm5xMw9hJckIc0qsGb   \n",
       "4  3WSOUb3U7tqURbBSgZTrZX  spotify:track:3WSOUb3U7tqURbBSgZTrZX   \n",
       "\n",
       "                                          track_href  \\\n",
       "0  https://api.spotify.com/v1/tracks/53IRnAWx13PY...   \n",
       "1  https://api.spotify.com/v1/tracks/7FOgcfdz9Nx5...   \n",
       "2  https://api.spotify.com/v1/tracks/4rlQza35DE4P...   \n",
       "3  https://api.spotify.com/v1/tracks/6GdUMm5xMw9h...   \n",
       "4  https://api.spotify.com/v1/tracks/3WSOUb3U7tqU...   \n",
       "\n",
       "                                        analysis_url  duration_ms  \\\n",
       "0  https://api.spotify.com/v1/audio-analysis/53IR...       219711   \n",
       "1  https://api.spotify.com/v1/audio-analysis/7FOg...       192721   \n",
       "2  https://api.spotify.com/v1/audio-analysis/4rlQ...       204857   \n",
       "3  https://api.spotify.com/v1/audio-analysis/6GdU...       205520   \n",
       "4  https://api.spotify.com/v1/audio-analysis/3WSO...       232796   \n",
       "\n",
       "   time_signature  \n",
       "0               4  \n",
       "1               4  \n",
       "2               4  \n",
       "3               4  \n",
       "4               4  "
      ]
     },
     "execution_count": 52,
     "metadata": {},
     "output_type": "execute_result"
    }
   ],
   "source": [
    "pd.DataFrame(cr_track_features_response.json()['audio_features']).head()"
   ]
  }
 ],
 "metadata": {
  "kernelspec": {
   "display_name": "Python 3 (ipykernel)",
   "language": "python",
   "name": "python3"
  },
  "language_info": {
   "codemirror_mode": {
    "name": "ipython",
    "version": 3
   },
   "file_extension": ".py",
   "mimetype": "text/x-python",
   "name": "python",
   "nbconvert_exporter": "python",
   "pygments_lexer": "ipython3",
   "version": "3.12.4"
  }
 },
 "nbformat": 4,
 "nbformat_minor": 5
}
