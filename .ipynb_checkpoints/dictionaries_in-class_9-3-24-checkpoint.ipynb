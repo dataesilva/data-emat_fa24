{
 "cells": [
  {
   "cell_type": "code",
   "execution_count": 1,
   "id": "3c914cd5-5d75-4e68-bc12-6c0397b3249b",
   "metadata": {},
   "outputs": [],
   "source": [
    "import json\n",
    "import pandas as pd"
   ]
  },
  {
   "cell_type": "code",
   "execution_count": 3,
   "id": "9884fc68-5aac-476c-a122-ed3d1690923a",
   "metadata": {},
   "outputs": [],
   "source": [
    "path = r\"C:\\Users\\dsilva2\\facebook-davidsilva100046_FA23\\ads_information\\advertisers_using_your_activity_or_information.json\"\n",
    "with open(path)as j:\n",
    "    ads_dict = json.load(j)"
   ]
  },
  {
   "cell_type": "code",
   "execution_count": 4,
   "id": "f73d04d0-09f5-4d39-9b70-fd32ca26faab",
   "metadata": {},
   "outputs": [
    {
     "data": {
      "text/plain": [
       "dict_keys(['custom_audiences_all_types_v2'])"
      ]
     },
     "execution_count": 4,
     "metadata": {},
     "output_type": "execute_result"
    }
   ],
   "source": [
    "ads_dict.keys()"
   ]
  },
  {
   "cell_type": "code",
   "execution_count": 6,
   "id": "8f16441f-b77c-4494-b7c8-0569a3150cba",
   "metadata": {},
   "outputs": [
    {
     "data": {
      "text/plain": [
       "list"
      ]
     },
     "execution_count": 6,
     "metadata": {},
     "output_type": "execute_result"
    }
   ],
   "source": [
    "type(ads_dict['custom_audiences_all_types_v2'])"
   ]
  },
  {
   "cell_type": "code",
   "execution_count": 7,
   "id": "8c95de6a-9643-4809-b20b-7b3097ea6dfe",
   "metadata": {},
   "outputs": [
    {
     "data": {
      "text/plain": [
       "747"
      ]
     },
     "execution_count": 7,
     "metadata": {},
     "output_type": "execute_result"
    }
   ],
   "source": [
    "len(ads_dict['custom_audiences_all_types_v2'])"
   ]
  },
  {
   "cell_type": "code",
   "execution_count": 8,
   "id": "0d793fc2-1290-454c-a147-66d1c9ac5bc2",
   "metadata": {},
   "outputs": [
    {
     "data": {
      "text/plain": [
       "{'advertiser_name': 'LiveRamp',\n",
       " 'has_data_file_custom_audience': True,\n",
       " 'has_remarketing_custom_audience': False,\n",
       " 'has_in_person_store_visit': False}"
      ]
     },
     "execution_count": 8,
     "metadata": {},
     "output_type": "execute_result"
    }
   ],
   "source": [
    "ads_dict['custom_audiences_all_types_v2'][0]"
   ]
  },
  {
   "cell_type": "code",
   "execution_count": 10,
   "id": "ed196249-9afa-4b23-adf7-3966638e5452",
   "metadata": {},
   "outputs": [
    {
     "data": {
      "text/plain": [
       "dict"
      ]
     },
     "execution_count": 10,
     "metadata": {},
     "output_type": "execute_result"
    }
   ],
   "source": [
    "type(ads_dict['custom_audiences_all_types_v2'][0])"
   ]
  },
  {
   "cell_type": "code",
   "execution_count": 11,
   "id": "40719c2b-25fa-4318-9a96-146a4ffa4c3f",
   "metadata": {},
   "outputs": [
    {
     "data": {
      "text/plain": [
       "dict_keys(['advertiser_name', 'has_data_file_custom_audience', 'has_remarketing_custom_audience', 'has_in_person_store_visit'])"
      ]
     },
     "execution_count": 11,
     "metadata": {},
     "output_type": "execute_result"
    }
   ],
   "source": [
    "ads_dict['custom_audiences_all_types_v2'][0].keys()"
   ]
  },
  {
   "cell_type": "code",
   "execution_count": 14,
   "id": "343390cb-2f89-4469-86dd-ae45ea8e87bb",
   "metadata": {},
   "outputs": [],
   "source": [
    "ads_df = pd.DataFrame(ads_dict['custom_audiences_all_types_v2'])\n",
    "# ads_df"
   ]
  },
  {
   "cell_type": "code",
   "execution_count": 16,
   "id": "5830ac0f-d8e0-465e-a00d-6a156864269f",
   "metadata": {},
   "outputs": [
    {
     "data": {
      "text/html": [
       "<div>\n",
       "<style scoped>\n",
       "    .dataframe tbody tr th:only-of-type {\n",
       "        vertical-align: middle;\n",
       "    }\n",
       "\n",
       "    .dataframe tbody tr th {\n",
       "        vertical-align: top;\n",
       "    }\n",
       "\n",
       "    .dataframe thead th {\n",
       "        text-align: right;\n",
       "    }\n",
       "</style>\n",
       "<table border=\"1\" class=\"dataframe\">\n",
       "  <thead>\n",
       "    <tr style=\"text-align: right;\">\n",
       "      <th></th>\n",
       "      <th>advertiser_name</th>\n",
       "      <th>has_data_file_custom_audience</th>\n",
       "      <th>has_remarketing_custom_audience</th>\n",
       "      <th>has_in_person_store_visit</th>\n",
       "    </tr>\n",
       "  </thead>\n",
       "  <tbody>\n",
       "    <tr>\n",
       "      <th>0</th>\n",
       "      <td>LiveRamp</td>\n",
       "      <td>True</td>\n",
       "      <td>False</td>\n",
       "      <td>False</td>\n",
       "    </tr>\n",
       "    <tr>\n",
       "      <th>1</th>\n",
       "      <td>Scheels</td>\n",
       "      <td>True</td>\n",
       "      <td>False</td>\n",
       "      <td>False</td>\n",
       "    </tr>\n",
       "    <tr>\n",
       "      <th>2</th>\n",
       "      <td>Spotify</td>\n",
       "      <td>True</td>\n",
       "      <td>False</td>\n",
       "      <td>False</td>\n",
       "    </tr>\n",
       "    <tr>\n",
       "      <th>3</th>\n",
       "      <td>Celonis</td>\n",
       "      <td>True</td>\n",
       "      <td>False</td>\n",
       "      <td>False</td>\n",
       "    </tr>\n",
       "    <tr>\n",
       "      <th>4</th>\n",
       "      <td>Encore Live</td>\n",
       "      <td>True</td>\n",
       "      <td>False</td>\n",
       "      <td>False</td>\n",
       "    </tr>\n",
       "    <tr>\n",
       "      <th>5</th>\n",
       "      <td>Pandamobo</td>\n",
       "      <td>True</td>\n",
       "      <td>False</td>\n",
       "      <td>False</td>\n",
       "    </tr>\n",
       "    <tr>\n",
       "      <th>6</th>\n",
       "      <td>Bethesda</td>\n",
       "      <td>True</td>\n",
       "      <td>False</td>\n",
       "      <td>False</td>\n",
       "    </tr>\n",
       "    <tr>\n",
       "      <th>7</th>\n",
       "      <td>Duc BM5 NLM 824</td>\n",
       "      <td>True</td>\n",
       "      <td>False</td>\n",
       "      <td>False</td>\n",
       "    </tr>\n",
       "    <tr>\n",
       "      <th>8</th>\n",
       "      <td>Zimmerman Advertising</td>\n",
       "      <td>True</td>\n",
       "      <td>False</td>\n",
       "      <td>False</td>\n",
       "    </tr>\n",
       "    <tr>\n",
       "      <th>9</th>\n",
       "      <td>Quantive</td>\n",
       "      <td>True</td>\n",
       "      <td>False</td>\n",
       "      <td>False</td>\n",
       "    </tr>\n",
       "    <tr>\n",
       "      <th>10</th>\n",
       "      <td>Tk406</td>\n",
       "      <td>True</td>\n",
       "      <td>False</td>\n",
       "      <td>False</td>\n",
       "    </tr>\n",
       "    <tr>\n",
       "      <th>11</th>\n",
       "      <td>Clearbit</td>\n",
       "      <td>True</td>\n",
       "      <td>False</td>\n",
       "      <td>False</td>\n",
       "    </tr>\n",
       "    <tr>\n",
       "      <th>12</th>\n",
       "      <td>Humble Bundle</td>\n",
       "      <td>True</td>\n",
       "      <td>False</td>\n",
       "      <td>False</td>\n",
       "    </tr>\n",
       "    <tr>\n",
       "      <th>13</th>\n",
       "      <td>Philibert</td>\n",
       "      <td>True</td>\n",
       "      <td>False</td>\n",
       "      <td>False</td>\n",
       "    </tr>\n",
       "    <tr>\n",
       "      <th>14</th>\n",
       "      <td>Lands' End</td>\n",
       "      <td>True</td>\n",
       "      <td>False</td>\n",
       "      <td>False</td>\n",
       "    </tr>\n",
       "    <tr>\n",
       "      <th>15</th>\n",
       "      <td>DAN Intel Global</td>\n",
       "      <td>True</td>\n",
       "      <td>False</td>\n",
       "      <td>False</td>\n",
       "    </tr>\n",
       "    <tr>\n",
       "      <th>16</th>\n",
       "      <td>Change Research</td>\n",
       "      <td>True</td>\n",
       "      <td>False</td>\n",
       "      <td>False</td>\n",
       "    </tr>\n",
       "    <tr>\n",
       "      <th>17</th>\n",
       "      <td>iSpot.tv</td>\n",
       "      <td>True</td>\n",
       "      <td>False</td>\n",
       "      <td>False</td>\n",
       "    </tr>\n",
       "    <tr>\n",
       "      <th>18</th>\n",
       "      <td>Business B968633</td>\n",
       "      <td>True</td>\n",
       "      <td>False</td>\n",
       "      <td>False</td>\n",
       "    </tr>\n",
       "    <tr>\n",
       "      <th>19</th>\n",
       "      <td>Sprinklr</td>\n",
       "      <td>True</td>\n",
       "      <td>False</td>\n",
       "      <td>False</td>\n",
       "    </tr>\n",
       "    <tr>\n",
       "      <th>20</th>\n",
       "      <td>PulsePoint</td>\n",
       "      <td>True</td>\n",
       "      <td>False</td>\n",
       "      <td>False</td>\n",
       "    </tr>\n",
       "    <tr>\n",
       "      <th>21</th>\n",
       "      <td>DentsuX North America - LVMH</td>\n",
       "      <td>True</td>\n",
       "      <td>False</td>\n",
       "      <td>False</td>\n",
       "    </tr>\n",
       "    <tr>\n",
       "      <th>22</th>\n",
       "      <td>Tourism</td>\n",
       "      <td>True</td>\n",
       "      <td>False</td>\n",
       "      <td>False</td>\n",
       "    </tr>\n",
       "    <tr>\n",
       "      <th>23</th>\n",
       "      <td>Auberge Resorts Collection</td>\n",
       "      <td>True</td>\n",
       "      <td>False</td>\n",
       "      <td>False</td>\n",
       "    </tr>\n",
       "    <tr>\n",
       "      <th>24</th>\n",
       "      <td>Allied Global Marketing</td>\n",
       "      <td>True</td>\n",
       "      <td>False</td>\n",
       "      <td>False</td>\n",
       "    </tr>\n",
       "  </tbody>\n",
       "</table>\n",
       "</div>"
      ],
      "text/plain": [
       "                 advertiser_name  has_data_file_custom_audience  \\\n",
       "0                       LiveRamp                           True   \n",
       "1                        Scheels                           True   \n",
       "2                        Spotify                           True   \n",
       "3                        Celonis                           True   \n",
       "4                    Encore Live                           True   \n",
       "5                      Pandamobo                           True   \n",
       "6                       Bethesda                           True   \n",
       "7                Duc BM5 NLM 824                           True   \n",
       "8          Zimmerman Advertising                           True   \n",
       "9                       Quantive                           True   \n",
       "10                         Tk406                           True   \n",
       "11                      Clearbit                           True   \n",
       "12                 Humble Bundle                           True   \n",
       "13                     Philibert                           True   \n",
       "14                    Lands' End                           True   \n",
       "15              DAN Intel Global                           True   \n",
       "16               Change Research                           True   \n",
       "17                      iSpot.tv                           True   \n",
       "18              Business B968633                           True   \n",
       "19                      Sprinklr                           True   \n",
       "20                    PulsePoint                           True   \n",
       "21  DentsuX North America - LVMH                           True   \n",
       "22                       Tourism                           True   \n",
       "23    Auberge Resorts Collection                           True   \n",
       "24       Allied Global Marketing                           True   \n",
       "\n",
       "    has_remarketing_custom_audience  has_in_person_store_visit  \n",
       "0                             False                      False  \n",
       "1                             False                      False  \n",
       "2                             False                      False  \n",
       "3                             False                      False  \n",
       "4                             False                      False  \n",
       "5                             False                      False  \n",
       "6                             False                      False  \n",
       "7                             False                      False  \n",
       "8                             False                      False  \n",
       "9                             False                      False  \n",
       "10                            False                      False  \n",
       "11                            False                      False  \n",
       "12                            False                      False  \n",
       "13                            False                      False  \n",
       "14                            False                      False  \n",
       "15                            False                      False  \n",
       "16                            False                      False  \n",
       "17                            False                      False  \n",
       "18                            False                      False  \n",
       "19                            False                      False  \n",
       "20                            False                      False  \n",
       "21                            False                      False  \n",
       "22                            False                      False  \n",
       "23                            False                      False  \n",
       "24                            False                      False  "
      ]
     },
     "execution_count": 16,
     "metadata": {},
     "output_type": "execute_result"
    }
   ],
   "source": [
    "ads_df.head(25)"
   ]
  },
  {
   "cell_type": "code",
   "execution_count": 18,
   "id": "913adfcc-e021-4b9c-a140-37c9fc54360f",
   "metadata": {},
   "outputs": [
    {
     "data": {
      "text/html": [
       "<div>\n",
       "<style scoped>\n",
       "    .dataframe tbody tr th:only-of-type {\n",
       "        vertical-align: middle;\n",
       "    }\n",
       "\n",
       "    .dataframe tbody tr th {\n",
       "        vertical-align: top;\n",
       "    }\n",
       "\n",
       "    .dataframe thead th {\n",
       "        text-align: right;\n",
       "    }\n",
       "</style>\n",
       "<table border=\"1\" class=\"dataframe\">\n",
       "  <thead>\n",
       "    <tr style=\"text-align: right;\">\n",
       "      <th></th>\n",
       "      <th>advertiser_name</th>\n",
       "      <th>has_data_file_custom_audience</th>\n",
       "      <th>has_remarketing_custom_audience</th>\n",
       "      <th>has_in_person_store_visit</th>\n",
       "    </tr>\n",
       "  </thead>\n",
       "  <tbody>\n",
       "    <tr>\n",
       "      <th>737</th>\n",
       "      <td>Hapulico</td>\n",
       "      <td>True</td>\n",
       "      <td>False</td>\n",
       "      <td>False</td>\n",
       "    </tr>\n",
       "    <tr>\n",
       "      <th>738</th>\n",
       "      <td>iFrog Marketing Solutions</td>\n",
       "      <td>True</td>\n",
       "      <td>False</td>\n",
       "      <td>False</td>\n",
       "    </tr>\n",
       "    <tr>\n",
       "      <th>739</th>\n",
       "      <td>Reingold</td>\n",
       "      <td>True</td>\n",
       "      <td>False</td>\n",
       "      <td>False</td>\n",
       "    </tr>\n",
       "    <tr>\n",
       "      <th>740</th>\n",
       "      <td>Guinness</td>\n",
       "      <td>True</td>\n",
       "      <td>False</td>\n",
       "      <td>False</td>\n",
       "    </tr>\n",
       "    <tr>\n",
       "      <th>741</th>\n",
       "      <td>New Ad Accounts for Real Chemistry</td>\n",
       "      <td>True</td>\n",
       "      <td>False</td>\n",
       "      <td>False</td>\n",
       "    </tr>\n",
       "    <tr>\n",
       "      <th>742</th>\n",
       "      <td>Live Nation Concerts</td>\n",
       "      <td>True</td>\n",
       "      <td>False</td>\n",
       "      <td>False</td>\n",
       "    </tr>\n",
       "    <tr>\n",
       "      <th>743</th>\n",
       "      <td>Digital Agency</td>\n",
       "      <td>True</td>\n",
       "      <td>False</td>\n",
       "      <td>False</td>\n",
       "    </tr>\n",
       "    <tr>\n",
       "      <th>744</th>\n",
       "      <td>Synchrony</td>\n",
       "      <td>True</td>\n",
       "      <td>False</td>\n",
       "      <td>False</td>\n",
       "    </tr>\n",
       "    <tr>\n",
       "      <th>745</th>\n",
       "      <td>Twitter Inc</td>\n",
       "      <td>True</td>\n",
       "      <td>False</td>\n",
       "      <td>False</td>\n",
       "    </tr>\n",
       "    <tr>\n",
       "      <th>746</th>\n",
       "      <td>POTLOC</td>\n",
       "      <td>True</td>\n",
       "      <td>False</td>\n",
       "      <td>False</td>\n",
       "    </tr>\n",
       "  </tbody>\n",
       "</table>\n",
       "</div>"
      ],
      "text/plain": [
       "                        advertiser_name  has_data_file_custom_audience  \\\n",
       "737                            Hapulico                           True   \n",
       "738           iFrog Marketing Solutions                           True   \n",
       "739                            Reingold                           True   \n",
       "740                            Guinness                           True   \n",
       "741  New Ad Accounts for Real Chemistry                           True   \n",
       "742                Live Nation Concerts                           True   \n",
       "743                      Digital Agency                           True   \n",
       "744                           Synchrony                           True   \n",
       "745                         Twitter Inc                           True   \n",
       "746                              POTLOC                           True   \n",
       "\n",
       "     has_remarketing_custom_audience  has_in_person_store_visit  \n",
       "737                            False                      False  \n",
       "738                            False                      False  \n",
       "739                            False                      False  \n",
       "740                            False                      False  \n",
       "741                            False                      False  \n",
       "742                            False                      False  \n",
       "743                            False                      False  \n",
       "744                            False                      False  \n",
       "745                            False                      False  \n",
       "746                            False                      False  "
      ]
     },
     "execution_count": 18,
     "metadata": {},
     "output_type": "execute_result"
    }
   ],
   "source": [
    "ads_df.tail(10)"
   ]
  },
  {
   "cell_type": "code",
   "execution_count": 19,
   "id": "711f1c16-0372-4ca0-9571-89d2b8056da2",
   "metadata": {},
   "outputs": [
    {
     "data": {
      "text/plain": [
       "(747, 4)"
      ]
     },
     "execution_count": 19,
     "metadata": {},
     "output_type": "execute_result"
    }
   ],
   "source": [
    "ads_df.shape"
   ]
  },
  {
   "cell_type": "code",
   "execution_count": null,
   "id": "b2b0170f-3d4b-4b39-be68-f2be490e19df",
   "metadata": {},
   "outputs": [],
   "source": []
  },
  {
   "cell_type": "code",
   "execution_count": null,
   "id": "d689f50b-108b-40b8-91d3-62b7c743a295",
   "metadata": {},
   "outputs": [],
   "source": []
  }
 ],
 "metadata": {
  "kernelspec": {
   "display_name": "Python 3 (ipykernel)",
   "language": "python",
   "name": "python3"
  },
  "language_info": {
   "codemirror_mode": {
    "name": "ipython",
    "version": 3
   },
   "file_extension": ".py",
   "mimetype": "text/x-python",
   "name": "python",
   "nbconvert_exporter": "python",
   "pygments_lexer": "ipython3",
   "version": "3.12.4"
  }
 },
 "nbformat": 4,
 "nbformat_minor": 5
}
