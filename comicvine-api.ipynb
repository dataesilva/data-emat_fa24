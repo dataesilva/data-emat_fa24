{
 "cells": [
  {
   "cell_type": "markdown",
   "metadata": {},
   "source": [
    "#### Comic Vine API Demonstration"
   ]
  },
  {
   "cell_type": "markdown",
   "metadata": {},
   "source": [
    "##### First\n",
    "Some modules and loading in an API key which can be created at the [Comic Vine API page](https://comicvine.gamespot.com/api/). "
   ]
  },
  {
   "cell_type": "code",
   "execution_count": 1,
   "metadata": {},
   "outputs": [],
   "source": [
    "import pandas as pd\n",
    "import requests\n",
    "import json"
   ]
  },
  {
   "cell_type": "code",
   "execution_count": 2,
   "metadata": {},
   "outputs": [
    {
     "data": {
      "text/plain": [
       "Index(['API-key'], dtype='object')"
      ]
     },
     "execution_count": 2,
     "metadata": {},
     "output_type": "execute_result"
    }
   ],
   "source": [
    "cv_key = pd.read_csv('../comicvine_apikey.txt')\n",
    "cv_key.keys()"
   ]
  },
  {
   "cell_type": "code",
   "execution_count": 3,
   "metadata": {},
   "outputs": [],
   "source": [
    "key = cv_key['API-key'].iloc[0]"
   ]
  },
  {
   "cell_type": "markdown",
   "metadata": {},
   "source": [
    "##### Second\n",
    "\n",
    "I am just going to create a few variables to hold the api base URL and structure the parameter that holds your API key."
   ]
  },
  {
   "cell_type": "code",
   "execution_count": 4,
   "metadata": {},
   "outputs": [],
   "source": [
    "api_url = 'https://comicvine.gamespot.com/api/'\n",
    "key_url = 'api_key='+str(key)"
   ]
  },
  {
   "cell_type": "code",
   "execution_count": null,
   "metadata": {},
   "outputs": [],
   "source": []
  },
  {
   "cell_type": "code",
   "execution_count": 5,
   "metadata": {},
   "outputs": [
    {
     "data": {
      "text/plain": [
       "403"
      ]
     },
     "execution_count": 5,
     "metadata": {},
     "output_type": "execute_result"
    }
   ],
   "source": [
    "failed_request = characters_response = requests.get(api_url + 'characters/?' + key_url + '&format=json')\n",
    "failed_request.status_code"
   ]
  },
  {
   "cell_type": "code",
   "execution_count": 6,
   "metadata": {},
   "outputs": [],
   "source": [
    "with open('comicvine_out.html', 'w') as t:\n",
    "    t.write(failed_request.text)"
   ]
  },
  {
   "cell_type": "markdown",
   "metadata": {},
   "source": [
    "##### Explaining the solution:\n",
    "From the output html file, scroll down to the bottom and you will find the following text that explains the reason for the 403 status code:\n",
    "\n",
    ">... Or you're running a bot that does not provide a unique user agent.\n",
    "> \t\t<p>Please provide a UNIQUE user agent that describes you. Do not use a default user agent like \"PHP\", \"Java\", \"Ruby\", \"wget\", \"curl\" etc.<p>\n",
    "> \t\tYou MUST provide a UNIQUE user agent. ...and for God's sake don't impersonate another bot like Google Bot that will for sure \n",
    "> \t\tget you permanently banned.\n",
    "\n",
    "This just means that header information is required for the API to return data. In this case, the header does not require the API key, but instead just needs what is called a User Agent.\n",
    "\n",
    "This User Agent can take many forms. What I include below is a default User Agent which is not entirely what this API wants, but it works well enough for this demonstration.\n",
    "\n",
    "To find your unique user agent, open any browser and go to this [helpful header utility](https://www.whatismybrowser.com/detect/what-is-my-user-agent/).\n",
    "The top box starting with something like: `Mozilla/5.0 (Windows...` is what you could use for the `User-Agent` headers parameter instead of the default used in the example below."
   ]
  },
  {
   "cell_type": "code",
   "execution_count": 7,
   "metadata": {},
   "outputs": [],
   "source": [
    "characters_response = requests.get(api_url + 'characters/?' + key_url + '&format=json', headers = {'User-agent': 'Mozilla/5.0'})"
   ]
  },
  {
   "cell_type": "code",
   "execution_count": 8,
   "metadata": {},
   "outputs": [
    {
     "data": {
      "text/plain": [
       "200"
      ]
     },
     "execution_count": 8,
     "metadata": {},
     "output_type": "execute_result"
    }
   ],
   "source": [
    "characters_response.status_code"
   ]
  },
  {
   "cell_type": "code",
   "execution_count": 9,
   "metadata": {},
   "outputs": [
    {
     "data": {
      "text/plain": [
       "dict_keys(['error', 'limit', 'offset', 'number_of_page_results', 'number_of_total_results', 'status_code', 'results', 'version'])"
      ]
     },
     "execution_count": 9,
     "metadata": {},
     "output_type": "execute_result"
    }
   ],
   "source": [
    "cha_dict = json.loads(characters_response.text)\n",
    "cha_dict.keys()"
   ]
  },
  {
   "cell_type": "code",
   "execution_count": 10,
   "metadata": {},
   "outputs": [
    {
     "data": {
      "text/plain": [
       "100"
      ]
     },
     "execution_count": 10,
     "metadata": {},
     "output_type": "execute_result"
    }
   ],
   "source": [
    "len(cha_dict['results'])"
   ]
  },
  {
   "cell_type": "code",
   "execution_count": 11,
   "metadata": {},
   "outputs": [
    {
     "data": {
      "text/plain": [
       "{'aliases': 'Garth Ranzz\\nLightning Boy\\nProty\\nLive Wire\\nStarfinger\\nLightning Man',\n",
       " 'api_detail_url': 'https://comicvine.gamespot.com/api/character/4005-1253/',\n",
       " 'birth': None,\n",
       " 'count_of_issue_appearances': 1055,\n",
       " 'date_added': '2008-06-06 11:27:37',\n",
       " 'date_last_updated': '2021-04-02 20:00:03',\n",
       " 'deck': 'Garth Ranzz is one of the three original members/founders of the Legion of Super-Heroes. Empowered with the ability to control electricity, he is called Lightning Lad. Garth is the older twin brother of fellow Legionnaire Lightning Lass, and the younger brother of Lightning Lord.',\n",
       " 'description': '<h2>Origin</h2><figure data-align=\"right\" data-img-src=\"https://static.comicvine.com/uploads/original/0/3664/198287-189808-lightning-lad.jpg\" data-ref-id=\"1300-198287\" data-size=\"medium\" data-ratio=\"1.2105263157895\" data-width=\"228\" data-embed-type=\"image\" style=\"width: 228px\"><a class=\"fluid-height\" style=\"padding-bottom:121.1%\" href=\"https://static.comicvine.com/uploads/original/0/3664/198287-189808-lightning-lad.jpg\" data-ref-id=\"1300-198287\"><img alt=\"Original Lightning Boy\" src=\"https://comicvine.gamespot.com/a/uploads/original/0/3664/198287-189808-lightning-lad.jpg\" srcset=\"https://comicvine.gamespot.com/a/uploads/original/0/3664/198287-189808-lightning-lad.jpg 228w\" sizes=\"(max-width: 228px) 100vw, 228px\" data-width=\"228\"></a><figcaption>Original Lightning Boy</figcaption></figure><p>Garth Ranzz was born on the agricultural world of <a href=\"/winath/4020-56915/\" data-ref-id=\"4020-56915\">Winath</a> with his twin, Ayla. Garth, <a href=\"../../light-lass/29-30997/\" rel=\"nofollow \">Ayla</a>, and their older brother <a href=\"../../lightning-lord/29-3592/\" rel=\"nofollow \">Mekt</a> were joy riding when their ship lost power and came down on the world of <a href=\"/korbal/4020-56256/\" data-ref-id=\"4020-56256\">Korbal</a>. They devised a scheme to recharge their ship\\'s energy cells using the electrical energy of Korbal\\'s lightning beasts. They underestimated the beasts\\' power and were all bathed in bio-electric energy. After their return with new found powers, Mekt disappeared. Garth left home to look for his brother. On his journey he helped two other super powered teenagers foil the assassination of philanthropist <a href=\"../../rj-brande/29-12810/\" rel=\"nofollow \">R.J. Brande</a>. Brande suggested they form a team - the <a href=\"../../legion-of-super-heroes/65-19241/\" rel=\"nofollow \">Legion of Super-Heroes</a>. Garth assumed the name Lightning Boy initially, but switched to Lightning Lad.</p><h2>Creation</h2><p>Lightning Lad was created by <a href=\"../../otto-binder/26-42374/\" rel=\"nofollow \">Otto Binder</a> and <a href=\"../../al-plastino/26-39933/\" rel=\"nofollow \">Al Plastino</a></p><h2>Character Evolution</h2><h3><b>Original Continuity: New Earth</b></h3><figure data-align=\"right\" data-img-src=\"https://static.comicvine.com/uploads/original/2/25838/489302-lightning_lad1.png\" data-ref-id=\"1300-489302\" data-size=\"medium\" data-ratio=\"1.6961130742049\" data-width=\"283\" data-embed-type=\"image\" style=\"width: 283px\"><a class=\"fluid-height\" style=\"padding-bottom:169.6%\" href=\"https://static.comicvine.com/uploads/original/2/25838/489302-lightning_lad1.png\" data-ref-id=\"1300-489302\"><img alt=\"Lightning Lad (New Earth)\" src=\"https://comicvine.gamespot.com/a/bundles/phoenixsite/images/core/loose/img_broken.png\" srcset=\"https://comicvine.gamespot.com/a/bundles/phoenixsite/images/core/loose/img_broken.png 283w\" sizes=\"(max-width: 283px) 100vw, 283px\" data-width=\"283\"></a><figcaption>Lightning Lad (New Earth)</figcaption></figure><p>He was one of the first Legionnaires to be killed when he sacrificed his life to save <a href=\"/saturn-girl/4005-1273/\" data-ref-id=\"4005-1273\">Saturn Girl</a>, taking a blast from <a href=\"/zaryan-the-conqueror/4005-72707/\" data-ref-id=\"4005-72707\">Zaryan the Conqueror</a>\\'s ship. He was resurrected by <a href=\"../../proty/29-12861/\" rel=\"nofollow \">Proty</a>, the shape shifting pet of <a href=\"/chameleon-boy/4005-5945/\" data-ref-id=\"4005-5945\">Chameleon Boy</a>, who sacrificed his life to revive Garth in a lightning ceremony. Later, Garth lost his right arm to a giant space whale, and had to get a cybernetic replacement. Years later, his parents were killed in a space cruiser accident. His years on the Legion weren\\'t all bad. He formed close friendships with <a href=\"/cosmic-boy/4005-1264/\" data-ref-id=\"4005-1264\">Cosmic Boy</a> and <a href=\"/sun-boy/4005-1259/\" data-ref-id=\"4005-1259\">Sun Boy</a> and he and Saturn Girl became one of the Legion\\'s earliest couples following his resurrection. His sister joined the Legion as well. Though Garth lost his arm, it was eventually restored. After several years of dating, Lightning Lad proposed to Saturn Girl and she accepted.</p><h3>Reboot: Earth-247</h3><figure data-align=\"right\" data-img-src=\"https://static.comicvine.com/uploads/original/0/760/81237-155819-lightning-lad.jpg\" data-ref-id=\"1300-81237\" data-size=\"medium\" data-ratio=\"2.1111111111111\" data-width=\"180\" data-embed-type=\"image\" style=\"width: 180px\"><a class=\"fluid-height\" style=\"padding-bottom:211.1%\" href=\"https://static.comicvine.com/uploads/original/0/760/81237-155819-lightning-lad.jpg\" data-ref-id=\"1300-81237\"><img alt=\"Live Wire (Earth-247)\" src=\"data:image/gif;base64,R0lGODlhAQABAAAAACH5BAEKAAEALAAAAAABAAEAAAICTAEAOw==\" sizes=\"(max-width: 180px) 100vw, 180px\" data-width=\"180\" class=\"js-lazy-load-image\" data-src=\"https://comicvine.gamespot.com/a/uploads/original/0/760/81237-155819-lightning-lad.jpg\" data-srcset=\"https://comicvine.gamespot.com/a/uploads/original/0/760/81237-155819-lightning-lad.jpg 180w\"><noscript><img alt=\"Live Wire (Earth-247)\" src=\"https://comicvine.gamespot.com/a/uploads/original/0/760/81237-155819-lightning-lad.jpg\" srcset=\"https://comicvine.gamespot.com/a/uploads/original/0/760/81237-155819-lightning-lad.jpg 180w\" sizes=\"(max-width: 180px) 100vw, 180px\" data-width=\"180\"></noscript></a><figcaption>Live Wire (Earth-247)</figcaption></figure><p>In his search for his brother Mekt he had been branded a runaway due to only being 14, which was a minor on Winath. When his sister arrived to join the Legion as Winath\\'s official representative, Garth quit in shame. He went on to work for the industrialist <a href=\"/leland-mccauley/4005-12846/\" data-ref-id=\"4005-12846\">Leland McCauley</a> on his <a href=\"/workforce/4060-47189/\" data-ref-id=\"4060-47189\">Workforce</a> team. Garth had hoped to make some money to look for his brother, but quit the team soon after due to McCauley\\'s lack of morals. Despite aiding the Legion against Daxamite terrorists, Garth was still not allowed to rejoin, so he went off again to find his brother. When he found Mekt, his mind had snapped, and he was a deadly criminal. Mekt abducted Garth and shot his right arm off. After recovering from his battle with Mekt and gaining a cybernetic arm, Garth worked with a newly formed Espionage Squad to uncover the corruption of <a href=\"/president-chu/4005-21136/\" data-ref-id=\"4005-21136\">President Chu</a>. She was impeached, and Brande was made president in her place. His first act as President was to eliminate the membership restrictions on the Legion, finally allowing Garth to rejoin.</p><h3>Threeboot: Earth-Prime</h3><figure data-align=\"right\" data-img-src=\"https://static.comicvine.com/uploads/original/1/15696/322174-37608-lightning-lad.jpg\" data-ref-id=\"1300-322174\" data-size=\"medium\" data-ratio=\"1.1575\" data-width=\"400\" data-embed-type=\"image\" style=\"width: 400px\"><a class=\"fluid-height\" style=\"padding-bottom:115.8%\" href=\"https://static.comicvine.com/uploads/original/1/15696/322174-37608-lightning-lad.jpg\" data-ref-id=\"1300-322174\"><img alt=\"Lightning Lad (Earth-Prime)\" src=\"data:image/gif;base64,R0lGODlhAQABAAAAACH5BAEKAAEALAAAAAABAAEAAAICTAEAOw==\" sizes=\"(max-width: 400px) 100vw, 400px\" data-width=\"400\" class=\"js-lazy-load-image\" data-src=\"https://comicvine.gamespot.com/a/uploads/original/1/15696/322174-37608-lightning-lad.jpg\" data-srcset=\"https://comicvine.gamespot.com/a/uploads/original/1/15696/322174-37608-lightning-lad.jpg 400w\"><noscript><img alt=\"Lightning Lad (Earth-Prime)\" src=\"https://comicvine.gamespot.com/a/uploads/original/1/15696/322174-37608-lightning-lad.jpg\" srcset=\"https://comicvine.gamespot.com/a/uploads/original/1/15696/322174-37608-lightning-lad.jpg 400w\" sizes=\"(max-width: 400px) 100vw, 400px\" data-width=\"400\"></noscript></a><figcaption>Lightning Lad (Earth-Prime)</figcaption></figure><p>On Earth-Prime, Garth Ranzz was Lightning Lad once more and one of the founders of the Legion of Super-Heroes. They were now a teen youth movement and Garth coined their first battle cry: \"Eat it, Grandpa!\" He was dating Saturn Girl, and said that the only way to successfully date a telepath was to be \"way honest.\" He was instrumental in gaining legal status for the Legion, but forgot to read the fine print in the agreement - the U.P. now had the right to use the Legion\\'s image in any way they wished. When Cosmic Boy disappeared after the Dominators attempted to take over Earth, a public election was held for Legion leadership. <a href=\"/supergirl/4005-2351/\" data-ref-id=\"4005-2351\">Supergirl</a> was elected with Lightning Lad her deputy. She soon left for the 21st century and Garth became the team leader. Garth was quickly overwhelmed with the responsibilities of leadership, especially dealing with the various organizations of the United Planets. This put a strain in he and Saturn Girl\\'s relationship which led her to have a psychic affair. She confessed the indiscretion and Garth broke up with her.</p><h3>Retroboot: New Earth</h3><figure data-align=\"right\" data-img-src=\"https://static.comicvine.com/uploads/original/3/36257/1093603-lightninglad_bycinar.jpg\" data-ref-id=\"1300-1093603\" data-size=\"medium\" data-ratio=\"1.4466257668712\" data-width=\"815\" data-embed-type=\"image\" style=\"width: 815px\"><a class=\"fluid-height\" style=\"padding-bottom:144.7%\" href=\"https://static.comicvine.com/uploads/original/3/36257/1093603-lightninglad_bycinar.jpg\" data-ref-id=\"1300-1093603\"><img alt=\"Lightning Lad (New Earth)\" src=\"data:image/gif;base64,R0lGODlhAQABAAAAACH5BAEKAAEALAAAAAABAAEAAAICTAEAOw==\" sizes=\"(max-width: 480px) 100vw, 480px\" data-width=\"480\" class=\"js-lazy-load-image\" data-src=\"https://comicvine.gamespot.com/a/uploads/scale_medium/3/36257/1093603-lightninglad_bycinar.jpg\" data-srcset=\"https://comicvine.gamespot.com/a/uploads/original/3/36257/1093603-lightninglad_bycinar.jpg 815w, https://comicvine.gamespot.com/a/uploads/scale_medium/3/36257/1093603-lightninglad_bycinar.jpg 480w\"><noscript><img alt=\"Lightning Lad (New Earth)\" src=\"https://comicvine.gamespot.com/a/uploads/scale_medium/3/36257/1093603-lightninglad_bycinar.jpg\" srcset=\"https://comicvine.gamespot.com/a/uploads/original/3/36257/1093603-lightninglad_bycinar.jpg 815w, https://comicvine.gamespot.com/a/uploads/scale_medium/3/36257/1093603-lightninglad_bycinar.jpg 480w\" sizes=\"(max-width: 480px) 100vw, 480px\" data-width=\"480\"></noscript></a><figcaption>Lightning Lad (New Earth)</figcaption></figure><p><a href=\"/infinite-crisis/4045-40765/\" data-ref-id=\"4045-40765\">Infinite Crisis</a> restored the original Legion continuity from before Five Years Later. Garth was once again married to Saturn Girl and a father to twin sons, though he ultimately rejoined the Legion when <a href=\"/earth-man/4005-32576/\" data-ref-id=\"4005-32576\">Earth-Man</a> began an anti-alien campaign on Earth. The Legion founders went to the <a href=\"/batcave/4020-31340/\" data-ref-id=\"4020-31340\">Batcave</a> to find proof that <a href=\"/superman/4005-1807/\" data-ref-id=\"4005-1807\">Superman</a> was actually a Kryptonian and not an Earthling like Earth-Man was leading the people to believe, but Garth and the others were captured. Eventually he was freed and Earth-Man was defeated. After Saturn Girl\\'s homeworld of Titan was destroyed and their twin boys were kidnapped but recovered from a servant of Darkseid, Garth and Imra decide to take a leave of absence from the Legion to spend time with their boys.</p><h3>Post-Flashpoint: Earth-0</h3><figure data-align=\"right\" data-img-src=\"https://static.comicvine.com/uploads/original/10/108841/2226596-2148227-2148212-a_21.jpg\" data-ref-id=\"1300-2226596\" data-size=\"medium\" data-ratio=\"2.5765765765766\" data-width=\"555\" data-embed-type=\"image\" style=\"width: 555px\"><a class=\"fluid-height\" style=\"padding-bottom:257.7%\" href=\"https://static.comicvine.com/uploads/original/10/108841/2226596-2148227-2148212-a_21.jpg\" data-ref-id=\"1300-2226596\"><img alt=\"Lightning Man (Earth-0)\" src=\"data:image/gif;base64,R0lGODlhAQABAAAAACH5BAEKAAEALAAAAAABAAEAAAICTAEAOw==\" sizes=\"(max-width: 480px) 100vw, 480px\" data-width=\"480\" class=\"js-lazy-load-image\" data-src=\"https://comicvine.gamespot.com/a/uploads/scale_medium/10/108841/2226596-2148227-2148212-a_21.jpg\" data-srcset=\"https://comicvine.gamespot.com/a/uploads/original/10/108841/2226596-2148227-2148212-a_21.jpg 555w, https://comicvine.gamespot.com/a/uploads/scale_medium/10/108841/2226596-2148227-2148212-a_21.jpg 480w\"><noscript><img alt=\"Lightning Man (Earth-0)\" src=\"https://comicvine.gamespot.com/a/uploads/scale_medium/10/108841/2226596-2148227-2148212-a_21.jpg\" srcset=\"https://comicvine.gamespot.com/a/uploads/original/10/108841/2226596-2148227-2148212-a_21.jpg 555w, https://comicvine.gamespot.com/a/uploads/scale_medium/10/108841/2226596-2148227-2148212-a_21.jpg 480w\" sizes=\"(max-width: 480px) 100vw, 480px\" data-width=\"480\"></noscript></a><figcaption>Lightning Man (Earth-0)</figcaption></figure><p>Following the conclusion of <a href=\"../../flashpoint/39-56280/\" rel=\"nofollow \">Flashpoint</a>, the various timelines were united and rebooted once again. The Legion\\'s timeline changed slightly where they still reached out to a young Clark Kent long before he became Superman, but they Legion grew up along with Clark and have changed their names to reflect their age. Imra changed her name to Saturn Woman and her along with Saturn Girl (Now Saturn Woman) and Cosmic Boy (Now Cosmic Man) reunited with an adult Clark Kent in an effort to stop the <a href=\"../../anti-superman-army/65-58873/\" rel=\"nofollow \">Anti-Superman army</a> from destroying the original rocket that took Clark to Earth. They succeeded in saving the rocket and keeping he timeline intact. During the battle, Garth\\'s right arm was apparently destroyed off-panel. The wires seen in its place indicate that he had already replaced it with a cybernetic arm akin to the Earth-247 version.</p><p> </p><p> </p><p> </p><p> </p><p> </p><p> </p><p> </p><p> </p><p><strong>DC Rebirth</strong></p><p>Lightning Lad reappears once again as a founding member of the Legion Of Superheroes</p><p> </p><h2>Major Story Arcs</h2><h3><b>Original Continuity: New Earth</b></h3><h4>Married Life</h4><figure data-align=\"right\" data-img-src=\"https://static.comicvine.com/uploads/original/2/25838/489315-lightning_lad_saturn_girlgarthimra.jpg\" data-ref-id=\"1300-489315\" data-size=\"medium\" data-ratio=\"1.0098684210526\" data-width=\"304\" data-embed-type=\"image\" style=\"width: 304px\"><a class=\"fluid-height\" style=\"padding-bottom:101.0%\" href=\"https://static.comicvine.com/uploads/original/2/25838/489315-lightning_lad_saturn_girlgarthimra.jpg\" data-ref-id=\"1300-489315\"><img alt=\"Garth x Imra\" src=\"data:image/gif;base64,R0lGODlhAQABAAAAACH5BAEKAAEALAAAAAABAAEAAAICTAEAOw==\" sizes=\"(max-width: 304px) 100vw, 304px\" data-width=\"304\" class=\"js-lazy-load-image\" data-src=\"https://comicvine.gamespot.com/a/uploads/original/2/25838/489315-lightning_lad_saturn_girlgarthimra.jpg\" data-srcset=\"https://comicvine.gamespot.com/a/uploads/original/2/25838/489315-lightning_lad_saturn_girlgarthimra.jpg 304w\"><noscript><img alt=\"Garth x Imra\" src=\"https://comicvine.gamespot.com/a/uploads/original/2/25838/489315-lightning_lad_saturn_girlgarthimra.jpg\" srcset=\"https://comicvine.gamespot.com/a/uploads/original/2/25838/489315-lightning_lad_saturn_girlgarthimra.jpg 304w\" sizes=\"(max-width: 304px) 100vw, 304px\" data-width=\"304\"></noscript></a><figcaption>Garth x Imra</figcaption></figure><p>The duo were married and were forced to leave the Legion by its own by-laws, but this was shortly thereafter vetoed and the couple returned to active duty. Garth was even elected leader at one point, but the stress became too much and he resigned before the end of his term. Imra became pregnant and gave birth to a healthy baby boy, <a href=\"../../graym-ranzz/29-52820/\" rel=\"nofollow \">Graym Ranzz</a>. Wanting to spend more time with his young family, Garth resigned with his fellow Legion founders from the team. Though it was a horror to learn that the villainous <a href=\"../../validus/29-21241/\" rel=\"nofollow \">Validus</a> was actually his son\\'s twin, thrust through time and manipulated by <a href=\"../../darkseid/29-2349/\" rel=\"nofollow \">Darkseid</a>, the boy was eventually restored and returned to the Ranzzes. Even after Saturn Girl returned to active duty, Garth remained at home with his sons.</p><h4>Five Years Later</h4><figure data-align=\"right\" data-img-src=\"https://static.comicvine.com/uploads/original/8/80419/1892563-lil41.jpg\" data-ref-id=\"1300-1892563\" data-size=\"medium\" data-ratio=\"1.672619047619\" data-width=\"168\" data-embed-type=\"image\" style=\"width: 168px\"><a class=\"fluid-height\" style=\"padding-bottom:167.3%\" href=\"https://static.comicvine.com/uploads/original/8/80419/1892563-lil41.jpg\" data-ref-id=\"1300-1892563\"><img alt=\"Garth Ranzz (Five Years Later)\" src=\"data:image/gif;base64,R0lGODlhAQABAAAAACH5BAEKAAEALAAAAAABAAEAAAICTAEAOw==\" sizes=\"(max-width: 168px) 100vw, 168px\" data-width=\"168\" class=\"js-lazy-load-image\" data-src=\"https://comicvine.gamespot.com/a/uploads/original/8/80419/1892563-lil41.jpg\" data-srcset=\"https://comicvine.gamespot.com/a/uploads/original/8/80419/1892563-lil41.jpg 168w\"><noscript><img alt=\"Garth Ranzz (Five Years Later)\" src=\"https://comicvine.gamespot.com/a/uploads/original/8/80419/1892563-lil41.jpg\" srcset=\"https://comicvine.gamespot.com/a/uploads/original/8/80419/1892563-lil41.jpg 168w\" sizes=\"(max-width: 168px) 100vw, 168px\" data-width=\"168\"></noscript></a><figcaption>Garth Ranzz (Five Years Later)</figcaption></figure><p>Following the five years later after the <a href=\"../../the-magic-wars/39-56080/\" rel=\"nofollow \">Magic Wars</a>, Garth had relocated his family to Winath. There they established the Lightning Plantation and became a successful farming and shipping collective. Tragedy struck when Garth\\'s son <a href=\"../../validus/29-21241/\" rel=\"nofollow \">Garridan</a>, the former Validus, began infecting Winathians with a deadly plague. His son had to be taken off-world to the planet Quarantine and could only visit wearing a special suit. The disease also caused Garth to walk with a limp. However, good news soon followed. Imra became pregnant again with twins and the Legion of Super-Heroes was reforming. Though the Ranzzes didn\\'t join back up, they did assist their old teammates from time to time and Garth even gave them an old storage facility on <a href=\"../../talus/34-57116/\" rel=\"nofollow \">Talus</a> to use as a headquarters.</p><h4>Who is Gath?</h4><figure data-align=\"right\" data-img-src=\"https://static.comicvine.com/uploads/original/10/108841/2227711-1480041-200px_proty.jpg\" data-ref-id=\"1300-2227711\" data-size=\"medium\" data-ratio=\"1.0522388059701\" data-width=\"134\" data-embed-type=\"image\" style=\"width: 134px\"><a class=\"fluid-height\" style=\"padding-bottom:105.2%\" href=\"https://static.comicvine.com/uploads/original/10/108841/2227711-1480041-200px_proty.jpg\" data-ref-id=\"1300-2227711\"><img alt=\"The mind of Proty\" src=\"data:image/gif;base64,R0lGODlhAQABAAAAACH5BAEKAAEALAAAAAABAAEAAAICTAEAOw==\" sizes=\"(max-width: 134px) 100vw, 134px\" data-width=\"134\" class=\"js-lazy-load-image\" data-src=\"https://comicvine.gamespot.com/a/uploads/original/10/108841/2227711-1480041-200px_proty.jpg\" data-srcset=\"https://comicvine.gamespot.com/a/uploads/original/10/108841/2227711-1480041-200px_proty.jpg 134w\"><noscript><img alt=\"The mind of Proty\" src=\"https://comicvine.gamespot.com/a/uploads/original/10/108841/2227711-1480041-200px_proty.jpg\" srcset=\"https://comicvine.gamespot.com/a/uploads/original/10/108841/2227711-1480041-200px_proty.jpg 134w\" sizes=\"(max-width: 134px) 100vw, 134px\" data-width=\"134\"></noscript></a><figcaption>The mind of Proty</figcaption></figure><p>Shortly after his daughters Dacey and Dorritt were born, his sister Ayla stumbled upon a secret that Garth had been keeping: he wasn\\'t Garth at all, but Proty. Proty\\'s consciousness had been transferred into Garth\\'s body and was the cause of Lightning Lad\\'s resurrection. Being a former telepath as Proty, Garth was able to protect his thoughts from his telepathic wife about the matter. Garth assisted Legionnaires past and present in hunting down <a href=\"../../glorith/29-26385/\" rel=\"nofollow \">Glorith</a> and <a href=\"../../mordru/29-4904/\" rel=\"nofollow \">Mordru</a> to save Cosmic Boy. <a href=\"../../zero-hour/39-40782/\" rel=\"nofollow \">Zero Hour</a> then happened and Garth and the other Legionnaires sacrificed themselves to save the timestream and create a new reality.</p><h3>Reboot: Earth-247</h3><h4>The Death of Garth</h4><p>When half the Legion was stuck in the 20th century, Brande personally asked Garth to become Legion leader. Live Wire wasn\\'t comfortable with the idea and shortly thereafter hosted a leadership election for a replacement. Once the team was reunited, he began a relationship with Saturn Girl and ultimately proposed. Garth and Imra were one of several Legionnaires lost in a spatial rift. Saturn Girl\\'s manipulation of the team put a strain on their relationship. Live Wire sacrificed himself fighting their former teammate, <a href=\"../../element-lad/29-1263/\" rel=\"nofollow \">Element Lad</a>, who had spent billions of years becoming a mad god.</p><h4>Garth\\'s Body Restored</h4><p>Garth\\'s spirit, however, was stored in the living crystals of <a href=\"../../element-lad/29-1263/\" rel=\"nofollow \">Element Lad</a>\\'s corpse, and he was able to return to the Legion - but in Element Lad\\'s body. This caused a lot of anxiety among the Legion, but eventually his friends came to accept Garth. When Earth-247 was destroyed in <a href=\"../../infinite-crisis/39-40765/\" rel=\"nofollow \">Infinite Crisis</a>, Garth and his team survived because they had been lost in the timestream. Garth\\'s original body was eventually restored when the <a href=\"../../brainiac-5/29-1255/\" rel=\"nofollow \">Brainiac 5</a> of New Earth used a special lightning rod to help Garth transmute himself to normal. He then rejoined his team as they pushed into the <a href=\"../../dc-multiverse/12-43603/\" rel=\"nofollow \">multiverse</a> as the new <a href=\"../../wanderers/65-47418/\" rel=\"nofollow \">Wanderers</a>.</p><h2>Powers &amp; Abilities</h2><h3>Electricity Control</h3><figure data-align=\"right\" data-img-src=\"https://static.comicvine.com/uploads/original/2/26503/506307-sensor26.jpg\" data-ref-id=\"1300-506307\" data-size=\"medium\" data-ratio=\"1.3312693498452\" data-width=\"646\" data-embed-type=\"image\" style=\"width: 646px\"><a class=\"fluid-height\" style=\"padding-bottom:133.1%\" href=\"https://static.comicvine.com/uploads/original/2/26503/506307-sensor26.jpg\" data-ref-id=\"1300-506307\"><img alt=\"Lightning Powers\" src=\"data:image/gif;base64,R0lGODlhAQABAAAAACH5BAEKAAEALAAAAAABAAEAAAICTAEAOw==\" sizes=\"(max-width: 480px) 100vw, 480px\" data-width=\"480\" class=\"js-lazy-load-image\" data-src=\"https://comicvine.gamespot.com/a/uploads/scale_medium/2/26503/506307-sensor26.jpg\" data-srcset=\"https://comicvine.gamespot.com/a/uploads/original/2/26503/506307-sensor26.jpg 646w, https://comicvine.gamespot.com/a/uploads/scale_medium/2/26503/506307-sensor26.jpg 480w\"><noscript><img alt=\"Lightning Powers\" src=\"https://comicvine.gamespot.com/a/uploads/scale_medium/2/26503/506307-sensor26.jpg\" srcset=\"https://comicvine.gamespot.com/a/uploads/original/2/26503/506307-sensor26.jpg 646w, https://comicvine.gamespot.com/a/uploads/scale_medium/2/26503/506307-sensor26.jpg 480w\" sizes=\"(max-width: 480px) 100vw, 480px\" data-width=\"480\"></noscript></a><figcaption>Lightning Powers</figcaption></figure><p>Lightning Lad has the ability to generate electricity and direct bolts of electricity accurately. Lightning Lad can use his power destructively, such as to short-circuit electrical items, split boulders, burn objects with precision or shatter walls. He can also reduce the force of his bolts so that they will only stun. He can send his electricity through conductive metals. He has a degree of immunity to electrical charge; in fact, they give him more strength to use his power. In some instances he has a robotic right arm that is powered by his lightning power.</p><h3>Equipment</h3><p>As a member of the Legion of Super-Heroes, Lightning Lad possesses a <a href=\"../../legion-flight-ring/18-47353/\" rel=\"nofollow \">Legion Flight Ring</a>. The ring gives its wearer the ability to fly, the speed and range of which is determined by the wearer\\'s willpower. It also acts as a long-range communicator (enabling constant vocal contact with other Legionnaires, even across vast distances of space), a signal device, and a navigational compass, all powered by a micro-computer built inside the ring.</p><h2>Other Versions</h2><h3>Silver Age: Lightning Man</h3><p>In the original debut of the Legion of Supervillians, this team came from a time when the Legion of Superheroes had reach adulthood. Among the members it also was Lightning Man, an adult version of Garth. Superboy and later Superman would meet several times this possible future for the Legion. The concept would be revisited after Flashpoint. (<em>Note:This Lightning man must not to be confused with an alternate identity of Superman, also used in the Silver Age</em>).</p><h3>Five Years Later / Batch SW6</h3><figure data-align=\"right\" data-img-src=\"https://static.comicvine.com/uploads/original/0/3664/196791-77896-lightning-lad.jpg\" data-ref-id=\"1300-196791\" data-size=\"small\" data-ratio=\"1.5906040268456\" data-width=\"298\" data-embed-type=\"image\" style=\"width: 298px\"><a class=\"fluid-height\" style=\"padding-bottom:159.1%\" href=\"https://static.comicvine.com/uploads/original/0/3664/196791-77896-lightning-lad.jpg\" data-ref-id=\"1300-196791\"><img alt=\"Live Wire (Batch SW6)\" src=\"data:image/gif;base64,R0lGODlhAQABAAAAACH5BAEKAAEALAAAAAABAAEAAAICTAEAOw==\" sizes=\"(max-width: 298px) 100vw, 298px\" data-width=\"298\" class=\"js-lazy-load-image\" data-src=\"https://comicvine.gamespot.com/a/uploads/original/0/3664/196791-77896-lightning-lad.jpg\" data-srcset=\"https://comicvine.gamespot.com/a/uploads/original/0/3664/196791-77896-lightning-lad.jpg 298w\"><noscript><img alt=\"Live Wire (Batch SW6)\" src=\"https://comicvine.gamespot.com/a/uploads/original/0/3664/196791-77896-lightning-lad.jpg\" srcset=\"https://comicvine.gamespot.com/a/uploads/original/0/3664/196791-77896-lightning-lad.jpg 298w\" sizes=\"(max-width: 298px) 100vw, 298px\" data-width=\"298\"></noscript></a><figcaption>Live Wire (Batch SW6)</figcaption></figure><p>Months beforehand, young counterparts from the Legion\\'s early days surfaced among <a href=\"../../dominators/65-56539/\" rel=\"nofollow \">Dominator</a> experiments on Earth. A young Lightning Lad, complete with restored arm, was among their number and had the hotshot personality of the original Garth. His team went on to become the Legionnaires of New Earth and Garth took on the name Live Wire. Live Wire ultimately merged with the elder Lightning Lad during Zero Hour.</p><h2>Other Media</h2><h3>Television</h3><h4>DC Animated Universe</h4><figure data-align=\"right\" data-img-src=\"https://static.comicvine.com/uploads/original/2/26503/534410-lightning_lad.jpg\" data-ref-id=\"1300-534410\" data-size=\"medium\" data-ratio=\"0.75\" data-width=\"400\" data-embed-type=\"image\" style=\"width: 400px\"><a class=\"fluid-height\" style=\"padding-bottom:75.0%\" href=\"https://static.comicvine.com/uploads/original/2/26503/534410-lightning_lad.jpg\" data-ref-id=\"1300-534410\"><img alt=\"Lightning Lad on JLU\" src=\"data:image/gif;base64,R0lGODlhAQABAAAAACH5BAEKAAEALAAAAAABAAEAAAICTAEAOw==\" sizes=\"(max-width: 400px) 100vw, 400px\" data-width=\"400\" class=\"js-lazy-load-image\" data-src=\"https://comicvine.gamespot.com/a/uploads/original/2/26503/534410-lightning_lad.jpg\" data-srcset=\"https://comicvine.gamespot.com/a/uploads/original/2/26503/534410-lightning_lad.jpg 400w\"><noscript><img alt=\"Lightning Lad on JLU\" src=\"https://comicvine.gamespot.com/a/uploads/original/2/26503/534410-lightning_lad.jpg\" srcset=\"https://comicvine.gamespot.com/a/uploads/original/2/26503/534410-lightning_lad.jpg 400w\" sizes=\"(max-width: 400px) 100vw, 400px\" data-width=\"400\"></noscript></a><figcaption>Lightning Lad on JLU</figcaption></figure><p>Lightning Lad had small, non-speaking roles in the Legion\\'s appearances on both <i>Superman: the Animated Series</i> and <i>Justice League Unlimited</i><i>.</i></p><p>The <a href=\"/superman/4005-1807/\" data-ref-id=\"4005-1807\">Superman</a> episode \"New Kids in Town\" featured him as one of several Legionnaires back in the 30th century. The JLU episode \"Far From Home\" featured Garth as one of many Legionnaires possessed by the <a href=\"/emerald-eye-of-ekron/4055-48914/\" data-ref-id=\"4055-48914\">Emerald Eye</a> and willing to attack Supergirl. He, along with the rest of the Legion, was ultimately freed.</p><h4>Superman &amp; The Legion of Super-Heroes</h4><figure data-align=\"right\" data-img-src=\"https://static.comicvine.com/uploads/original/2/26503/502416-200px_lightning_lad___dcau_04.jpg\" data-ref-id=\"1300-502416\" data-size=\"medium\" data-ratio=\"1.246835443038\" data-width=\"316\" data-embed-type=\"image\" style=\"width: 316px\"><a class=\"fluid-height\" style=\"padding-bottom:124.7%\" href=\"https://static.comicvine.com/uploads/original/2/26503/502416-200px_lightning_lad___dcau_04.jpg\" data-ref-id=\"1300-502416\"><img alt=\"Lightning Lad on Legion\" src=\"data:image/gif;base64,R0lGODlhAQABAAAAACH5BAEKAAEALAAAAAABAAEAAAICTAEAOw==\" sizes=\"(max-width: 316px) 100vw, 316px\" data-width=\"316\" class=\"js-lazy-load-image\" data-src=\"https://comicvine.gamespot.com/a/uploads/original/2/26503/502416-200px_lightning_lad___dcau_04.jpg\" data-srcset=\"https://comicvine.gamespot.com/a/uploads/original/2/26503/502416-200px_lightning_lad___dcau_04.jpg 316w\"><noscript><img alt=\"Lightning Lad on Legion\" src=\"https://comicvine.gamespot.com/a/uploads/original/2/26503/502416-200px_lightning_lad___dcau_04.jpg\" srcset=\"https://comicvine.gamespot.com/a/uploads/original/2/26503/502416-200px_lightning_lad___dcau_04.jpg 316w\" sizes=\"(max-width: 316px) 100vw, 316px\" data-width=\"316\"></noscript></a><figcaption>Lightning Lad on Legion</figcaption></figure><p>Lightning Lad was a main character on the two seasons of the animated Legion of Super-Heroes show. He had an origin similar to the comic books, though this time his sister Ayla didn\\'t survive the attack by the lightning beasts as children. This same event also left Garth with a lightning bolt scar over one eye, which lit up when he used his powers. During the two seasons of the show, Garth had a flirtation with Saturn Girl but never properly developed a romance. He often butted heads with fellow co-founder Cosmic Boy on issues and Saturn Girl specifically. He appeared in every episode of season one and all but \"Cry Wolf\", \"Unnatural Alliances\", and \"Trials\" in season two.</p><p>In season one, Garth joined the Legion of Super-Villains to be with his brother Mekt and leave behind his immature Legion teammates but quickly learned the team wasn\\'t for him. In season two, Garth lost his arm to his brother and <a href=\"/imperiex/4005-10006/\" data-ref-id=\"4005-10006\">Imperiex</a> and was given a cybernetic one. On the same adventure, Garth was able to reconstitute his sister, who had been existing as a lightning cloud since her disappearance.</p><h4>Smallville</h4><figure data-align=\"right\" data-img-src=\"https://static.comicvine.com/uploads/original/2/26503/759249-lightninglad1.jpg\" data-ref-id=\"1300-759249\" data-size=\"medium\" data-ratio=\"1.3157894736842\" data-width=\"380\" data-embed-type=\"image\" style=\"width: 380px\"><a class=\"fluid-height\" style=\"padding-bottom:131.6%\" href=\"https://static.comicvine.com/uploads/original/2/26503/759249-lightninglad1.jpg\" data-ref-id=\"1300-759249\"><img alt=\"Lightning Lad on Smallville\" src=\"data:image/gif;base64,R0lGODlhAQABAAAAACH5BAEKAAEALAAAAAABAAEAAAICTAEAOw==\" sizes=\"(max-width: 380px) 100vw, 380px\" data-width=\"380\" class=\"js-lazy-load-image\" data-src=\"https://comicvine.gamespot.com/a/uploads/original/2/26503/759249-lightninglad1.jpg\" data-srcset=\"https://comicvine.gamespot.com/a/uploads/original/2/26503/759249-lightninglad1.jpg 380w\"><noscript><img alt=\"Lightning Lad on Smallville\" src=\"https://comicvine.gamespot.com/a/uploads/original/2/26503/759249-lightninglad1.jpg\" srcset=\"https://comicvine.gamespot.com/a/uploads/original/2/26503/759249-lightninglad1.jpg 380w\" sizes=\"(max-width: 380px) 100vw, 380px\" data-width=\"380\"></noscript></a><figcaption>Lightning Lad on Smallville</figcaption></figure><p>Garth was one of the founding Legionnaires who traveled to 20th century Smallville in the same-titled show, episode called \"Legion.\" He acted and appeared to be the youngest of the founding Legionnaires. Lightning Lad was there alongside Cosmic Boy and Saturn Girl to ward off the <a href=\"/persuader/4005-5940/\" data-ref-id=\"4005-5940\">Persuader</a> and help stop Brainiac by any means necessary, including killing Brainiac\\'s host. Clark taught the Legionnaires that killing was never the answer and they decide to adopt a no killing policy in their Legion Constitution upon successfully capturing Brainiac without injuring its host. Garth and the others then returned to the future. Garth was portrayed by Calum Worthy.</p>',\n",
       " 'first_appeared_in_issue': {'api_detail_url': 'https://comicvine.gamespot.com/api/first_appeared_in_issue/4000-114594/',\n",
       "  'id': 114594,\n",
       "  'name': 'The Legion of Super-Heroes',\n",
       "  'issue_number': '247'},\n",
       " 'gender': 1,\n",
       " 'id': 1253,\n",
       " 'image': {'icon_url': 'https://comicvine.gamespot.com/a/uploads/square_avatar/6/68065/7666828-lightninglad05.jpg',\n",
       "  'medium_url': 'https://comicvine.gamespot.com/a/uploads/scale_medium/6/68065/7666828-lightninglad05.jpg',\n",
       "  'screen_url': 'https://comicvine.gamespot.com/a/uploads/screen_medium/6/68065/7666828-lightninglad05.jpg',\n",
       "  'screen_large_url': 'https://comicvine.gamespot.com/a/uploads/screen_kubrick/6/68065/7666828-lightninglad05.jpg',\n",
       "  'small_url': 'https://comicvine.gamespot.com/a/uploads/scale_small/6/68065/7666828-lightninglad05.jpg',\n",
       "  'super_url': 'https://comicvine.gamespot.com/a/uploads/scale_large/6/68065/7666828-lightninglad05.jpg',\n",
       "  'thumb_url': 'https://comicvine.gamespot.com/a/uploads/scale_avatar/6/68065/7666828-lightninglad05.jpg',\n",
       "  'tiny_url': 'https://comicvine.gamespot.com/a/uploads/square_mini/6/68065/7666828-lightninglad05.jpg',\n",
       "  'original_url': 'https://comicvine.gamespot.com/a/uploads/original/6/68065/7666828-lightninglad05.jpg',\n",
       "  'image_tags': 'All Images'},\n",
       " 'name': 'Lightning Lad',\n",
       " 'origin': {'api_detail_url': 'https://comicvine.gamespot.com/api/origin/4030-3/',\n",
       "  'id': 3,\n",
       "  'name': 'Alien'},\n",
       " 'publisher': {'api_detail_url': 'https://comicvine.gamespot.com/api/publisher/4010-10/',\n",
       "  'id': 10,\n",
       "  'name': 'DC Comics'},\n",
       " 'real_name': 'Garth Ranzz',\n",
       " 'site_detail_url': 'https://comicvine.gamespot.com/lightning-lad/4005-1253/'}"
      ]
     },
     "execution_count": 11,
     "metadata": {},
     "output_type": "execute_result"
    }
   ],
   "source": [
    "cha_dict['results'][0]"
   ]
  }
 ],
 "metadata": {
  "kernelspec": {
   "display_name": "data-emat_fa24",
   "language": "python",
   "name": "python3"
  },
  "language_info": {
   "codemirror_mode": {
    "name": "ipython",
    "version": 3
   },
   "file_extension": ".py",
   "mimetype": "text/x-python",
   "name": "python",
   "nbconvert_exporter": "python",
   "pygments_lexer": "ipython3",
   "version": "3.12.4"
  }
 },
 "nbformat": 4,
 "nbformat_minor": 2
}
