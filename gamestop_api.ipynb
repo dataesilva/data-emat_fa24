{
 "cells": [
  {
   "cell_type": "code",
   "execution_count": 1,
   "id": "f4f4a6d9-d29a-41de-8906-c81129e6a84e",
   "metadata": {},
   "outputs": [],
   "source": [
    "import pandas as pd\n",
    "import requests\n",
    "import json"
   ]
  },
  {
   "cell_type": "code",
   "execution_count": 5,
   "id": "860b311d-ec43-4d7a-92a8-b1a89aefdf70",
   "metadata": {},
   "outputs": [],
   "source": [
    "key = pd.read_csv(r\"C:\\Users\\dsilva2\\Desktop\\My-Key.txt\")\n",
    "key_string = key['My-Key'].iloc[0]"
   ]
  },
  {
   "cell_type": "code",
   "execution_count": 11,
   "id": "6170fe78-d143-4836-8932-fafae2ce6b95",
   "metadata": {},
   "outputs": [],
   "source": [
    "header = {'User-agent': 'Mozilla/5.0'}\n",
    "reviews_endpoint = 'http://www.gamespot.com/api/reviews/'\n",
    "url_key = '?api_key=' + key_string\n",
    "url_format = '&format=json'\n",
    "url_sort = '&sort=score:desc'\n"
   ]
  },
  {
   "cell_type": "code",
   "execution_count": 12,
   "id": "dbc4fe50-6192-4d3e-9449-cd64418be025",
   "metadata": {},
   "outputs": [
    {
     "data": {
      "text/plain": [
       "'http://www.gamespot.com/api/reviews/?api_key=;lkasjd;flkja;ldkfj&format=json&sort=score:desc'"
      ]
     },
     "execution_count": 12,
     "metadata": {},
     "output_type": "execute_result"
    }
   ],
   "source": [
    "reviews_endpoint + url_key + url_format + url_sort"
   ]
  },
  {
   "cell_type": "code",
   "execution_count": 13,
   "id": "2d6b0c34-ef1d-495e-91dc-1060df7517f2",
   "metadata": {},
   "outputs": [
    {
     "data": {
      "text/plain": [
       "401"
      ]
     },
     "execution_count": 13,
     "metadata": {},
     "output_type": "execute_result"
    }
   ],
   "source": [
    "response1 = requests.get(reviews_endpoint + url_key + url_format + url_sort + , headers = header)\n",
    "response1.status_code"
   ]
  },
  {
   "cell_type": "code",
   "execution_count": 15,
   "id": "0ee444e2-10dc-4695-a13b-5b7bc3669016",
   "metadata": {},
   "outputs": [
    {
     "data": {
      "text/plain": [
       "dict_keys(['error', 'limit', 'offset', 'number_of_page_results', 'number_of_total_results', 'status_code', 'results'])"
      ]
     },
     "execution_count": 15,
     "metadata": {},
     "output_type": "execute_result"
    }
   ],
   "source": [
    "response_dict = json.loads(response1.text)\n",
    "response_dict.keys()"
   ]
  },
  {
   "cell_type": "code",
   "execution_count": 16,
   "id": "6ba9191e-f66f-4352-ab4f-3ceed92bc832",
   "metadata": {},
   "outputs": [
    {
     "data": {
      "text/plain": [
       "[]"
      ]
     },
     "execution_count": 16,
     "metadata": {},
     "output_type": "execute_result"
    }
   ],
   "source": [
    "response_dict['results']"
   ]
  }
 ],
 "metadata": {
  "kernelspec": {
   "display_name": "Python 3 (ipykernel)",
   "language": "python",
   "name": "python3"
  },
  "language_info": {
   "codemirror_mode": {
    "name": "ipython",
    "version": 3
   },
   "file_extension": ".py",
   "mimetype": "text/x-python",
   "name": "python",
   "nbconvert_exporter": "python",
   "pygments_lexer": "ipython3",
   "version": "3.12.0"
  }
 },
 "nbformat": 4,
 "nbformat_minor": 5
}
